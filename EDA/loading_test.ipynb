{
 "cells": [
  {
   "cell_type": "markdown",
   "metadata": {},
   "source": [
    "# Dataset Loader and Train Sampling Approach\n",
    "\n",
    "Brief description of loading methodology and training approach. Shows how we encode row information, the reason for the method and how data sampling is done during training. The general aim is to improve generalization for distributions and hopefully out of distribution information."
   ]
  },
  {
   "cell_type": "code",
   "execution_count": 1,
   "metadata": {},
   "outputs": [],
   "source": [
    "import sys\n",
    "import os\n",
    "\n",
    "script_dir = os.path.dirname(os.path.abspath('loading_test.ipynb'))\n",
    "parent_directory = os.path.dirname(script_dir)\n",
    "module_directory = os.path.join(parent_directory, 'module') \n",
    "utils_directory = os.path.join(parent_directory, 'utils') \n",
    "\n",
    "if (parent_directory not in sys.path):\n",
    "    sys.path.append(parent_directory)\n",
    "    \n",
    "if (module_directory not in sys.path):\n",
    "    sys.path.append(module_directory)\n",
    "    \n",
    "if (utils_directory not in sys.path):\n",
    "    sys.path.append(utils_directory)  \n",
    "    \n",
    "\n",
    "from module.preprocess.load_and_batch import DataBatcher\n",
    "from utils import config"
   ]
  },
  {
   "cell_type": "markdown",
   "metadata": {},
   "source": [
    "# How to Load Already Split Dataset"
   ]
  },
  {
   "cell_type": "code",
   "execution_count": 2,
   "metadata": {},
   "outputs": [
    {
     "name": "stdout",
     "output_type": "stream",
     "text": [
      "------> Size of categorical columns: 185 <------\n",
      "------> Size of numeric columns: 35 <------\n"
     ]
    }
   ],
   "source": [
    "info = DataBatcher()\n",
    "\n",
    "info.load_and_process(base_loc=config.DATA_LOCATION, minority_loc=config.SPLIT_DATASETS+'target.csv', majority_loc=config.SPLIT_DATASETS+f\"dataset_{config.DATASET_CONFIG['split_to_load']}.csv\", \n",
    "train_test_split=config.DATASET_CONFIG['train_test_split'],\n",
    "validation_split=config.DATASET_CONFIG['validation_split'],\n",
    "training = config.DATASET_CONFIG['training_stage'])"
   ]
  },
  {
   "cell_type": "markdown",
   "metadata": {},
   "source": [
    "# Conversion of Row Information to Text Format\n",
    "\n",
    "This section is designed to semantically enrich column data by converting them to a structured text format. Metadata is stored within `<tag>` elements, aiding in preprocessing as detailed in the `number_encoder` notebook. For context the tags used are `<|AMOUNT|>`, `<|NUM|>`, `<|DATE|>`\n",
    "\n",
    "### Process\n",
    "- **Data Conversion**: Each table row is converted into a list where each entry contains the text description and values of all associated tags.\n",
    "- **Metadata Tags**: These are used to differentiate data types during preprocessing, improving model efficiency.\n",
    "- **Numeric Handling**:\n",
    "  - Numeric values such as integers from 0 to 9 are not tagged as they are directly encodable by most tokenizers.\n",
    "  - Other numerics like floats and negative numbers are tagged and processed differently to optimize their representation.\n",
    "- **Special Cases**:\n",
    "  - Blocks with null values are explicitly tagged as \"empty\" to manage missing data ercessing step. \n",
    "ningful data.\n",
    "n meaningful data.\n",
    "n meaningful data.\n",
    "n meaningful data.\n"
   ]
  },
  {
   "cell_type": "code",
   "execution_count": 3,
   "metadata": {},
   "outputs": [
    {
     "name": "stdout",
     "output_type": "stream",
     "text": [
      "actualdpdtolerance_344P is number 0, amtinstpaidbefduel24m_4187115A is <|AMOUNT|>, annuity_780A is <|AMOUNT|>, annuitynextmonth_57A is <|AMOUNT|>, applicationcnt_361L is number 0, applications30d_658L is number 0, applicationscnt_1086L is number 0, applicationscnt_464L is number 0, applicationscnt_629L is number 0, applicationscnt_867L is number 1, avgdbddpdlast24m_3658932P is <|NUM|>, avgdbddpdlast3m_4187120P is <|NUM|>, avgdbdtollast24m_4525197P is <|NUM|>, avgdpdtolclosure24_3658938P is number 0, avginstallast24m_3658937A is <|AMOUNT|>, avglnamtstart24m_4525187A is <|AMOUNT|>, avgmaxdpdlast9m_3716943P is number 0, avgoutstandbalancel6m_4187114A is <|AMOUNT|>, avgpmtlast12m_4525200A is <|AMOUNT|>, bankacctype_710L is empty, cardtype_51L is empty, clientscnt12m_3712952L is number 0, clientscnt3m_3712950L is number 0, clientscnt6m_3712949L is number 0, clientscnt_100L is number 0, clientscnt_1022L is number 0, clientscnt_1071L is number 0, clientscnt_1130L is number 0, clientscnt_136L is empty, clientscnt_157L is number 0, clientscnt_257L is number 0, clientscnt_304L is number 0, clientscnt_360L is number 0, clientscnt_493L is number 0, clientscnt_533L is number 0, clientscnt_887L is number 0, clientscnt_946L is number 0, cntincpaycont9m_3716944L is number 5, cntpmts24_3658933L is number 5, commnoinclast6m_3546845L is number 0, credamount_770A is <|AMOUNT|>, credtype_322L is COL, currdebt_22A is <|AMOUNT|>, currdebtcredtyperange_828A is <|AMOUNT|>, datefirstoffer_1144D is empty, datelastinstal40dpd_247D is empty, datelastunpaid_3546854D is empty, daysoverduetolerancedd_3976961L is number 0, deferredmnthsnum_166L is number 0, disbursedcredamount_1113A is <|AMOUNT|>, disbursementtype_67L is SBA, downpmt_116A is amount 0, dtlastpmtallstes_4499206D is <|DATE|>, eir_270L is number 0, equalitydataagreement_891L is empty, equalityempfrom_62L is empty, firstclxcampaign_1125D is empty, firstdatedue_489D is <|DATE|>, homephncnt_628L is number 0, inittransactionamount_650A is empty, inittransactioncode_186L is POS, interestrate_311L is number 0, interestrategrace_34L is empty, isbidproduct_1095L is number 0, isbidproductrequest_292L is empty, isdebitcard_729L is empty, lastactivateddate_801D is <|DATE|>, lastapplicationdate_877D is <|DATE|>, lastapprcommoditycat_1041M is P159_130_59, lastapprcommoditytypec_5251766M is a55475b1, lastapprcredamount_781A is <|AMOUNT|>, lastapprdate_640D is <|DATE|>, lastcancelreason_561M is a55475b1, lastdelinqdate_224D is empty, lastdependentsnum_448L is empty, lastotherinc_902A is empty, lastotherlnsexpense_631A is empty, lastrejectcommoditycat_161M is P12_6_178, lastrejectcommodtypec_5251769M is a55475b1, lastrejectcredamount_222A is <|AMOUNT|>, lastrejectdate_50D is <|DATE|>, lastrejectreason_759M is a55475b1, lastrejectreasonclient_4145040M is a55475b1, lastrepayingdate_696D is empty, lastst_736L is A, maininc_215A is <|AMOUNT|>, mastercontrelectronic_519L is number 0, mastercontrexist_109L is number 0, maxannuity_159A is <|AMOUNT|>, maxannuity_4075009A is empty, maxdbddpdlast1m_3658939P is <|NUM|>, maxdbddpdtollast12m_3658940P is <|NUM|>, maxdbddpdtollast6m_4187119P is <|NUM|>, maxdebt4_972A is <|AMOUNT|>, maxdpdfrom6mto36m_3546853P is number 0, maxdpdinstldate_3546855D is empty, maxdpdinstlnum_3546846P is empty, maxdpdlast12m_727P is number 0, maxdpdlast24m_143P is number 0, maxdpdlast3m_392P is number 0, maxdpdlast6m_474P is number 0, maxdpdlast9m_1059P is number 0, maxdpdtolerance_374P is number 0, maxinstallast24m_3658928A is <|AMOUNT|>, maxlnamtstart6m_4525199A is <|AMOUNT|>, maxoutstandbalancel12m_4187113A is <|AMOUNT|>, maxpmtlast3m_4525190A is <|AMOUNT|>, mindbddpdlast24m_3658935P is <|NUM|>, mindbdtollast24m_4525191P is <|NUM|>, mobilephncnt_593L is number 2, monthsannuity_845L is number 4, numactivecreds_622L is number 1, numactivecredschannel_414L is number 1, numactiverelcontr_750L is number 0, numcontrs3months_479L is number 0, numincomingpmts_3546848L is number 5, numinstlallpaidearly3d_817L is number 5, numinstls_657L is <|NUM|>, numinstlsallpaid_934L is number 5, numinstlswithdpd10_728L is number 0, numinstlswithdpd5_4187116L is number 0, numinstlswithoutdpd_562L is number 5, numinstmatpaidtearly2d_4499204L is number 5, numinstpaid_4499208L is number 5, numinstpaidearly3d_3546850L is number 5, numinstpaidearly3dest_4493216L is number 5, numinstpaidearly5d_1087L is number 3, numinstpaidearly5dest_4493211L is number 3, numinstpaidearly5dobd_4499205L is number 3, numinstpaidearly_338L is number 3, numinstpaidearlyest_4493214L is number 3, numinstpaidlastcontr_4325080L is number 5, numinstpaidlate1d_3546852L is number 0, numinstregularpaid_973L is number 5, numinstregularpaidest_4493210L is number 5, numinsttopaygr_769L is number 7, numinsttopaygrest_4493213L is number 7, numinstunpaidmax_3546851L is number 7, numinstunpaidmaxest_4493212L is number 7, numnotactivated_1143L is number 0, numpmtchanneldd_318L is number 0, numrejects9m_859L is number 0, opencred_647L is number 0, paytype1st_925L is OTHER, paytype_783L is OTHER, payvacationpostpone_4187118D is empty, pctinstlsallpaidearl3d_427L is number 1, pctinstlsallpaidlat10d_839L is number 0, pctinstlsallpaidlate1d_3546856L is number 0, pctinstlsallpaidlate4d_3546849L is number 0, pctinstlsallpaidlate6d_3546844L is number 0, pmtnum_254L is <|NUM|>, posfpd10lastmonth_333P is number 0, posfpd30lastmonth_3976960P is number 0, posfstqpd30lastmonth_3976962P is empty, previouscontdistrict_112M is P200_90_176, price_1097A is <|AMOUNT|>, sellerplacecnt_915L is number 0, sellerplacescnt_216L is number 1, sumoutstandtotal_3546847A is <|AMOUNT|>, sumoutstandtotalest_4493215A is <|AMOUNT|>, totaldebt_9A is <|AMOUNT|>, totalsettled_863A is <|AMOUNT|>, totinstallast1m_4525188A is <|AMOUNT|>, twobodfilling_608L is FO, typesuite_864L is empty, validfrom_1069D is empty, assignmentdate_238D is empty, assignmentdate_4527235D is empty, assignmentdate_4955616D is empty, birthdate_574D is empty, contractssum_5085716L is empty, dateofbirth_337D is <|DATE|>, dateofbirth_342D is empty, days120_123L is number 2, days180_256L is number 3, days30_165L is number 0, days360_512L is number 3, days90_310L is number 2, description_5085714M is a55475b1, education_1103M is 6b2ae0fa, education_88M is a55475b1, firstquarter_103L is number 2, for3years_128L is empty, for3years_504L is empty, for3years_584L is empty, formonth_118L is empty, formonth_206L is empty, formonth_535L is empty, forquarter_1017L is empty, forquarter_462L is empty, forquarter_634L is empty, fortoday_1092L is empty, forweek_1077L is empty, forweek_528L is empty, forweek_601L is empty, foryear_618L is empty, foryear_818L is empty, foryear_850L is empty, fourthquarter_440L is number 2, maritalst_385M is 3439d993, maritalst_893M is a55475b1, numberofqueries_373L is number 3, pmtaverage_3A is empty, pmtaverage_4527227A is empty, pmtaverage_4955615A is empty, pmtcount_4527229L is empty, pmtcount_4955617L is empty, pmtcount_693L is empty, pmtscount_423L is empty, pmtssum_45A is empty, requesttype_4525192L is DEDUCTION_6, responsedate_1012D is empty, responsedate_4527233D is <|DATE|>, responsedate_4917613D is empty, riskassesment_302T is empty, riskassesment_940T is empty, secondquarter_766L is number 1, thirdquarter_1082L is number 0, date_decision is <|DATE|>\n",
      "169\n",
      "93\n",
      "132\n"
     ]
    }
   ],
   "source": [
    "batch = info.get_meta_data(\n",
    "        batch_size=20,\n",
    "        data_type=\"train\",\n",
    "        ignore_list=[\"case_id\"],\n",
    "        output_list=[\"WEEK_NUM\", \"target\"],\n",
    "    )\n",
    "    \n",
    "print(f\"Text: \\n{batch.texts[0][:10]}\")\n",
    "print(\"\\n-------------------------------------\")\n",
    "print(f\"# of amount tags found in the batch: {len(batch.get_data(\"amount\"))}\")\n",
    "print(f\"# of number tags found in the batch: {len(batch.get_data(\"number\"))}\")\n",
    "print(f\"# of date tags found in the batch: {len(batch.get_data(\"date\"))}\")    "
   ]
  },
  {
   "cell_type": "markdown",
   "metadata": {},
   "source": [
    "## Note\n",
    " - The method of directly encoding integers between \"0 and 9\" is to focus the number encoder on more challenging tasks.\n",
    " - Replacing null blocks with \"empty\" rather than using a statistical measure [mean, mode, etc] is to maintain the 1 to 1 mapping between the original table and text hereby reducing the preprocessing step."
   ]
  },
  {
   "cell_type": "markdown",
   "metadata": {},
   "source": [
    "# Testing Random Sampling Strategy in Training\n",
    "\n",
    "### Purpose\n",
    "Random sampling is employed during the training phase to address specific challenges and improve model performance#\n",
    "\n",
    "### Reasons for Random Sampling\n",
    "- **Generalization**: This approach helps the network generalize more effectively by exposing it to a diverse range of input distributions.\n",
    "- **Imbalanced Data**: Our dataset is imbalanced. Random sampling facilitates various techniques such as undersampling, oversampling, or utilizing the natural distribution of the data across different training epochs to mitigatprogresses.of the model.\n"
   ]
  },
  {
   "cell_type": "code",
   "execution_count": 4,
   "metadata": {},
   "outputs": [
    {
     "name": "stdout",
     "output_type": "stream",
     "text": [
      "Minority percentage: 0.28\n"
     ]
    }
   ],
   "source": [
    "info.train.new_epoch_prep(force_other=True)\n",
    "batch = info.get_meta_data(\n",
    "        batch_size=128,\n",
    "        data_type=\"train\",\n",
    "        ignore_list=[\"case_id\"],\n",
    "        output_list=[\"WEEK_NUM\", \"target\"],\n",
    "    )\n",
    "print(f\"Minority percentage: {round(info.train.samp_percentage, 2)}\")"
   ]
  },
  {
   "cell_type": "code",
   "execution_count": 5,
   "metadata": {},
   "outputs": [
    {
     "name": "stdout",
     "output_type": "stream",
     "text": [
      "Minority percentage: 0.24\n"
     ]
    }
   ],
   "source": [
    "info.train.choose_sampling_strat(force_other=True)\n",
    "batch = info.get_meta_data(\n",
    "        batch_size=128,\n",
    "        data_type=\"train\",\n",
    "        ignore_list=[\"case_id\"],\n",
    "        output_list=[\"WEEK_NUM\", \"target\"],\n",
    "    )\n",
    "print(f\"Minority percentage: {round(info.train.samp_percentage, 2)}\")"
   ]
  },
  {
   "cell_type": "code",
   "execution_count": 6,
   "metadata": {},
   "outputs": [
    {
     "name": "stdout",
     "output_type": "stream",
     "text": [
      "Minority percentage: 0.34\n"
     ]
    }
   ],
   "source": [
    "info.train.new_epoch_prep(force_other=True)\n",
    "batch = info.get_meta_data(\n",
    "        batch_size=128,\n",
    "        data_type=\"train\",\n",
    "        ignore_list=[\"case_id\"],\n",
    "        output_list=[\"WEEK_NUM\", \"target\"],\n",
    "    )\n",
    "print(f\"Minority percentage: {round(info.train.samp_percentage, 2)}\")"
   ]
  },
  {
   "cell_type": "markdown",
   "metadata": {},
   "source": [
    "## Implementation Details\n",
    "- **Stratified Batching**: For every batch, we ensure that the target variable is stratified. This means that each batch will have an even distribution of each class of the target variable, enhancing the reliability of model training outcomes.\n",
    "- **Dynamic Sampling Adjustment**: The `choose_sampling_strat` function is pivotal in this setup. It adjusts the sampling strategy and the specific percentage of samples for each epoch, allowing us to adapt to the changing needs of the model as training progresses. We use feedback from the previous run to adjust sampling strategy for the next run\n",
    "\n",
    "## Note\n",
    "These strategies are crucial for tackling common issues such as overfitting and bias due to imbalanced datasets, thus boosting the overall efficacy and fairness of the model."
   ]
  }
 ],
 "metadata": {
  "kernelspec": {
   "display_name": "Python 3 (ipykernel)",
   "language": "python",
   "name": "python3"
  },
  "language_info": {
   "codemirror_mode": {
    "name": "ipython",
    "version": 3
   },
   "file_extension": ".py",
   "mimetype": "text/x-python",
   "name": "python",
   "nbconvert_exporter": "python",
   "pygments_lexer": "ipython3",
   "version": "3.11.8"
  }
 },
 "nbformat": 4,
 "nbformat_minor": 4
}
