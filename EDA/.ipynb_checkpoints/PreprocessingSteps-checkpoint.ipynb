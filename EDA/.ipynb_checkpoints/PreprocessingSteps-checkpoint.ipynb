{
 "cells": [
  {
   "cell_type": "markdown",
   "id": "dce4d2b3-89ff-456f-988f-2834945f5777",
   "metadata": {},
   "source": [
    "<h1 style=\"color: navy; text-align: center;\">Credit Risk Model Exploratory Data Analysis</h1>\n",
    "<p style=\"text-align: justify; font-size: 16px;\">\n",
    "This notebook delves into the dataset's data exploration, providing insights crucial for evaluating the default risk of potential clients. By enabling consumer finance providers to approve a higher number of loan applications, this analysis contributes to improving the financial inclusiveness of individuals previously excluded due to insufficient credit history.\n",
    "</p>\n"
   ]
  },
  {
   "cell_type": "code",
   "execution_count": 2,
   "id": "0cff257e-b1de-4174-809c-2c5e5e8da09c",
   "metadata": {},
   "outputs": [],
   "source": [
    "import sys\n",
    "import polars as pl\n",
    "import numpy as np\n",
    "import pandas as pd\n",
    "import seaborn as sns\n",
    "import matplotlib.pyplot as plt\n",
    "import matplotlib.ticker as ticker\n",
    "\n",
    "sns.set_style(\"white\")\n",
    "sns.set_palette(\"colorblind\") \n",
    "sns.set_context(\"talk\")\n",
    "\n",
    "from helpers import *"
   ]
  },
  {
   "cell_type": "markdown",
   "id": "e78824ff-8ca3-4847-9bf9-637c7f551cc8",
   "metadata": {},
   "source": [
    "<h1 style=\"color: navy; font-family: Verdana, Geneva, sans-serif;\">Exploring Information for Depth 0</h1>\n",
    "\n",
    "<p style=\"font-size: 16px; font-family: 'Lucida Grande', 'Lucida Sans Unicode', Arial, sans-serif; color: #333;\">\n",
    "  At depth zero, we have <strong style=\"color: darkred;\">static features</strong> tied to a specific credit case. All the features here can be directly used as predictors.\n",
    "</p>\n"
   ]
  },
  {
   "cell_type": "code",
   "execution_count": 4,
   "id": "7edeb956-9f11-4fd2-8d3b-abcaf3bcbcc1",
   "metadata": {},
   "outputs": [
    {
     "name": "stdout",
     "output_type": "stream",
     "text": [
      "------> Size of dataset without targets (1526659, 220) <------\n",
      "------> Size of dataset with targets (1526659, 224) <------\n"
     ]
    }
   ],
   "source": [
    "base_file_location = 'D:/BrainStation/Project/Credit Risk Model/'\n",
    "\n",
    "# Getting column defintions\n",
    "col_defs = {row['Variable']: row['Description'] for row in pl.read_csv(base_file_location + \"feature_definitions.csv\").to_dicts()}\n",
    "\n",
    "# Merging information\n",
    "final_df = pl.concat([change_column_type(pl.read_csv(base_file_location + \"csv_files/train/train_static_0_0.csv\")), \n",
    "                      change_column_type(pl.read_csv(base_file_location + \"csv_files/train/train_static_0_1.csv\"))], how=\"vertical_relaxed\").join(change_column_type(pl.read_csv(base_file_location + \"csv_files/train/train_static_cb_0.csv\")), on=\"case_id\", how=\"left\")\n",
    "print(f\"------> Size of dataset without targets {final_df.shape} <------\") \n",
    "\n",
    "# extract descriptive information for each column\n",
    "descriptive_col = {col : col_defs[col] for col in final_df.columns[1:]}\n",
    "\n",
    "final_df = final_df.join(change_column_type(pl.read_csv(base_file_location + \"csv_files/train/train_base.csv\")), on=\"case_id\", how=\"inner\")\n",
    "print(f\"------> Size of dataset with targets {final_df.shape} <------\") \n",
    "\n",
    "# adding target columns to descriptive_col\n",
    "descriptive_col['date_decision']= \"This refers to the date when a decision was made regarding the approval of the loan.\"\n",
    "descriptive_col['MONTH']= \"Month the decision was made\"\n",
    "descriptive_col['WEEK_NUM']= \"This is the week number used for aggregation. In the test sample, WEEK_NUM continues sequentially from the last training value of WEEK_NUM\"\n",
    "descriptive_col['target']= \" This is the target value, determined after a certain period based on whether or not the client defaulted on the specific credit case (loan)\"\n"
   ]
  },
  {
   "cell_type": "markdown",
   "id": "f86102e7-2433-4096-9a82-2f20c4bdd2db",
   "metadata": {},
   "source": [
    "<div style=\"text-align: center;\">\n",
    "    <img src=\"images/confused.gif\" 00\" alt=\"Confused\">\n",
    "    <p style=\"text-align: center; font-style: italic; font-weight: bold;\">Just the 224 Columns Then.........</p>\n",
    "</div>"
   ]
  },
  {
   "cell_type": "markdown",
   "id": "bc590898-cb11-41b2-86c0-189d8faa55cb",
   "metadata": {},
   "source": [
    "# Preprocessing Data:"
   ]
  },
  {
   "cell_type": "markdown",
   "id": "f6ad03b1-c8bb-4951-a808-ef2f61d4ebc9",
   "metadata": {},
   "source": [
    "## Contextual information:"
   ]
  },
  {
   "cell_type": "markdown",
   "id": "2f012576-0008-4f68-8b8d-56059832c786",
   "metadata": {},
   "source": [
    "The decision date and month are dropped as it is implied in Week_Num. Week_Num represent the week the decision was made from a reference \"start_date\""
   ]
  },
  {
   "cell_type": "code",
   "execution_count": 5,
   "id": "48a9f02f-4020-42ba-b363-967f1ff1175b",
   "metadata": {},
   "outputs": [],
   "source": [
    "base_reference = final_df['date_decision'].min()\n",
    "final_df = final_df.drop(['date_decision','MONTH']) "
   ]
  },
  {
   "cell_type": "markdown",
   "id": "96cd3b0d-eb50-4dbf-8694-3c5d3c0f5707",
   "metadata": {},
   "source": [
    "Trying to give context to the table. For categorical values we either encode the information or flag that it's empty. In the numeric data case we just tag that the information is present or information isn't present.\n",
    "\n",
    "In the numeric sense: We scale the tables that have information. null values are kept and represented by a specific negative number. This will be masked during the forward pass so it essentially has \"no\" effect on the data. During the pass to maintain the overall signal intensity we scale up other values in the row [depending if the row has masked values or not]. More information later."
   ]
  },
  {
   "cell_type": "markdown",
   "id": "dc4e3471-320f-499c-bfc1-3cb2dd3727a7",
   "metadata": {},
   "source": [
    "### Converting table to text"
   ]
  },
  {
   "cell_type": "markdown",
   "id": "1570f9fc-3bea-46b8-8609-5dada8c3f851",
   "metadata": {},
   "source": [
    "#### Sample Row Information"
   ]
  },
  {
   "cell_type": "code",
   "execution_count": 7,
   "id": "1e081880-bc77-40ad-8390-d05a4a5ca0f9",
   "metadata": {},
   "outputs": [
    {
     "data": {
      "text/html": [
       "<div><style>\n",
       ".dataframe > thead > tr,\n",
       ".dataframe > tbody > tr {\n",
       "  text-align: right;\n",
       "  white-space: pre-wrap;\n",
       "}\n",
       "</style>\n",
       "<small>shape: (1, 222)</small><table border=\"1\" class=\"dataframe\"><thead><tr><th>case_id</th><th>actualdpdtolerance_344P</th><th>amtinstpaidbefduel24m_4187115A</th><th>annuity_780A</th><th>annuitynextmonth_57A</th><th>applicationcnt_361L</th><th>applications30d_658L</th><th>applicationscnt_1086L</th><th>applicationscnt_464L</th><th>applicationscnt_629L</th><th>applicationscnt_867L</th><th>avgdbddpdlast24m_3658932P</th><th>avgdbddpdlast3m_4187120P</th><th>avgdbdtollast24m_4525197P</th><th>avgdpdtolclosure24_3658938P</th><th>avginstallast24m_3658937A</th><th>avglnamtstart24m_4525187A</th><th>avgmaxdpdlast9m_3716943P</th><th>avgoutstandbalancel6m_4187114A</th><th>avgpmtlast12m_4525200A</th><th>bankacctype_710L</th><th>cardtype_51L</th><th>clientscnt12m_3712952L</th><th>clientscnt3m_3712950L</th><th>clientscnt6m_3712949L</th><th>clientscnt_100L</th><th>clientscnt_1022L</th><th>clientscnt_1071L</th><th>clientscnt_1130L</th><th>clientscnt_136L</th><th>clientscnt_157L</th><th>clientscnt_257L</th><th>clientscnt_304L</th><th>clientscnt_360L</th><th>clientscnt_493L</th><th>clientscnt_533L</th><th>clientscnt_887L</th><th>&hellip;</th><th>for3years_504L</th><th>for3years_584L</th><th>formonth_118L</th><th>formonth_206L</th><th>formonth_535L</th><th>forquarter_1017L</th><th>forquarter_462L</th><th>forquarter_634L</th><th>fortoday_1092L</th><th>forweek_1077L</th><th>forweek_528L</th><th>forweek_601L</th><th>foryear_618L</th><th>foryear_818L</th><th>foryear_850L</th><th>fourthquarter_440L</th><th>maritalst_385M</th><th>maritalst_893M</th><th>numberofqueries_373L</th><th>pmtaverage_3A</th><th>pmtaverage_4527227A</th><th>pmtaverage_4955615A</th><th>pmtcount_4527229L</th><th>pmtcount_4955617L</th><th>pmtcount_693L</th><th>pmtscount_423L</th><th>pmtssum_45A</th><th>requesttype_4525192L</th><th>responsedate_1012D</th><th>responsedate_4527233D</th><th>responsedate_4917613D</th><th>riskassesment_302T</th><th>riskassesment_940T</th><th>secondquarter_766L</th><th>thirdquarter_1082L</th><th>WEEK_NUM</th><th>target</th></tr><tr><td>i64</td><td>f64</td><td>f64</td><td>f64</td><td>f64</td><td>f64</td><td>f64</td><td>f64</td><td>f64</td><td>f64</td><td>f64</td><td>f64</td><td>f64</td><td>f64</td><td>f64</td><td>f64</td><td>f64</td><td>f64</td><td>f64</td><td>f64</td><td>str</td><td>str</td><td>f64</td><td>f64</td><td>f64</td><td>f64</td><td>f64</td><td>f64</td><td>f64</td><td>str</td><td>f64</td><td>f64</td><td>f64</td><td>f64</td><td>f64</td><td>f64</td><td>f64</td><td>&hellip;</td><td>f64</td><td>f64</td><td>f64</td><td>f64</td><td>f64</td><td>f64</td><td>f64</td><td>f64</td><td>f64</td><td>f64</td><td>f64</td><td>f64</td><td>f64</td><td>f64</td><td>f64</td><td>f64</td><td>str</td><td>str</td><td>f64</td><td>f64</td><td>f64</td><td>f64</td><td>str</td><td>str</td><td>f64</td><td>f64</td><td>f64</td><td>str</td><td>date</td><td>date</td><td>date</td><td>str</td><td>f64</td><td>f64</td><td>f64</td><td>i64</td><td>i64</td></tr></thead><tbody><tr><td>0</td><td>null</td><td>null</td><td>1917.6</td><td>0.0</td><td>0.0</td><td>0.0</td><td>0.0</td><td>0.0</td><td>0.0</td><td>0.0</td><td>null</td><td>null</td><td>null</td><td>null</td><td>null</td><td>null</td><td>null</td><td>null</td><td>null</td><td>null</td><td>null</td><td>0.0</td><td>0.0</td><td>0.0</td><td>0.0</td><td>0.0</td><td>0.0</td><td>0.0</td><td>null</td><td>0.0</td><td>0.0</td><td>0.0</td><td>0.0</td><td>0.0</td><td>0.0</td><td>0.0</td><td>&hellip;</td><td>null</td><td>null</td><td>null</td><td>null</td><td>null</td><td>null</td><td>null</td><td>null</td><td>null</td><td>null</td><td>null</td><td>null</td><td>null</td><td>null</td><td>null</td><td>null</td><td>null</td><td>null</td><td>null</td><td>null</td><td>null</td><td>null</td><td>null</td><td>null</td><td>null</td><td>null</td><td>null</td><td>null</td><td>null</td><td>null</td><td>null</td><td>null</td><td>null</td><td>null</td><td>null</td><td>0</td><td>0</td></tr></tbody></table></div>"
      ],
      "text/plain": [
       "shape: (1, 222)\n",
       "┌─────────┬─────────────────┬─────────────────┬──────────────┬───┬────────────────┬────────────────┬──────────┬────────┐\n",
       "│ case_id ┆ actualdpdtolera ┆ amtinstpaidbefd ┆ annuity_780A ┆ … ┆ secondquarter_ ┆ thirdquarter_1 ┆ WEEK_NUM ┆ target │\n",
       "│ ---     ┆ nce_344P        ┆ uel24m_4187115A ┆ ---          ┆   ┆ 766L           ┆ 082L           ┆ ---      ┆ ---    │\n",
       "│ i64     ┆ ---             ┆ ---             ┆ f64          ┆   ┆ ---            ┆ ---            ┆ i64      ┆ i64    │\n",
       "│         ┆ f64             ┆ f64             ┆              ┆   ┆ f64            ┆ f64            ┆          ┆        │\n",
       "╞═════════╪═════════════════╪═════════════════╪══════════════╪═══╪════════════════╪════════════════╪══════════╪════════╡\n",
       "│ 0       ┆ null            ┆ null            ┆ 1917.6       ┆ … ┆ null           ┆ null           ┆ 0        ┆ 0      │\n",
       "└─────────┴─────────────────┴─────────────────┴──────────────┴───┴────────────────┴────────────────┴──────────┴────────┘"
      ]
     },
     "execution_count": 7,
     "metadata": {},
     "output_type": "execute_result"
    }
   ],
   "source": [
    "final_df.head(1)"
   ]
  },
  {
   "cell_type": "markdown",
   "id": "40208cc4-e5e7-48c6-bcd7-3ef249de3833",
   "metadata": {},
   "source": [
    "#### Converted Row Information"
   ]
  },
  {
   "cell_type": "code",
   "execution_count": 18,
   "id": "285f1c8b-b2ac-48e2-b312-c5151cae4746",
   "metadata": {},
   "outputs": [
    {
     "data": {
      "text/plain": [
       "'actualdpdtolerance_344P has value, amtinstpaidbefduel24m_4187115A has value, annuity_780A has value, annuitynextmonth_57A has value, applicationcnt_361L has value, applications30d_658L has value, applicationscnt_1086L has value, applicationscnt_464L has value, applicationscnt_629L has value, applicationscnt_867L has value, avgdbddpdlast24m_3658932P has value, avgdbddpdlast3m_4187120P has value, avgdbdtollast24m_4525197P has value, avgdpdtolclosure24_3658938P has value, avginstallast24m_3658937A has value, avglnamtstart24m_4525187A has value, avgmaxdpdlast9m_3716943P has value, avgoutstandbalancel6m_4187114A has value, avgpmtlast12m_4525200A has value, bankacctype_710L is empty, cardtype_51L is empty, clientscnt12m_3712952L has value, clientscnt3m_3712950L has value, clientscnt6m_3712949L has value, clientscnt_100L has value, clientscnt_1022L has value, clientscnt_1071L has value, clientscnt_1130L has value, clientscnt_136L value is 0.0, clientscnt_157L has value, clientscnt_257L has value, clientscnt_304L has value, clientscnt_360L has value, clientscnt_493L has value, clientscnt_533L has value, clientscnt_887L has value, clientscnt_946L has value, cntincpaycont9m_3716944L has value, cntpmts24_3658933L has value, commnoinclast6m_3546845L has value, credamount_770A has value, credtype_322L value is CAL, currdebt_22A has value, currdebtcredtyperange_828A has value, datefirstoffer_1144D is empty, datelastinstal40dpd_247D is empty, datelastunpaid_3546854D is empty, daysoverduetolerancedd_3976961L has value, deferredmnthsnum_166L has value, disbursedcredamount_1113A has value, disbursementtype_67L value is GBA, downpmt_116A has value, dtlastpmtallstes_4499206D is empty, eir_270L has value, equalitydataagreement_891L is empty, equalityempfrom_62L is empty, firstclxcampaign_1125D is empty, firstdatedue_489D is empty, homephncnt_628L has value, inittransactionamount_650A has value, inittransactioncode_186L value is CASH, interestrate_311L has value, interestrategrace_34L has value, isbidproduct_1095L is False, isbidproductrequest_292L is empty, isdebitcard_729L is empty, lastactivateddate_801D is empty, lastapplicationdate_877D is empty, lastapprcommoditycat_1041M value is a55475b1, lastapprcommoditytypec_5251766M value is a55475b1, lastapprcredamount_781A has value, lastapprdate_640D is empty, lastcancelreason_561M value is a55475b1, lastdelinqdate_224D is empty, lastdependentsnum_448L is empty, lastotherinc_902A has value, lastotherlnsexpense_631A has value, lastrejectcommoditycat_161M value is a55475b1, lastrejectcommodtypec_5251769M value is a55475b1, lastrejectcredamount_222A has value, lastrejectdate_50D is empty, lastrejectreason_759M value is a55475b1, lastrejectreasonclient_4145040M value is a55475b1, lastrepayingdate_696D is empty, lastst_736L is empty, maininc_215A has value, mastercontrelectronic_519L has value, mastercontrexist_109L has value, maxannuity_159A has value, maxannuity_4075009A has value, maxdbddpdlast1m_3658939P has value, maxdbddpdtollast12m_3658940P has value, maxdbddpdtollast6m_4187119P has value, maxdebt4_972A has value, maxdpdfrom6mto36m_3546853P has value, maxdpdinstldate_3546855D is empty, maxdpdinstlnum_3546846P has value, maxdpdlast12m_727P has value, maxdpdlast24m_143P has value, maxdpdlast3m_392P has value, maxdpdlast6m_474P has value, maxdpdlast9m_1059P has value, maxdpdtolerance_374P has value, maxinstallast24m_3658928A has value, maxlnamtstart6m_4525199A has value, maxoutstandbalancel12m_4187113A has value, maxpmtlast3m_4525190A has value, mindbddpdlast24m_3658935P has value, mindbdtollast24m_4525191P has value, mobilephncnt_593L has value, monthsannuity_845L has value, numactivecreds_622L has value, numactivecredschannel_414L has value, numactiverelcontr_750L has value, numcontrs3months_479L has value, numincomingpmts_3546848L has value, numinstlallpaidearly3d_817L has value, numinstls_657L has value, numinstlsallpaid_934L has value, numinstlswithdpd10_728L has value, numinstlswithdpd5_4187116L is empty, numinstlswithoutdpd_562L has value, numinstmatpaidtearly2d_4499204L is empty, numinstpaid_4499208L is empty, numinstpaidearly3d_3546850L has value, numinstpaidearly3dest_4493216L is empty, numinstpaidearly5d_1087L has value, numinstpaidearly5dest_4493211L is empty, numinstpaidearly5dobd_4499205L is empty, numinstpaidearly_338L has value, numinstpaidearlyest_4493214L is empty, numinstpaidlastcontr_4325080L is empty, numinstpaidlate1d_3546852L has value, numinstregularpaid_973L has value, numinstregularpaidest_4493210L is empty, numinsttopaygr_769L has value, numinsttopaygrest_4493213L is empty, numinstunpaidmax_3546851L has value, numinstunpaidmaxest_4493212L is empty, numnotactivated_1143L has value, numpmtchanneldd_318L has value, numrejects9m_859L has value, opencred_647L is empty, paytype1st_925L value is OTHER, paytype_783L value is OTHER, payvacationpostpone_4187118D is empty, pctinstlsallpaidearl3d_427L has value, pctinstlsallpaidlat10d_839L has value, pctinstlsallpaidlate1d_3546856L has value, pctinstlsallpaidlate4d_3546849L has value, pctinstlsallpaidlate6d_3546844L has value, pmtnum_254L has value, posfpd10lastmonth_333P has value, posfpd30lastmonth_3976960P has value, posfstqpd30lastmonth_3976962P has value, previouscontdistrict_112M value is a55475b1, price_1097A has value, sellerplacecnt_915L has value, sellerplacescnt_216L has value, sumoutstandtotal_3546847A has value, sumoutstandtotalest_4493215A has value, totaldebt_9A has value, totalsettled_863A has value, totinstallast1m_4525188A has value, twobodfilling_608L value is BO, typesuite_864L is empty, validfrom_1069D is empty, assignmentdate_238D is empty, assignmentdate_4527235D is empty, assignmentdate_4955616D is empty, birthdate_574D is empty, contractssum_5085716L is empty, dateofbirth_337D is empty, dateofbirth_342D is empty, days120_123L has value, days180_256L has value, days30_165L has value, days360_512L has value, days90_310L has value, description_5085714M is empty, education_1103M is empty, education_88M is empty, firstquarter_103L has value, for3years_128L has value, for3years_504L has value, for3years_584L has value, formonth_118L has value, formonth_206L has value, formonth_535L has value, forquarter_1017L has value, forquarter_462L has value, forquarter_634L has value, fortoday_1092L has value, forweek_1077L has value, forweek_528L has value, forweek_601L has value, foryear_618L has value, foryear_818L has value, foryear_850L has value, fourthquarter_440L has value, maritalst_385M is empty, maritalst_893M is empty, numberofqueries_373L has value, pmtaverage_3A has value, pmtaverage_4527227A has value, pmtaverage_4955615A has value, pmtcount_4527229L is empty, pmtcount_4955617L is empty, pmtcount_693L has value, pmtscount_423L has value, pmtssum_45A has value, requesttype_4525192L is empty, responsedate_1012D is empty, responsedate_4527233D is empty, responsedate_4917613D is empty, riskassesment_302T is empty, riskassesment_940T has value, secondquarter_766L has value, thirdquarter_1082L has value, WEEK_NUM has value'"
      ]
     },
     "execution_count": 18,
     "metadata": {},
     "output_type": "execute_result"
    }
   ],
   "source": [
    "col_types = final_df.dtypes\n",
    "col_names = final_df.columns\n",
    "sample_string = row_to_string(final_df[1], col_types, col_names)\n",
    "sample_string"
   ]
  },
  {
   "cell_type": "markdown",
   "id": "80ce8477-1a9f-42a6-8c05-3cf068014717",
   "metadata": {},
   "source": [
    "### Converting table to text"
   ]
  },
  {
   "cell_type": "code",
   "execution_count": 109,
   "id": "31ea11b6-8f58-4e52-bf82-3ce89614d3ed",
   "metadata": {},
   "outputs": [],
   "source": [
    "output_file_path = base_file_location + \"transformed_rows.txt\""
   ]
  },
  {
   "cell_type": "code",
   "execution_count": 132,
   "id": "907ffe9c-46a7-41e0-8f91-4fb2f97d5a4f",
   "metadata": {},
   "outputs": [
    {
     "name": "stdout",
     "output_type": "stream",
     "text": [
      "Transformed rows in location D:/BrainStation/Project/Credit Risk Model/transformed_rows.txt\n"
     ]
    }
   ],
   "source": [
    "with open(output_file_path, 'w') as file:\n",
    "    col_types = final_df.dtypes\n",
    "    col_names = final_df.columns\n",
    "\n",
    "    for row in final_df.rows():\n",
    "        row_string = row_to_string(row, col_types, col_names)        \n",
    "        file.write(row_string + '\\n')\n",
    "\n",
    "    print(f\"Transformed rows in location {output_file_path}\")"
   ]
  },
  {
   "cell_type": "markdown",
   "id": "4b6adbb6-5c8f-4888-93e5-82b70594a1b7",
   "metadata": {},
   "source": [
    "### Converting shuffled table to text"
   ]
  },
  {
   "cell_type": "code",
   "execution_count": 148,
   "id": "05448d14-0ff0-4841-b1d2-6a9402179a2d",
   "metadata": {},
   "outputs": [
    {
     "name": "stdout",
     "output_type": "stream",
     "text": [
      "Transformed rows in location D:/BrainStation/Project/Credit Risk Model/df_top50.txt\n"
     ]
    }
   ],
   "source": [
    "df_top50 = final_df.sample(n=50)\n",
    "\n",
    "# Select the first 50 rows\n",
    "output_file_path = base_file_location + \"df_top50.txt\"\n",
    "with open(output_file_path, 'w') as file:\n",
    "    col_types = df_top50.dtypes\n",
    "    col_names = df_top50.columns\n",
    "\n",
    "    for row in df_top50.rows():\n",
    "        row_string = row_to_string(row, col_types, col_names)        \n",
    "        file.write(row_string + '\\n')\n",
    "\n",
    "    print(f\"Transformed rows in location {output_file_path}\")"
   ]
  },
  {
   "cell_type": "code",
   "execution_count": 147,
   "id": "6e0c83fd-ec06-47ec-b32e-1787c1fbbc35",
   "metadata": {},
   "outputs": [
    {
     "data": {
      "text/html": [
       "<div><style>\n",
       ".dataframe > thead > tr,\n",
       ".dataframe > tbody > tr {\n",
       "  text-align: right;\n",
       "  white-space: pre-wrap;\n",
       "}\n",
       "</style>\n",
       "<small>shape: (50, 222)</small><table border=\"1\" class=\"dataframe\"><thead><tr><th>case_id</th><th>actualdpdtolerance_344P</th><th>amtinstpaidbefduel24m_4187115A</th><th>annuity_780A</th><th>annuitynextmonth_57A</th><th>applicationcnt_361L</th><th>applications30d_658L</th><th>applicationscnt_1086L</th><th>applicationscnt_464L</th><th>applicationscnt_629L</th><th>applicationscnt_867L</th><th>avgdbddpdlast24m_3658932P</th><th>avgdbddpdlast3m_4187120P</th><th>avgdbdtollast24m_4525197P</th><th>avgdpdtolclosure24_3658938P</th><th>avginstallast24m_3658937A</th><th>avglnamtstart24m_4525187A</th><th>avgmaxdpdlast9m_3716943P</th><th>avgoutstandbalancel6m_4187114A</th><th>avgpmtlast12m_4525200A</th><th>bankacctype_710L</th><th>cardtype_51L</th><th>clientscnt12m_3712952L</th><th>clientscnt3m_3712950L</th><th>clientscnt6m_3712949L</th><th>clientscnt_100L</th><th>clientscnt_1022L</th><th>clientscnt_1071L</th><th>clientscnt_1130L</th><th>clientscnt_136L</th><th>clientscnt_157L</th><th>clientscnt_257L</th><th>clientscnt_304L</th><th>clientscnt_360L</th><th>clientscnt_493L</th><th>clientscnt_533L</th><th>clientscnt_887L</th><th>&hellip;</th><th>for3years_504L</th><th>for3years_584L</th><th>formonth_118L</th><th>formonth_206L</th><th>formonth_535L</th><th>forquarter_1017L</th><th>forquarter_462L</th><th>forquarter_634L</th><th>fortoday_1092L</th><th>forweek_1077L</th><th>forweek_528L</th><th>forweek_601L</th><th>foryear_618L</th><th>foryear_818L</th><th>foryear_850L</th><th>fourthquarter_440L</th><th>maritalst_385M</th><th>maritalst_893M</th><th>numberofqueries_373L</th><th>pmtaverage_3A</th><th>pmtaverage_4527227A</th><th>pmtaverage_4955615A</th><th>pmtcount_4527229L</th><th>pmtcount_4955617L</th><th>pmtcount_693L</th><th>pmtscount_423L</th><th>pmtssum_45A</th><th>requesttype_4525192L</th><th>responsedate_1012D</th><th>responsedate_4527233D</th><th>responsedate_4917613D</th><th>riskassesment_302T</th><th>riskassesment_940T</th><th>secondquarter_766L</th><th>thirdquarter_1082L</th><th>WEEK_NUM</th><th>target</th></tr><tr><td>i64</td><td>f64</td><td>f64</td><td>f64</td><td>f64</td><td>f64</td><td>f64</td><td>f64</td><td>f64</td><td>f64</td><td>f64</td><td>f64</td><td>f64</td><td>f64</td><td>f64</td><td>f64</td><td>f64</td><td>f64</td><td>f64</td><td>f64</td><td>str</td><td>str</td><td>f64</td><td>f64</td><td>f64</td><td>f64</td><td>f64</td><td>f64</td><td>f64</td><td>str</td><td>f64</td><td>f64</td><td>f64</td><td>f64</td><td>f64</td><td>f64</td><td>f64</td><td>&hellip;</td><td>f64</td><td>f64</td><td>f64</td><td>f64</td><td>f64</td><td>f64</td><td>f64</td><td>f64</td><td>f64</td><td>f64</td><td>f64</td><td>f64</td><td>f64</td><td>f64</td><td>f64</td><td>f64</td><td>str</td><td>str</td><td>f64</td><td>f64</td><td>f64</td><td>f64</td><td>str</td><td>str</td><td>f64</td><td>f64</td><td>f64</td><td>str</td><td>date</td><td>date</td><td>date</td><td>str</td><td>f64</td><td>f64</td><td>f64</td><td>i64</td><td>i64</td></tr></thead><tbody><tr><td>2655393</td><td>0.0</td><td>0.0</td><td>5119.0</td><td>0.0</td><td>0.0</td><td>0.0</td><td>4.0</td><td>0.0</td><td>0.0</td><td>1.0</td><td>null</td><td>null</td><td>null</td><td>4.0</td><td>null</td><td>null</td><td>null</td><td>null</td><td>null</td><td>&quot;CA&quot;</td><td>null</td><td>0.0</td><td>0.0</td><td>0.0</td><td>0.0</td><td>0.0</td><td>0.0</td><td>0.0</td><td>null</td><td>0.0</td><td>0.0</td><td>0.0</td><td>0.0</td><td>0.0</td><td>0.0</td><td>0.0</td><td>&hellip;</td><td>null</td><td>null</td><td>null</td><td>null</td><td>null</td><td>null</td><td>null</td><td>null</td><td>null</td><td>null</td><td>null</td><td>null</td><td>null</td><td>null</td><td>null</td><td>1.0</td><td>&quot;3439d993&quot;</td><td>&quot;a55475b1&quot;</td><td>7.0</td><td>null</td><td>null</td><td>null</td><td>null</td><td>null</td><td>null</td><td>null</td><td>null</td><td>&quot;DEDUCTION_6&quot;</td><td>null</td><td>2020-01-13</td><td>null</td><td>null</td><td>null</td><td>3.0</td><td>1.0</td><td>51</td><td>0</td></tr><tr><td>187124</td><td>0.0</td><td>235099.0</td><td>11362.2</td><td>0.0</td><td>0.0</td><td>0.0</td><td>0.0</td><td>2.0</td><td>0.0</td><td>10.0</td><td>-21.0</td><td>-1.0</td><td>-20.0</td><td>0.0</td><td>39183.2</td><td>15227.8</td><td>0.0</td><td>7140.0</td><td>39183.2</td><td>null</td><td>null</td><td>0.0</td><td>0.0</td><td>0.0</td><td>0.0</td><td>0.0</td><td>0.0</td><td>0.0</td><td>null</td><td>0.0</td><td>0.0</td><td>0.0</td><td>0.0</td><td>0.0</td><td>0.0</td><td>1.0</td><td>&hellip;</td><td>null</td><td>null</td><td>null</td><td>null</td><td>null</td><td>null</td><td>null</td><td>null</td><td>null</td><td>null</td><td>null</td><td>null</td><td>null</td><td>null</td><td>null</td><td>26.0</td><td>&quot;3439d993&quot;</td><td>&quot;a55475b1&quot;</td><td>40.0</td><td>null</td><td>null</td><td>null</td><td>null</td><td>null</td><td>null</td><td>null</td><td>null</td><td>&quot;DEDUCTION_6&quot;</td><td>null</td><td>2020-01-02</td><td>null</td><td>null</td><td>null</td><td>17.0</td><td>19.0</td><td>50</td><td>0</td></tr><tr><td>680133</td><td>null</td><td>null</td><td>1953.6</td><td>0.0</td><td>0.0</td><td>3.0</td><td>0.0</td><td>0.0</td><td>0.0</td><td>3.0</td><td>null</td><td>null</td><td>null</td><td>null</td><td>null</td><td>null</td><td>null</td><td>null</td><td>null</td><td>null</td><td>null</td><td>0.0</td><td>0.0</td><td>0.0</td><td>0.0</td><td>0.0</td><td>0.0</td><td>0.0</td><td>null</td><td>0.0</td><td>0.0</td><td>0.0</td><td>0.0</td><td>0.0</td><td>0.0</td><td>0.0</td><td>&hellip;</td><td>null</td><td>null</td><td>null</td><td>null</td><td>null</td><td>null</td><td>null</td><td>null</td><td>null</td><td>null</td><td>null</td><td>null</td><td>null</td><td>null</td><td>null</td><td>null</td><td>&quot;a55475b1&quot;</td><td>&quot;a55475b1&quot;</td><td>null</td><td>null</td><td>null</td><td>null</td><td>null</td><td>null</td><td>null</td><td>6.0</td><td>14845.81</td><td>null</td><td>2019-05-10</td><td>null</td><td>null</td><td>null</td><td>null</td><td>null</td><td>null</td><td>16</td><td>0</td></tr><tr><td>243529</td><td>0.0</td><td>198879.8</td><td>9043.601</td><td>0.0</td><td>0.0</td><td>0.0</td><td>0.0</td><td>0.0</td><td>0.0</td><td>1.0</td><td>-1.0</td><td>-1.0</td><td>-1.0</td><td>0.0</td><td>11118.8</td><td>null</td><td>0.0</td><td>84628.58</td><td>13764.601</td><td>&quot;CA&quot;</td><td>null</td><td>0.0</td><td>0.0</td><td>0.0</td><td>0.0</td><td>0.0</td><td>0.0</td><td>0.0</td><td>null</td><td>0.0</td><td>0.0</td><td>0.0</td><td>0.0</td><td>0.0</td><td>0.0</td><td>0.0</td><td>&hellip;</td><td>null</td><td>null</td><td>null</td><td>null</td><td>null</td><td>null</td><td>null</td><td>null</td><td>null</td><td>null</td><td>null</td><td>null</td><td>null</td><td>null</td><td>null</td><td>12.0</td><td>&quot;3439d993&quot;</td><td>&quot;a55475b1&quot;</td><td>9.0</td><td>null</td><td>null</td><td>null</td><td>null</td><td>null</td><td>null</td><td>null</td><td>null</td><td>null</td><td>null</td><td>null</td><td>2020-08-25</td><td>null</td><td>null</td><td>4.0</td><td>7.0</td><td>84</td><td>0</td></tr><tr><td>1768082</td><td>0.0</td><td>0.0</td><td>4831.6</td><td>0.0</td><td>0.0</td><td>0.0</td><td>0.0</td><td>0.0</td><td>0.0</td><td>0.0</td><td>null</td><td>null</td><td>null</td><td>0.0</td><td>null</td><td>null</td><td>null</td><td>null</td><td>null</td><td>null</td><td>null</td><td>0.0</td><td>0.0</td><td>0.0</td><td>0.0</td><td>0.0</td><td>0.0</td><td>0.0</td><td>null</td><td>0.0</td><td>0.0</td><td>0.0</td><td>0.0</td><td>0.0</td><td>0.0</td><td>0.0</td><td>&hellip;</td><td>null</td><td>null</td><td>null</td><td>null</td><td>null</td><td>null</td><td>null</td><td>null</td><td>null</td><td>null</td><td>null</td><td>null</td><td>null</td><td>null</td><td>null</td><td>0.0</td><td>&quot;a7fcb6e5&quot;</td><td>&quot;a55475b1&quot;</td><td>0.0</td><td>null</td><td>null</td><td>null</td><td>null</td><td>null</td><td>null</td><td>null</td><td>null</td><td>&quot;DEDUCTION_6&quot;</td><td>null</td><td>2020-02-14</td><td>null</td><td>null</td><td>null</td><td>0.0</td><td>0.0</td><td>56</td><td>0</td></tr><tr><td>&hellip;</td><td>&hellip;</td><td>&hellip;</td><td>&hellip;</td><td>&hellip;</td><td>&hellip;</td><td>&hellip;</td><td>&hellip;</td><td>&hellip;</td><td>&hellip;</td><td>&hellip;</td><td>&hellip;</td><td>&hellip;</td><td>&hellip;</td><td>&hellip;</td><td>&hellip;</td><td>&hellip;</td><td>&hellip;</td><td>&hellip;</td><td>&hellip;</td><td>&hellip;</td><td>&hellip;</td><td>&hellip;</td><td>&hellip;</td><td>&hellip;</td><td>&hellip;</td><td>&hellip;</td><td>&hellip;</td><td>&hellip;</td><td>&hellip;</td><td>&hellip;</td><td>&hellip;</td><td>&hellip;</td><td>&hellip;</td><td>&hellip;</td><td>&hellip;</td><td>&hellip;</td><td>&hellip;</td><td>&hellip;</td><td>&hellip;</td><td>&hellip;</td><td>&hellip;</td><td>&hellip;</td><td>&hellip;</td><td>&hellip;</td><td>&hellip;</td><td>&hellip;</td><td>&hellip;</td><td>&hellip;</td><td>&hellip;</td><td>&hellip;</td><td>&hellip;</td><td>&hellip;</td><td>&hellip;</td><td>&hellip;</td><td>&hellip;</td><td>&hellip;</td><td>&hellip;</td><td>&hellip;</td><td>&hellip;</td><td>&hellip;</td><td>&hellip;</td><td>&hellip;</td><td>&hellip;</td><td>&hellip;</td><td>&hellip;</td><td>&hellip;</td><td>&hellip;</td><td>&hellip;</td><td>&hellip;</td><td>&hellip;</td><td>&hellip;</td><td>&hellip;</td><td>&hellip;</td><td>&hellip;</td></tr><tr><td>1659863</td><td>0.0</td><td>34853.355</td><td>1022.2</td><td>2552.6</td><td>0.0</td><td>1.0</td><td>0.0</td><td>0.0</td><td>0.0</td><td>10.0</td><td>-36.0</td><td>-10.0</td><td>-36.0</td><td>0.0</td><td>2497.4001</td><td>null</td><td>0.0</td><td>16749.988</td><td>2125.4001</td><td>null</td><td>null</td><td>0.0</td><td>0.0</td><td>0.0</td><td>0.0</td><td>0.0</td><td>0.0</td><td>0.0</td><td>null</td><td>0.0</td><td>0.0</td><td>0.0</td><td>0.0</td><td>0.0</td><td>0.0</td><td>0.0</td><td>&hellip;</td><td>null</td><td>null</td><td>null</td><td>null</td><td>null</td><td>null</td><td>null</td><td>null</td><td>null</td><td>null</td><td>null</td><td>null</td><td>null</td><td>null</td><td>null</td><td>5.0</td><td>&quot;a55475b1&quot;</td><td>&quot;a55475b1&quot;</td><td>3.0</td><td>null</td><td>null</td><td>null</td><td>null</td><td>null</td><td>null</td><td>null</td><td>null</td><td>&quot;DEDUCTION_6&quot;</td><td>null</td><td>2019-12-14</td><td>null</td><td>null</td><td>null</td><td>3.0</td><td>5.0</td><td>47</td><td>0</td></tr><tr><td>2690094</td><td>0.0</td><td>7679.8003</td><td>7705.0</td><td>0.0</td><td>0.0</td><td>0.0</td><td>0.0</td><td>0.0</td><td>0.0</td><td>0.0</td><td>-2.0</td><td>null</td><td>-1.0</td><td>0.0</td><td>2560.0</td><td>null</td><td>null</td><td>null</td><td>2560.0</td><td>&quot;CA&quot;</td><td>null</td><td>0.0</td><td>0.0</td><td>0.0</td><td>0.0</td><td>0.0</td><td>0.0</td><td>0.0</td><td>null</td><td>0.0</td><td>0.0</td><td>0.0</td><td>0.0</td><td>0.0</td><td>0.0</td><td>0.0</td><td>&hellip;</td><td>null</td><td>null</td><td>null</td><td>null</td><td>null</td><td>null</td><td>null</td><td>null</td><td>null</td><td>null</td><td>null</td><td>null</td><td>null</td><td>null</td><td>null</td><td>1.0</td><td>&quot;a55475b1&quot;</td><td>&quot;a55475b1&quot;</td><td>1.0</td><td>null</td><td>null</td><td>null</td><td>null</td><td>null</td><td>null</td><td>null</td><td>null</td><td>null</td><td>null</td><td>null</td><td>2020-08-12</td><td>null</td><td>null</td><td>0.0</td><td>2.0</td><td>82</td><td>0</td></tr><tr><td>828457</td><td>null</td><td>null</td><td>1831.6</td><td>0.0</td><td>0.0</td><td>0.0</td><td>0.0</td><td>0.0</td><td>0.0</td><td>1.0</td><td>null</td><td>null</td><td>null</td><td>null</td><td>null</td><td>null</td><td>null</td><td>null</td><td>null</td><td>null</td><td>null</td><td>0.0</td><td>0.0</td><td>0.0</td><td>0.0</td><td>0.0</td><td>0.0</td><td>0.0</td><td>null</td><td>1.0</td><td>0.0</td><td>0.0</td><td>0.0</td><td>0.0</td><td>1.0</td><td>2.0</td><td>&hellip;</td><td>null</td><td>null</td><td>null</td><td>null</td><td>null</td><td>null</td><td>null</td><td>null</td><td>null</td><td>null</td><td>null</td><td>null</td><td>null</td><td>null</td><td>null</td><td>3.0</td><td>&quot;a7fcb6e5&quot;</td><td>&quot;a55475b1&quot;</td><td>3.0</td><td>null</td><td>null</td><td>null</td><td>null</td><td>null</td><td>null</td><td>null</td><td>null</td><td>&quot;DEDUCTION_6&quot;</td><td>null</td><td>2019-10-26</td><td>null</td><td>null</td><td>null</td><td>2.0</td><td>5.0</td><td>40</td><td>0</td></tr><tr><td>1239717</td><td>0.0</td><td>null</td><td>1915.6</td><td>0.0</td><td>0.0</td><td>0.0</td><td>0.0</td><td>0.0</td><td>0.0</td><td>1.0</td><td>-85.0</td><td>null</td><td>null</td><td>0.0</td><td>1885.4</td><td>null</td><td>0.0</td><td>null</td><td>null</td><td>&quot;CA&quot;</td><td>null</td><td>0.0</td><td>0.0</td><td>0.0</td><td>0.0</td><td>0.0</td><td>0.0</td><td>0.0</td><td>null</td><td>0.0</td><td>0.0</td><td>0.0</td><td>0.0</td><td>0.0</td><td>0.0</td><td>0.0</td><td>&hellip;</td><td>null</td><td>null</td><td>null</td><td>null</td><td>null</td><td>null</td><td>null</td><td>null</td><td>null</td><td>null</td><td>null</td><td>null</td><td>null</td><td>null</td><td>null</td><td>null</td><td>null</td><td>null</td><td>null</td><td>null</td><td>null</td><td>null</td><td>null</td><td>null</td><td>null</td><td>null</td><td>null</td><td>null</td><td>null</td><td>null</td><td>null</td><td>null</td><td>null</td><td>null</td><td>null</td><td>0</td><td>0</td></tr><tr><td>1498605</td><td>0.0</td><td>20515.0</td><td>1997.6</td><td>2558.2</td><td>0.0</td><td>0.0</td><td>0.0</td><td>0.0</td><td>0.0</td><td>1.0</td><td>2.0</td><td>2.0</td><td>null</td><td>1.0</td><td>2562.0</td><td>null</td><td>0.0</td><td>33188.46</td><td>null</td><td>null</td><td>null</td><td>0.0</td><td>0.0</td><td>0.0</td><td>0.0</td><td>0.0</td><td>0.0</td><td>0.0</td><td>null</td><td>0.0</td><td>0.0</td><td>0.0</td><td>0.0</td><td>0.0</td><td>0.0</td><td>0.0</td><td>&hellip;</td><td>null</td><td>null</td><td>null</td><td>null</td><td>null</td><td>null</td><td>null</td><td>null</td><td>null</td><td>null</td><td>null</td><td>null</td><td>null</td><td>null</td><td>null</td><td>1.0</td><td>&quot;3439d993&quot;</td><td>&quot;a55475b1&quot;</td><td>2.0</td><td>null</td><td>null</td><td>null</td><td>null</td><td>null</td><td>null</td><td>0.0</td><td>0.0</td><td>null</td><td>2019-09-04</td><td>null</td><td>null</td><td>null</td><td>null</td><td>2.0</td><td>2.0</td><td>33</td><td>0</td></tr></tbody></table></div>"
      ],
      "text/plain": [
       "shape: (50, 222)\n",
       "┌─────────┬─────────────────┬─────────────────┬──────────────┬───┬────────────────┬────────────────┬──────────┬────────┐\n",
       "│ case_id ┆ actualdpdtolera ┆ amtinstpaidbefd ┆ annuity_780A ┆ … ┆ secondquarter_ ┆ thirdquarter_1 ┆ WEEK_NUM ┆ target │\n",
       "│ ---     ┆ nce_344P        ┆ uel24m_4187115A ┆ ---          ┆   ┆ 766L           ┆ 082L           ┆ ---      ┆ ---    │\n",
       "│ i64     ┆ ---             ┆ ---             ┆ f64          ┆   ┆ ---            ┆ ---            ┆ i64      ┆ i64    │\n",
       "│         ┆ f64             ┆ f64             ┆              ┆   ┆ f64            ┆ f64            ┆          ┆        │\n",
       "╞═════════╪═════════════════╪═════════════════╪══════════════╪═══╪════════════════╪════════════════╪══════════╪════════╡\n",
       "│ 2655393 ┆ 0.0             ┆ 0.0             ┆ 5119.0       ┆ … ┆ 3.0            ┆ 1.0            ┆ 51       ┆ 0      │\n",
       "│ 187124  ┆ 0.0             ┆ 235099.0        ┆ 11362.2      ┆ … ┆ 17.0           ┆ 19.0           ┆ 50       ┆ 0      │\n",
       "│ 680133  ┆ null            ┆ null            ┆ 1953.6       ┆ … ┆ null           ┆ null           ┆ 16       ┆ 0      │\n",
       "│ 243529  ┆ 0.0             ┆ 198879.8        ┆ 9043.601     ┆ … ┆ 4.0            ┆ 7.0            ┆ 84       ┆ 0      │\n",
       "│ 1768082 ┆ 0.0             ┆ 0.0             ┆ 4831.6       ┆ … ┆ 0.0            ┆ 0.0            ┆ 56       ┆ 0      │\n",
       "│ …       ┆ …               ┆ …               ┆ …            ┆ … ┆ …              ┆ …              ┆ …        ┆ …      │\n",
       "│ 1659863 ┆ 0.0             ┆ 34853.355       ┆ 1022.2       ┆ … ┆ 3.0            ┆ 5.0            ┆ 47       ┆ 0      │\n",
       "│ 2690094 ┆ 0.0             ┆ 7679.8003       ┆ 7705.0       ┆ … ┆ 0.0            ┆ 2.0            ┆ 82       ┆ 0      │\n",
       "│ 828457  ┆ null            ┆ null            ┆ 1831.6       ┆ … ┆ 2.0            ┆ 5.0            ┆ 40       ┆ 0      │\n",
       "│ 1239717 ┆ 0.0             ┆ null            ┆ 1915.6       ┆ … ┆ null           ┆ null           ┆ 0        ┆ 0      │\n",
       "│ 1498605 ┆ 0.0             ┆ 20515.0         ┆ 1997.6       ┆ … ┆ 2.0            ┆ 2.0            ┆ 33       ┆ 0      │\n",
       "└─────────┴─────────────────┴─────────────────┴──────────────┴───┴────────────────┴────────────────┴──────────┴────────┘"
      ]
     },
     "execution_count": 147,
     "metadata": {},
     "output_type": "execute_result"
    }
   ],
   "source": [
    "df_top50"
   ]
  },
  {
   "cell_type": "markdown",
   "id": "42e16923-1ee0-4881-b40a-cab267abbd54",
   "metadata": {},
   "source": [
    "### Appending all possible feature definitions and additional text"
   ]
  },
  {
   "cell_type": "code",
   "execution_count": 11,
   "id": "8890e4c3-3d29-47ae-bcb4-b09f79445551",
   "metadata": {},
   "outputs": [],
   "source": [
    "csv_file_path = base_file_location + 'feature_definitions.csv'\n",
    "output_file_path = base_file_location + \"df_top50.txt\""
   ]
  },
  {
   "cell_type": "code",
   "execution_count": 13,
   "id": "d79966c9-e6e8-4839-b6b1-12d1b74a4d79",
   "metadata": {},
   "outputs": [],
   "source": [
    "import csv\n",
    "with open(csv_file_path, mode='r',newline='') as csv_file:\n",
    "    csv_reader = csv.reader(csv_file)\n",
    "\n",
    "    with open(output_file_path, mode='a', newline='\\n') as txt_file:\n",
    "        for row in csv_reader:\n",
    "            row_string = ', '.join(row)\n",
    "            txt_file.write(row_string +'\\n')"
   ]
  },
  {
   "cell_type": "markdown",
   "id": "a34e4751-86ac-4829-97f0-d7341e5c2ebf",
   "metadata": {},
   "source": [
    "### The reason for going through the process of tokenizing as a form of embedding is that we can also adapt to new and unseen data. Aslong as the categorical values can be embedded and we have similar information from the training set it should be able to perform fairly well. Which is also why we avoid one-hot encoding e.t.c"
   ]
  },
  {
   "cell_type": "markdown",
   "id": "53562aa1-5ea3-436f-9458-9769b1655183",
   "metadata": {},
   "source": [
    "## Tokenizing process"
   ]
  },
  {
   "cell_type": "code",
   "execution_count": 14,
   "id": "b7ab00f4-9e1d-42be-b7f4-88c4b2dc781d",
   "metadata": {},
   "outputs": [],
   "source": [
    "import re"
   ]
  },
  {
   "cell_type": "code",
   "execution_count": 15,
   "id": "fce95d45-7f74-4c7c-bc8e-4b99feb8ae74",
   "metadata": {},
   "outputs": [],
   "source": [
    "pattern = r\"(\\w+?)(_[0-9]+[PALDMT])( is empty| has value| is False| is True| value is [A-Z0-9_.]+|: [0-9-]+| value is [0-9.]+)\""
   ]
  },
  {
   "cell_type": "code",
   "execution_count": 27,
   "id": "915d9038-acb9-4a00-8fce-c82fb4910cb4",
   "metadata": {},
   "outputs": [
    {
     "name": "stdout",
     "output_type": "stream",
     "text": [
      "211\n"
     ]
    }
   ],
   "source": [
    "matches = re.findall(pattern, sample_string)\n",
    "string_match = []\n",
    "for match in matches:\n",
    "    string_match.append(match)\n",
    "\n",
    "print(len(string_match))"
   ]
  },
  {
   "cell_type": "code",
   "execution_count": 21,
   "id": "bfea7d5e-490f-4078-8a8e-72a060c3199e",
   "metadata": {},
   "outputs": [],
   "source": [
    "string = 'actualdpd_943P, Days Past Due (DPD) of previous contract (actual).'\n",
    "\n",
    "matches = re.findall(pattern, string)\n",
    "\n",
    "for match in matches:\n",
    "    print(match)"
   ]
  },
  {
   "cell_type": "code",
   "execution_count": 26,
   "id": "47b47469-e95d-41d9-bd94-7b31500f9a02",
   "metadata": {},
   "outputs": [
    {
     "data": {
      "text/plain": [
       "211"
      ]
     },
     "execution_count": 26,
     "metadata": {},
     "output_type": "execute_result"
    }
   ],
   "source": [
    "new_pattern = r\"(\\w+)(_[0-9]+[PALDMT])?( has value| is empty| is False| is True| value is [A-Z0-9_.]+|: [0-9-]+| value is [0-9.]+)?\"\n",
    "\n",
    "matches = re.findall(pattern, sample_string)\n",
    "split = []\n",
    "for match in matches:\n",
    "    split.append(match)\n",
    "\n",
    "len(split)"
   ]
  }
 ],
 "metadata": {
  "kernelspec": {
   "display_name": "Python (brainstation_env)",
   "language": "python",
   "name": "brainstation_env"
  },
  "language_info": {
   "codemirror_mode": {
    "name": "ipython",
    "version": 3
   },
   "file_extension": ".py",
   "mimetype": "text/x-python",
   "name": "python",
   "nbconvert_exporter": "python",
   "pygments_lexer": "ipython3",
   "version": "3.11.8"
  }
 },
 "nbformat": 4,
 "nbformat_minor": 5
}
