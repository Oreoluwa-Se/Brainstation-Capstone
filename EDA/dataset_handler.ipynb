{
 "cells": [
  {
   "cell_type": "markdown",
   "metadata": {},
   "source": [
    "# Overall Dataset Handler and Ideas"
   ]
  },
  {
   "cell_type": "code",
   "execution_count": 2,
   "metadata": {},
   "outputs": [],
   "source": [
    "import sys\n",
    "import os\n",
    "\n",
    "script_dir = os.path.dirname(os.path.abspath('dataset_handler.ipynb'))\n",
    "parent_directory = os.path.dirname(script_dir)\n",
    "module_directory = os.path.join(parent_directory, 'module') \n",
    "utils_directory = os.path.join(parent_directory, 'utils') \n",
    "\n",
    "if (parent_directory not in sys.path):\n",
    "    sys.path.append(parent_directory)\n",
    "    \n",
    "if (module_directory not in sys.path):\n",
    "    sys.path.append(module_directory)\n",
    "    \n",
    "if (utils_directory not in sys.path):\n",
    "    sys.path.append(utils_directory)  \n",
    "    \n",
    "from module.preprocess.load_and_batch import TableInfoManagers\n",
    "from utils import config  \n",
    "import os\n",
    "import polars as pl"
   ]
  },
  {
   "cell_type": "code",
   "execution_count": 3,
   "metadata": {},
   "outputs": [
    {
     "name": "stdout",
     "output_type": "stream",
     "text": [
      "------> Size of train dataset: (1526659, 224) <------\n"
     ]
    }
   ],
   "source": [
    "full_data = TableInfoManagers.load_data_downloaded(config.DATA_LOCATION, \"train\")"
   ]
  },
  {
   "cell_type": "markdown",
   "metadata": {},
   "source": [
    "# Overview of the Issue\n",
    "The dataset exhibits a significant imbalance with a ratio of 30:1 (majority to minority classes). This can lead to biased models favoring the majority class."
   ]
  },
  {
   "cell_type": "code",
   "execution_count": 5,
   "metadata": {},
   "outputs": [
    {
     "name": "stdout",
     "output_type": "stream",
     "text": [
      "Split and ration information per class:\n",
      "shape: (2, 2)\n",
      "┌────────┬─────────┐\n",
      "│ target ┆ count   │\n",
      "│ ---    ┆ ---     │\n",
      "│ i64    ┆ u32     │\n",
      "╞════════╪═════════╡\n",
      "│ 0      ┆ 1478665 │\n",
      "│ 1      ┆ 47994   │\n",
      "└────────┴─────────┘\n",
      "----------\n",
      "shape: (2, 3)\n",
      "┌────────┬─────────┬──────────┐\n",
      "│ target ┆ count   ┆ ratio    │\n",
      "│ ---    ┆ ---     ┆ ---      │\n",
      "│ i64    ┆ u32     ┆ f64      │\n",
      "╞════════╪═════════╪══════════╡\n",
      "│ 0      ┆ 1478665 ┆ 0.968563 │\n",
      "│ 1      ┆ 47994   ┆ 0.031437 │\n",
      "└────────┴─────────┴──────────┘\n",
      "----------\n",
      "shape: (2, 3)\n",
      "┌────────┬─────────┬────────────────┐\n",
      "│ target ┆ count   ┆ majority_ratio │\n",
      "│ ---    ┆ ---     ┆ ---            │\n",
      "│ i64    ┆ u32     ┆ f64            │\n",
      "╞════════╪═════════╪════════════════╡\n",
      "│ 0      ┆ 1478665 ┆ 30.809372      │\n",
      "│ 1      ┆ 47994   ┆ 1.0            │\n",
      "└────────┴─────────┴────────────────┘\n"
     ]
    }
   ],
   "source": [
    "# Group by 'target' and count occurrences\n",
    "value_counts = full_data.group_by(\"target\").agg(pl.len().alias(\"count\"))\n",
    "\n",
    "# Calculate total number of records in the dataset\n",
    "total_count = full_data.height\n",
    "\n",
    "# Calculate ratio for each group\n",
    "value_ratio = value_counts.with_columns(\n",
    "    (pl.col(\"count\") / total_count).alias(\"ratio\")\n",
    ")\n",
    "\n",
    "# Find the maximum count (minority class count)\n",
    "min_count = value_counts[\"count\"].min()\n",
    "\n",
    "# Calculate ratio of each class count to the minority class count\n",
    "comp_ratio = value_counts.with_columns(\n",
    "    (pl.col(\"count\") / min_count).alias(\"majority_ratio\")\n",
    ")\n",
    "\n",
    "# Print each target with its corresponding ratio\n",
    "print(f\"Split and ration information per class:\")\n",
    "print(value_counts)\n",
    "print(\"----------\")\n",
    "print(value_ratio)\n",
    "print(\"----------\")\n",
    "print(comp_ratio)"
   ]
  },
  {
   "cell_type": "markdown",
   "metadata": {},
   "source": [
    "### Proposed Solution\n",
    "To address this imbalance, we implement an ensemble strategy:\n",
    "- **Data Segmentation**: The majority class is segmented into five separate datasets. This segmentation is strategic, allowing for diverse learning scopes within each subset.\n",
    "- **Balanced Training**: Each segmented dataset is then combined with the full minority class dataset. This approach ensures each model trained on these combinations has exposure to balanced data, thereby mitigating the risk of bias.\n",
    "- **Ensemble Technique**: After training individual models on these balanced datasets, a soft voting mechanism is employed to aggregate the predictions from each model. Soft voting considers the probability of the output classes, which enhances decision-making by leveraging the strengths of each m.d models.\n",
    "rained moels.\n"
   ]
  },
  {
   "cell_type": "markdown",
   "metadata": {},
   "source": [
    "<figure>\n",
    "    <img src=\"images/Method.png\" alt=\"Centered Image\" style=\"display: block; margin-left: auto; margin-right: auto; width: 65%;\" />\n",
    "    <figcaption style=\"text-align: center;\">Moving From Single Model to Embedding Model Approach.</figcaption>\n",
    "</figure>"
   ]
  },
  {
   "cell_type": "markdown",
   "metadata": {},
   "source": [
    "# Data Splitting"
   ]
  },
  {
   "cell_type": "markdown",
   "metadata": {},
   "source": [
    "## Storing Minority Class"
   ]
  },
  {
   "cell_type": "code",
   "execution_count": 12,
   "metadata": {},
   "outputs": [],
   "source": [
    "# save minority seperately\n",
    "filtered_data = full_data.filter(pl.col(\"target\") == 1)\n",
    "file_path = os.path.join(config.SPLIT_DATASETS, \"target.csv\")\n",
    "filtered_data.write_csv(file_path)"
   ]
  },
  {
   "cell_type": "markdown",
   "metadata": {},
   "source": [
    "## Stratified Sampling Of Majority Class\n",
    "The majority class was stratified on the 'WEEK_NUM' column. Ensuring records for each **Decision WEEK** in all training data."
   ]
  },
  {
   "cell_type": "code",
   "execution_count": 8,
   "metadata": {},
   "outputs": [],
   "source": [
    "def split_datasets(data: pl.DataFrame, folder_dir: str, num_splits: int = 5):\n",
    "    # Filter data where 'target' is 0 and shuffle\n",
    "    filtered_data = data.filter(pl.col(\"target\") == 0)\n",
    "    filtered_data = filtered_data.sample(n=filtered_data.height, shuffle=True)\n",
    "    # Group by 'WEEK_NUM', calculate group sizes\n",
    "    group_sizes = filtered_data.group_by(\"WEEK_NUM\").agg(pl.len().alias(\"size\"))\n",
    "\n",
    "    # Calculate total size and determine fraction needed per split\n",
    "    total_size = filtered_data.height\n",
    "    fraction_per_split = 1 / num_splits\n",
    "\n",
    "    # Prepare storage for the split datasets\n",
    "    splits = [pl.DataFrame() for _ in range(num_splits)]\n",
    "\n",
    "    # Iterate over each group, sample the appropriate fraction for each split\n",
    "    for week_num, size in zip(group_sizes['WEEK_NUM'], group_sizes['size']):\n",
    "        group_data = filtered_data.filter(pl.col(\"WEEK_NUM\") == week_num)\n",
    "        samples_per_split = int(size * fraction_per_split)\n",
    "\n",
    "        for i in range(num_splits):\n",
    "            if i == num_splits - 1:  # Handle last split to include all remaining data\n",
    "                split_sample = group_data.tail(size - samples_per_split * i)\n",
    "            else:\n",
    "                split_sample = group_data.slice(samples_per_split * i, samples_per_split)\n",
    "            splits[i] = splits[i].vstack(split_sample)\n",
    "\n",
    "    # Ensure the directory exists\n",
    "    if not os.path.exists(folder_dir):\n",
    "        os.makedirs(folder_dir)\n",
    "\n",
    "    # Save each split to a CSV file\n",
    "    for i, split in enumerate(splits):\n",
    "        print(f\"Datasize for {i+1} split is {split.height}\")\n",
    "        file_path = os.path.join(folder_dir, f\"dataset_{i+1}.csv\")\n",
    "        split.write_csv(file_path)"
   ]
  },
  {
   "cell_type": "code",
   "execution_count": 6,
   "metadata": {},
   "outputs": [],
   "source": [
    "split_datasets(full_data, num_splits=5, folder_dir=config.SPLIT_DATASETS)\n",
    "\n",
    "def dataset_info(idx):\n",
    "    \"\"\"For viewing split dataset\"\"\"\n",
    "    loc_ = config.SPLIT_DATASETS + f\"dataset_{idx+1}.csv\"\n",
    "    data = pl.read_csv(loc_)\n",
    "    print(f\"Shape for Dataset {idx+1}: {data.shape}\")"
   ]
  },
  {
   "cell_type": "markdown",
   "metadata": {},
   "source": [
    "## Data Properties Post Split"
   ]
  },
  {
   "cell_type": "code",
   "execution_count": 7,
   "metadata": {},
   "outputs": [
    {
     "name": "stdout",
     "output_type": "stream",
     "text": [
      "Counts for Dataset 1:\n",
      "shape: (92, 2)\n",
      "┌──────────┬───────┐\n",
      "│ WEEK_NUM ┆ count │\n",
      "│ ---      ┆ ---   │\n",
      "│ i64      ┆ u32   │\n",
      "╞══════════╪═══════╡\n",
      "│ 0        ┆ 3267  │\n",
      "│ 1        ┆ 3673  │\n",
      "│ 2        ┆ 3402  │\n",
      "│ 3        ┆ 3137  │\n",
      "│ 4        ┆ 2781  │\n",
      "│ …        ┆ …     │\n",
      "│ 87       ┆ 3511  │\n",
      "│ 88       ┆ 2793  │\n",
      "│ 89       ┆ 2658  │\n",
      "│ 90       ┆ 2354  │\n",
      "│ 91       ┆ 2477  │\n",
      "└──────────┴───────┘\n"
     ]
    },
    {
     "data": {
      "text/html": [
       "<div><style>\n",
       ".dataframe > thead > tr,\n",
       ".dataframe > tbody > tr {\n",
       "  text-align: right;\n",
       "  white-space: pre-wrap;\n",
       "}\n",
       "</style>\n",
       "<small>shape: (5, 224)</small><table border=\"1\" class=\"dataframe\"><thead><tr><th>case_id</th><th>actualdpdtolerance_344P</th><th>amtinstpaidbefduel24m_4187115A</th><th>annuity_780A</th><th>annuitynextmonth_57A</th><th>applicationcnt_361L</th><th>applications30d_658L</th><th>applicationscnt_1086L</th><th>applicationscnt_464L</th><th>applicationscnt_629L</th><th>applicationscnt_867L</th><th>avgdbddpdlast24m_3658932P</th><th>avgdbddpdlast3m_4187120P</th><th>avgdbdtollast24m_4525197P</th><th>avgdpdtolclosure24_3658938P</th><th>avginstallast24m_3658937A</th><th>avglnamtstart24m_4525187A</th><th>avgmaxdpdlast9m_3716943P</th><th>avgoutstandbalancel6m_4187114A</th><th>avgpmtlast12m_4525200A</th><th>bankacctype_710L</th><th>cardtype_51L</th><th>clientscnt12m_3712952L</th><th>clientscnt3m_3712950L</th><th>clientscnt6m_3712949L</th><th>clientscnt_100L</th><th>clientscnt_1022L</th><th>clientscnt_1071L</th><th>clientscnt_1130L</th><th>clientscnt_136L</th><th>clientscnt_157L</th><th>clientscnt_257L</th><th>clientscnt_304L</th><th>clientscnt_360L</th><th>clientscnt_493L</th><th>clientscnt_533L</th><th>clientscnt_887L</th><th>&hellip;</th><th>formonth_118L</th><th>formonth_206L</th><th>formonth_535L</th><th>forquarter_1017L</th><th>forquarter_462L</th><th>forquarter_634L</th><th>fortoday_1092L</th><th>forweek_1077L</th><th>forweek_528L</th><th>forweek_601L</th><th>foryear_618L</th><th>foryear_818L</th><th>foryear_850L</th><th>fourthquarter_440L</th><th>maritalst_385M</th><th>maritalst_893M</th><th>numberofqueries_373L</th><th>pmtaverage_3A</th><th>pmtaverage_4527227A</th><th>pmtaverage_4955615A</th><th>pmtcount_4527229L</th><th>pmtcount_4955617L</th><th>pmtcount_693L</th><th>pmtscount_423L</th><th>pmtssum_45A</th><th>requesttype_4525192L</th><th>responsedate_1012D</th><th>responsedate_4527233D</th><th>responsedate_4917613D</th><th>riskassesment_302T</th><th>riskassesment_940T</th><th>secondquarter_766L</th><th>thirdquarter_1082L</th><th>date_decision</th><th>MONTH</th><th>WEEK_NUM</th><th>target</th></tr><tr><td>i64</td><td>f64</td><td>f64</td><td>f64</td><td>f64</td><td>f64</td><td>f64</td><td>f64</td><td>f64</td><td>f64</td><td>f64</td><td>f64</td><td>f64</td><td>str</td><td>f64</td><td>f64</td><td>str</td><td>f64</td><td>f64</td><td>str</td><td>str</td><td>str</td><td>f64</td><td>f64</td><td>f64</td><td>f64</td><td>f64</td><td>f64</td><td>f64</td><td>str</td><td>f64</td><td>f64</td><td>f64</td><td>f64</td><td>f64</td><td>f64</td><td>f64</td><td>&hellip;</td><td>str</td><td>str</td><td>str</td><td>str</td><td>str</td><td>str</td><td>str</td><td>str</td><td>str</td><td>str</td><td>str</td><td>str</td><td>str</td><td>f64</td><td>str</td><td>str</td><td>f64</td><td>f64</td><td>str</td><td>str</td><td>str</td><td>str</td><td>f64</td><td>f64</td><td>f64</td><td>str</td><td>str</td><td>str</td><td>str</td><td>str</td><td>f64</td><td>f64</td><td>f64</td><td>str</td><td>i64</td><td>i64</td><td>i64</td></tr></thead><tbody><tr><td>2557190</td><td>0.0</td><td>104088.86</td><td>4166.6</td><td>0.0</td><td>0.0</td><td>0.0</td><td>0.0</td><td>0.0</td><td>0.0</td><td>1.0</td><td>-12.0</td><td>-5.0</td><td>null</td><td>0.0</td><td>5478.4</td><td>null</td><td>0.0</td><td>17366.666</td><td>null</td><td>&quot;CA&quot;</td><td>null</td><td>0.0</td><td>0.0</td><td>0.0</td><td>0.0</td><td>0.0</td><td>0.0</td><td>0.0</td><td>null</td><td>0.0</td><td>0.0</td><td>0.0</td><td>0.0</td><td>0.0</td><td>0.0</td><td>0.0</td><td>&hellip;</td><td>null</td><td>null</td><td>null</td><td>null</td><td>null</td><td>null</td><td>null</td><td>null</td><td>null</td><td>null</td><td>null</td><td>null</td><td>null</td><td>null</td><td>&quot;a55475b1&quot;</td><td>&quot;a55475b1&quot;</td><td>null</td><td>0.0</td><td>null</td><td>null</td><td>null</td><td>null</td><td>0.0</td><td>null</td><td>null</td><td>null</td><td>&quot;2019-04-13&quot;</td><td>null</td><td>null</td><td>null</td><td>null</td><td>null</td><td>null</td><td>&quot;2019-03-30&quot;</td><td>201903</td><td>12</td><td>0</td></tr><tr><td>661746</td><td>null</td><td>null</td><td>2786.6</td><td>0.0</td><td>0.0</td><td>0.0</td><td>0.0</td><td>0.0</td><td>0.0</td><td>0.0</td><td>null</td><td>null</td><td>null</td><td>null</td><td>null</td><td>null</td><td>null</td><td>null</td><td>null</td><td>null</td><td>null</td><td>0.0</td><td>0.0</td><td>0.0</td><td>0.0</td><td>0.0</td><td>0.0</td><td>0.0</td><td>null</td><td>0.0</td><td>0.0</td><td>0.0</td><td>0.0</td><td>0.0</td><td>1.0</td><td>0.0</td><td>&hellip;</td><td>null</td><td>null</td><td>null</td><td>null</td><td>null</td><td>null</td><td>null</td><td>null</td><td>null</td><td>null</td><td>null</td><td>null</td><td>null</td><td>null</td><td>&quot;a55475b1&quot;</td><td>&quot;a55475b1&quot;</td><td>null</td><td>null</td><td>null</td><td>null</td><td>null</td><td>null</td><td>null</td><td>0.0</td><td>0.0</td><td>null</td><td>&quot;2019-04-14&quot;</td><td>null</td><td>null</td><td>null</td><td>null</td><td>null</td><td>null</td><td>&quot;2019-03-31&quot;</td><td>201903</td><td>12</td><td>0</td></tr><tr><td>2556685</td><td>0.0</td><td>94346.4</td><td>9342.4</td><td>0.0</td><td>0.0</td><td>0.0</td><td>0.0</td><td>0.0</td><td>0.0</td><td>1.0</td><td>-2.0</td><td>null</td><td>null</td><td>1.0</td><td>10483.0</td><td>null</td><td>null</td><td>null</td><td>null</td><td>&quot;CA&quot;</td><td>null</td><td>0.0</td><td>0.0</td><td>0.0</td><td>0.0</td><td>0.0</td><td>0.0</td><td>0.0</td><td>null</td><td>0.0</td><td>0.0</td><td>0.0</td><td>0.0</td><td>0.0</td><td>0.0</td><td>0.0</td><td>&hellip;</td><td>null</td><td>null</td><td>null</td><td>null</td><td>null</td><td>null</td><td>null</td><td>null</td><td>null</td><td>null</td><td>null</td><td>null</td><td>null</td><td>2.0</td><td>&quot;3439d993&quot;</td><td>&quot;a55475b1&quot;</td><td>1.0</td><td>null</td><td>null</td><td>null</td><td>null</td><td>null</td><td>null</td><td>3.0</td><td>5232.6</td><td>null</td><td>&quot;2019-04-12&quot;</td><td>null</td><td>null</td><td>null</td><td>null</td><td>0.0</td><td>0.0</td><td>&quot;2019-03-29&quot;</td><td>201903</td><td>12</td><td>0</td></tr><tr><td>118623</td><td>0.0</td><td>26950.4</td><td>4980.2</td><td>2395.2</td><td>0.0</td><td>0.0</td><td>0.0</td><td>0.0</td><td>0.0</td><td>2.0</td><td>-12.0</td><td>-14.0</td><td>null</td><td>0.0</td><td>3850.0</td><td>null</td><td>0.0</td><td>10463.335</td><td>null</td><td>&quot;CA&quot;</td><td>null</td><td>0.0</td><td>0.0</td><td>0.0</td><td>0.0</td><td>1.0</td><td>0.0</td><td>0.0</td><td>null</td><td>0.0</td><td>0.0</td><td>0.0</td><td>0.0</td><td>0.0</td><td>0.0</td><td>0.0</td><td>&hellip;</td><td>null</td><td>null</td><td>null</td><td>null</td><td>null</td><td>null</td><td>null</td><td>null</td><td>null</td><td>null</td><td>null</td><td>null</td><td>null</td><td>1.0</td><td>&quot;a55475b1&quot;</td><td>&quot;a55475b1&quot;</td><td>4.0</td><td>null</td><td>null</td><td>null</td><td>null</td><td>null</td><td>null</td><td>0.0</td><td>0.0</td><td>null</td><td>&quot;2019-04-09&quot;</td><td>null</td><td>null</td><td>null</td><td>null</td><td>2.0</td><td>1.0</td><td>&quot;2019-03-26&quot;</td><td>201903</td><td>12</td><td>0</td></tr><tr><td>1325776</td><td>0.0</td><td>11469.4</td><td>1808.2001</td><td>0.0</td><td>0.0</td><td>0.0</td><td>0.0</td><td>0.0</td><td>0.0</td><td>4.0</td><td>-3.0</td><td>null</td><td>null</td><td>1.0</td><td>1433.8</td><td>null</td><td>0.0</td><td>720.0</td><td>null</td><td>null</td><td>null</td><td>0.0</td><td>0.0</td><td>0.0</td><td>0.0</td><td>0.0</td><td>0.0</td><td>0.0</td><td>null</td><td>0.0</td><td>0.0</td><td>0.0</td><td>0.0</td><td>0.0</td><td>0.0</td><td>0.0</td><td>&hellip;</td><td>null</td><td>null</td><td>null</td><td>null</td><td>null</td><td>null</td><td>null</td><td>null</td><td>null</td><td>null</td><td>null</td><td>null</td><td>null</td><td>7.0</td><td>&quot;a55475b1&quot;</td><td>&quot;a55475b1&quot;</td><td>16.0</td><td>null</td><td>null</td><td>null</td><td>null</td><td>null</td><td>null</td><td>0.0</td><td>0.0</td><td>null</td><td>&quot;2019-04-13&quot;</td><td>null</td><td>null</td><td>null</td><td>null</td><td>3.0</td><td>4.0</td><td>&quot;2019-03-30&quot;</td><td>201903</td><td>12</td><td>0</td></tr></tbody></table></div>"
      ],
      "text/plain": [
       "shape: (5, 224)\n",
       "┌─────────┬─────────────┬─────────────┬─────────────┬───┬─────────────┬────────┬──────────┬────────┐\n",
       "│ case_id ┆ actualdpdto ┆ amtinstpaid ┆ annuity_780 ┆ … ┆ date_decisi ┆ MONTH  ┆ WEEK_NUM ┆ target │\n",
       "│ ---     ┆ lerance_344 ┆ befduel24m_ ┆ A           ┆   ┆ on          ┆ ---    ┆ ---      ┆ ---    │\n",
       "│ i64     ┆ P           ┆ 4187115A    ┆ ---         ┆   ┆ ---         ┆ i64    ┆ i64      ┆ i64    │\n",
       "│         ┆ ---         ┆ ---         ┆ f64         ┆   ┆ str         ┆        ┆          ┆        │\n",
       "│         ┆ f64         ┆ f64         ┆             ┆   ┆             ┆        ┆          ┆        │\n",
       "╞═════════╪═════════════╪═════════════╪═════════════╪═══╪═════════════╪════════╪══════════╪════════╡\n",
       "│ 2557190 ┆ 0.0         ┆ 104088.86   ┆ 4166.6      ┆ … ┆ 2019-03-30  ┆ 201903 ┆ 12       ┆ 0      │\n",
       "│ 661746  ┆ null        ┆ null        ┆ 2786.6      ┆ … ┆ 2019-03-31  ┆ 201903 ┆ 12       ┆ 0      │\n",
       "│ 2556685 ┆ 0.0         ┆ 94346.4     ┆ 9342.4      ┆ … ┆ 2019-03-29  ┆ 201903 ┆ 12       ┆ 0      │\n",
       "│ 118623  ┆ 0.0         ┆ 26950.4     ┆ 4980.2      ┆ … ┆ 2019-03-26  ┆ 201903 ┆ 12       ┆ 0      │\n",
       "│ 1325776 ┆ 0.0         ┆ 11469.4     ┆ 1808.2001   ┆ … ┆ 2019-03-30  ┆ 201903 ┆ 12       ┆ 0      │\n",
       "└─────────┴─────────────┴─────────────┴─────────────┴───┴─────────────┴────────┴──────────┴────────┘"
      ]
     },
     "metadata": {},
     "output_type": "display_data"
    }
   ],
   "source": [
    "dataset_info(0)"
   ]
  },
  {
   "cell_type": "code",
   "execution_count": 8,
   "metadata": {},
   "outputs": [
    {
     "name": "stdout",
     "output_type": "stream",
     "text": [
      "Counts for Dataset 2:\n",
      "shape: (92, 2)\n",
      "┌──────────┬───────┐\n",
      "│ WEEK_NUM ┆ count │\n",
      "│ ---      ┆ ---   │\n",
      "│ i64      ┆ u32   │\n",
      "╞══════════╪═══════╡\n",
      "│ 0        ┆ 3267  │\n",
      "│ 1        ┆ 3673  │\n",
      "│ 2        ┆ 3402  │\n",
      "│ 3        ┆ 3137  │\n",
      "│ 4        ┆ 2781  │\n",
      "│ …        ┆ …     │\n",
      "│ 87       ┆ 3511  │\n",
      "│ 88       ┆ 2793  │\n",
      "│ 89       ┆ 2658  │\n",
      "│ 90       ┆ 2354  │\n",
      "│ 91       ┆ 2477  │\n",
      "└──────────┴───────┘\n"
     ]
    },
    {
     "data": {
      "text/html": [
       "<div><style>\n",
       ".dataframe > thead > tr,\n",
       ".dataframe > tbody > tr {\n",
       "  text-align: right;\n",
       "  white-space: pre-wrap;\n",
       "}\n",
       "</style>\n",
       "<small>shape: (5, 224)</small><table border=\"1\" class=\"dataframe\"><thead><tr><th>case_id</th><th>actualdpdtolerance_344P</th><th>amtinstpaidbefduel24m_4187115A</th><th>annuity_780A</th><th>annuitynextmonth_57A</th><th>applicationcnt_361L</th><th>applications30d_658L</th><th>applicationscnt_1086L</th><th>applicationscnt_464L</th><th>applicationscnt_629L</th><th>applicationscnt_867L</th><th>avgdbddpdlast24m_3658932P</th><th>avgdbddpdlast3m_4187120P</th><th>avgdbdtollast24m_4525197P</th><th>avgdpdtolclosure24_3658938P</th><th>avginstallast24m_3658937A</th><th>avglnamtstart24m_4525187A</th><th>avgmaxdpdlast9m_3716943P</th><th>avgoutstandbalancel6m_4187114A</th><th>avgpmtlast12m_4525200A</th><th>bankacctype_710L</th><th>cardtype_51L</th><th>clientscnt12m_3712952L</th><th>clientscnt3m_3712950L</th><th>clientscnt6m_3712949L</th><th>clientscnt_100L</th><th>clientscnt_1022L</th><th>clientscnt_1071L</th><th>clientscnt_1130L</th><th>clientscnt_136L</th><th>clientscnt_157L</th><th>clientscnt_257L</th><th>clientscnt_304L</th><th>clientscnt_360L</th><th>clientscnt_493L</th><th>clientscnt_533L</th><th>clientscnt_887L</th><th>&hellip;</th><th>formonth_118L</th><th>formonth_206L</th><th>formonth_535L</th><th>forquarter_1017L</th><th>forquarter_462L</th><th>forquarter_634L</th><th>fortoday_1092L</th><th>forweek_1077L</th><th>forweek_528L</th><th>forweek_601L</th><th>foryear_618L</th><th>foryear_818L</th><th>foryear_850L</th><th>fourthquarter_440L</th><th>maritalst_385M</th><th>maritalst_893M</th><th>numberofqueries_373L</th><th>pmtaverage_3A</th><th>pmtaverage_4527227A</th><th>pmtaverage_4955615A</th><th>pmtcount_4527229L</th><th>pmtcount_4955617L</th><th>pmtcount_693L</th><th>pmtscount_423L</th><th>pmtssum_45A</th><th>requesttype_4525192L</th><th>responsedate_1012D</th><th>responsedate_4527233D</th><th>responsedate_4917613D</th><th>riskassesment_302T</th><th>riskassesment_940T</th><th>secondquarter_766L</th><th>thirdquarter_1082L</th><th>date_decision</th><th>MONTH</th><th>WEEK_NUM</th><th>target</th></tr><tr><td>i64</td><td>f64</td><td>f64</td><td>f64</td><td>f64</td><td>f64</td><td>f64</td><td>f64</td><td>f64</td><td>f64</td><td>f64</td><td>f64</td><td>f64</td><td>str</td><td>f64</td><td>f64</td><td>str</td><td>f64</td><td>f64</td><td>str</td><td>str</td><td>str</td><td>f64</td><td>f64</td><td>f64</td><td>f64</td><td>f64</td><td>f64</td><td>f64</td><td>str</td><td>f64</td><td>f64</td><td>f64</td><td>f64</td><td>f64</td><td>f64</td><td>f64</td><td>&hellip;</td><td>f64</td><td>f64</td><td>f64</td><td>f64</td><td>f64</td><td>f64</td><td>f64</td><td>f64</td><td>f64</td><td>f64</td><td>f64</td><td>f64</td><td>f64</td><td>f64</td><td>str</td><td>str</td><td>f64</td><td>f64</td><td>str</td><td>str</td><td>str</td><td>str</td><td>f64</td><td>f64</td><td>f64</td><td>str</td><td>str</td><td>str</td><td>str</td><td>str</td><td>f64</td><td>f64</td><td>f64</td><td>str</td><td>i64</td><td>i64</td><td>i64</td></tr></thead><tbody><tr><td>660511</td><td>null</td><td>null</td><td>2362.0</td><td>0.0</td><td>0.0</td><td>0.0</td><td>0.0</td><td>0.0</td><td>0.0</td><td>0.0</td><td>null</td><td>null</td><td>null</td><td>null</td><td>null</td><td>null</td><td>null</td><td>null</td><td>null</td><td>null</td><td>null</td><td>0.0</td><td>0.0</td><td>0.0</td><td>0.0</td><td>0.0</td><td>0.0</td><td>0.0</td><td>null</td><td>0.0</td><td>0.0</td><td>0.0</td><td>0.0</td><td>0.0</td><td>0.0</td><td>0.0</td><td>&hellip;</td><td>null</td><td>null</td><td>null</td><td>null</td><td>null</td><td>null</td><td>null</td><td>null</td><td>null</td><td>null</td><td>null</td><td>null</td><td>null</td><td>2.0</td><td>&quot;3439d993&quot;</td><td>&quot;a55475b1&quot;</td><td>2.0</td><td>6987.1</td><td>null</td><td>null</td><td>null</td><td>null</td><td>6.0</td><td>null</td><td>null</td><td>null</td><td>&quot;2019-04-12&quot;</td><td>null</td><td>null</td><td>null</td><td>null</td><td>1.0</td><td>2.0</td><td>&quot;2019-03-29&quot;</td><td>201903</td><td>12</td><td>0</td></tr><tr><td>658533</td><td>null</td><td>null</td><td>1503.2001</td><td>0.0</td><td>0.0</td><td>0.0</td><td>0.0</td><td>0.0</td><td>0.0</td><td>0.0</td><td>null</td><td>null</td><td>null</td><td>null</td><td>null</td><td>null</td><td>null</td><td>null</td><td>null</td><td>null</td><td>&quot;INSTANT&quot;</td><td>0.0</td><td>0.0</td><td>0.0</td><td>0.0</td><td>0.0</td><td>0.0</td><td>0.0</td><td>null</td><td>0.0</td><td>0.0</td><td>0.0</td><td>0.0</td><td>0.0</td><td>0.0</td><td>10.0</td><td>&hellip;</td><td>null</td><td>null</td><td>null</td><td>null</td><td>null</td><td>null</td><td>null</td><td>null</td><td>null</td><td>null</td><td>null</td><td>null</td><td>null</td><td>0.0</td><td>&quot;3439d993&quot;</td><td>&quot;a55475b1&quot;</td><td>0.0</td><td>null</td><td>null</td><td>null</td><td>null</td><td>null</td><td>null</td><td>6.0</td><td>15193.4</td><td>null</td><td>&quot;2019-04-09&quot;</td><td>null</td><td>null</td><td>null</td><td>null</td><td>0.0</td><td>0.0</td><td>&quot;2019-03-26&quot;</td><td>201903</td><td>12</td><td>0</td></tr><tr><td>662820</td><td>null</td><td>null</td><td>4772.8003</td><td>0.0</td><td>0.0</td><td>0.0</td><td>0.0</td><td>0.0</td><td>0.0</td><td>1.0</td><td>null</td><td>null</td><td>null</td><td>null</td><td>null</td><td>null</td><td>null</td><td>null</td><td>null</td><td>null</td><td>null</td><td>0.0</td><td>0.0</td><td>0.0</td><td>0.0</td><td>0.0</td><td>1.0</td><td>0.0</td><td>null</td><td>1.0</td><td>0.0</td><td>0.0</td><td>0.0</td><td>0.0</td><td>1.0</td><td>3.0</td><td>&hellip;</td><td>null</td><td>null</td><td>null</td><td>null</td><td>null</td><td>null</td><td>null</td><td>null</td><td>null</td><td>null</td><td>null</td><td>null</td><td>null</td><td>6.0</td><td>&quot;3439d993&quot;</td><td>&quot;a55475b1&quot;</td><td>7.0</td><td>null</td><td>null</td><td>null</td><td>null</td><td>null</td><td>null</td><td>13.0</td><td>20610.0</td><td>null</td><td>&quot;2019-04-15&quot;</td><td>null</td><td>null</td><td>null</td><td>null</td><td>2.0</td><td>14.0</td><td>&quot;2019-04-01&quot;</td><td>201904</td><td>12</td><td>0</td></tr><tr><td>1327589</td><td>0.0</td><td>26337.36</td><td>2644.0</td><td>2836.2</td><td>0.0</td><td>0.0</td><td>0.0</td><td>0.0</td><td>0.0</td><td>1.0</td><td>1.0</td><td>-4.0</td><td>null</td><td>1.0</td><td>3488.8</td><td>null</td><td>1.0</td><td>21370.066</td><td>null</td><td>null</td><td>null</td><td>0.0</td><td>0.0</td><td>0.0</td><td>0.0</td><td>0.0</td><td>0.0</td><td>0.0</td><td>null</td><td>0.0</td><td>0.0</td><td>0.0</td><td>0.0</td><td>0.0</td><td>0.0</td><td>0.0</td><td>&hellip;</td><td>0.0</td><td>0.0</td><td>0.0</td><td>0.0</td><td>0.0</td><td>0.0</td><td>0.0</td><td>0.0</td><td>0.0</td><td>0.0</td><td>0.0</td><td>0.0</td><td>2.0</td><td>null</td><td>&quot;a55475b1&quot;</td><td>&quot;1a19667c&quot;</td><td>null</td><td>null</td><td>null</td><td>null</td><td>null</td><td>null</td><td>null</td><td>8.0</td><td>4696.8003</td><td>null</td><td>&quot;2019-04-15&quot;</td><td>null</td><td>null</td><td>null</td><td>null</td><td>null</td><td>null</td><td>&quot;2019-04-01&quot;</td><td>201904</td><td>12</td><td>0</td></tr><tr><td>1324643</td><td>0.0</td><td>11385.0</td><td>1854.4</td><td>3795.0</td><td>0.0</td><td>0.0</td><td>0.0</td><td>0.0</td><td>0.0</td><td>2.0</td><td>7.0</td><td>9.0</td><td>null</td><td>0.0</td><td>3795.0</td><td>null</td><td>0.0</td><td>85153.4</td><td>null</td><td>null</td><td>null</td><td>0.0</td><td>0.0</td><td>0.0</td><td>0.0</td><td>0.0</td><td>0.0</td><td>0.0</td><td>null</td><td>0.0</td><td>0.0</td><td>0.0</td><td>0.0</td><td>0.0</td><td>0.0</td><td>0.0</td><td>&hellip;</td><td>null</td><td>null</td><td>null</td><td>null</td><td>null</td><td>null</td><td>null</td><td>null</td><td>null</td><td>null</td><td>null</td><td>null</td><td>null</td><td>7.0</td><td>&quot;a55475b1&quot;</td><td>&quot;a55475b1&quot;</td><td>7.0</td><td>3585.9001</td><td>null</td><td>null</td><td>null</td><td>null</td><td>12.0</td><td>null</td><td>null</td><td>null</td><td>&quot;2019-04-13&quot;</td><td>null</td><td>null</td><td>null</td><td>null</td><td>0.0</td><td>0.0</td><td>&quot;2019-03-30&quot;</td><td>201903</td><td>12</td><td>0</td></tr></tbody></table></div>"
      ],
      "text/plain": [
       "shape: (5, 224)\n",
       "┌─────────┬─────────────┬─────────────┬─────────────┬───┬─────────────┬────────┬──────────┬────────┐\n",
       "│ case_id ┆ actualdpdto ┆ amtinstpaid ┆ annuity_780 ┆ … ┆ date_decisi ┆ MONTH  ┆ WEEK_NUM ┆ target │\n",
       "│ ---     ┆ lerance_344 ┆ befduel24m_ ┆ A           ┆   ┆ on          ┆ ---    ┆ ---      ┆ ---    │\n",
       "│ i64     ┆ P           ┆ 4187115A    ┆ ---         ┆   ┆ ---         ┆ i64    ┆ i64      ┆ i64    │\n",
       "│         ┆ ---         ┆ ---         ┆ f64         ┆   ┆ str         ┆        ┆          ┆        │\n",
       "│         ┆ f64         ┆ f64         ┆             ┆   ┆             ┆        ┆          ┆        │\n",
       "╞═════════╪═════════════╪═════════════╪═════════════╪═══╪═════════════╪════════╪══════════╪════════╡\n",
       "│ 660511  ┆ null        ┆ null        ┆ 2362.0      ┆ … ┆ 2019-03-29  ┆ 201903 ┆ 12       ┆ 0      │\n",
       "│ 658533  ┆ null        ┆ null        ┆ 1503.2001   ┆ … ┆ 2019-03-26  ┆ 201903 ┆ 12       ┆ 0      │\n",
       "│ 662820  ┆ null        ┆ null        ┆ 4772.8003   ┆ … ┆ 2019-04-01  ┆ 201904 ┆ 12       ┆ 0      │\n",
       "│ 1327589 ┆ 0.0         ┆ 26337.36    ┆ 2644.0      ┆ … ┆ 2019-04-01  ┆ 201904 ┆ 12       ┆ 0      │\n",
       "│ 1324643 ┆ 0.0         ┆ 11385.0     ┆ 1854.4      ┆ … ┆ 2019-03-30  ┆ 201903 ┆ 12       ┆ 0      │\n",
       "└─────────┴─────────────┴─────────────┴─────────────┴───┴─────────────┴────────┴──────────┴────────┘"
      ]
     },
     "metadata": {},
     "output_type": "display_data"
    }
   ],
   "source": [
    "dataset_info(1)"
   ]
  },
  {
   "cell_type": "code",
   "execution_count": 9,
   "metadata": {},
   "outputs": [
    {
     "name": "stdout",
     "output_type": "stream",
     "text": [
      "Counts for Dataset 3:\n",
      "shape: (92, 2)\n",
      "┌──────────┬───────┐\n",
      "│ WEEK_NUM ┆ count │\n",
      "│ ---      ┆ ---   │\n",
      "│ i64      ┆ u32   │\n",
      "╞══════════╪═══════╡\n",
      "│ 0        ┆ 3267  │\n",
      "│ 1        ┆ 3673  │\n",
      "│ 2        ┆ 3402  │\n",
      "│ 3        ┆ 3137  │\n",
      "│ 4        ┆ 2781  │\n",
      "│ …        ┆ …     │\n",
      "│ 87       ┆ 3511  │\n",
      "│ 88       ┆ 2793  │\n",
      "│ 89       ┆ 2658  │\n",
      "│ 90       ┆ 2354  │\n",
      "│ 91       ┆ 2477  │\n",
      "└──────────┴───────┘\n"
     ]
    },
    {
     "data": {
      "text/html": [
       "<div><style>\n",
       ".dataframe > thead > tr,\n",
       ".dataframe > tbody > tr {\n",
       "  text-align: right;\n",
       "  white-space: pre-wrap;\n",
       "}\n",
       "</style>\n",
       "<small>shape: (5, 224)</small><table border=\"1\" class=\"dataframe\"><thead><tr><th>case_id</th><th>actualdpdtolerance_344P</th><th>amtinstpaidbefduel24m_4187115A</th><th>annuity_780A</th><th>annuitynextmonth_57A</th><th>applicationcnt_361L</th><th>applications30d_658L</th><th>applicationscnt_1086L</th><th>applicationscnt_464L</th><th>applicationscnt_629L</th><th>applicationscnt_867L</th><th>avgdbddpdlast24m_3658932P</th><th>avgdbddpdlast3m_4187120P</th><th>avgdbdtollast24m_4525197P</th><th>avgdpdtolclosure24_3658938P</th><th>avginstallast24m_3658937A</th><th>avglnamtstart24m_4525187A</th><th>avgmaxdpdlast9m_3716943P</th><th>avgoutstandbalancel6m_4187114A</th><th>avgpmtlast12m_4525200A</th><th>bankacctype_710L</th><th>cardtype_51L</th><th>clientscnt12m_3712952L</th><th>clientscnt3m_3712950L</th><th>clientscnt6m_3712949L</th><th>clientscnt_100L</th><th>clientscnt_1022L</th><th>clientscnt_1071L</th><th>clientscnt_1130L</th><th>clientscnt_136L</th><th>clientscnt_157L</th><th>clientscnt_257L</th><th>clientscnt_304L</th><th>clientscnt_360L</th><th>clientscnt_493L</th><th>clientscnt_533L</th><th>clientscnt_887L</th><th>&hellip;</th><th>formonth_118L</th><th>formonth_206L</th><th>formonth_535L</th><th>forquarter_1017L</th><th>forquarter_462L</th><th>forquarter_634L</th><th>fortoday_1092L</th><th>forweek_1077L</th><th>forweek_528L</th><th>forweek_601L</th><th>foryear_618L</th><th>foryear_818L</th><th>foryear_850L</th><th>fourthquarter_440L</th><th>maritalst_385M</th><th>maritalst_893M</th><th>numberofqueries_373L</th><th>pmtaverage_3A</th><th>pmtaverage_4527227A</th><th>pmtaverage_4955615A</th><th>pmtcount_4527229L</th><th>pmtcount_4955617L</th><th>pmtcount_693L</th><th>pmtscount_423L</th><th>pmtssum_45A</th><th>requesttype_4525192L</th><th>responsedate_1012D</th><th>responsedate_4527233D</th><th>responsedate_4917613D</th><th>riskassesment_302T</th><th>riskassesment_940T</th><th>secondquarter_766L</th><th>thirdquarter_1082L</th><th>date_decision</th><th>MONTH</th><th>WEEK_NUM</th><th>target</th></tr><tr><td>i64</td><td>f64</td><td>f64</td><td>f64</td><td>f64</td><td>f64</td><td>f64</td><td>f64</td><td>f64</td><td>f64</td><td>f64</td><td>f64</td><td>f64</td><td>str</td><td>f64</td><td>f64</td><td>str</td><td>f64</td><td>f64</td><td>str</td><td>str</td><td>str</td><td>f64</td><td>f64</td><td>f64</td><td>f64</td><td>f64</td><td>f64</td><td>f64</td><td>str</td><td>f64</td><td>f64</td><td>f64</td><td>f64</td><td>f64</td><td>f64</td><td>f64</td><td>&hellip;</td><td>f64</td><td>f64</td><td>f64</td><td>f64</td><td>f64</td><td>f64</td><td>f64</td><td>f64</td><td>f64</td><td>f64</td><td>f64</td><td>f64</td><td>f64</td><td>f64</td><td>str</td><td>str</td><td>f64</td><td>f64</td><td>str</td><td>str</td><td>str</td><td>str</td><td>f64</td><td>f64</td><td>f64</td><td>str</td><td>str</td><td>str</td><td>str</td><td>str</td><td>f64</td><td>f64</td><td>f64</td><td>str</td><td>i64</td><td>i64</td><td>i64</td></tr></thead><tbody><tr><td>661371</td><td>null</td><td>null</td><td>3540.6</td><td>0.0</td><td>0.0</td><td>0.0</td><td>0.0</td><td>2.0</td><td>2.0</td><td>0.0</td><td>null</td><td>null</td><td>null</td><td>null</td><td>null</td><td>null</td><td>null</td><td>null</td><td>null</td><td>null</td><td>null</td><td>0.0</td><td>0.0</td><td>0.0</td><td>1.0</td><td>0.0</td><td>0.0</td><td>0.0</td><td>null</td><td>0.0</td><td>1.0</td><td>0.0</td><td>0.0</td><td>0.0</td><td>0.0</td><td>0.0</td><td>&hellip;</td><td>null</td><td>null</td><td>null</td><td>null</td><td>null</td><td>null</td><td>null</td><td>null</td><td>null</td><td>null</td><td>null</td><td>null</td><td>null</td><td>1.0</td><td>&quot;a55475b1&quot;</td><td>&quot;a55475b1&quot;</td><td>4.0</td><td>null</td><td>null</td><td>null</td><td>null</td><td>null</td><td>null</td><td>0.0</td><td>0.0</td><td>null</td><td>&quot;2019-04-13&quot;</td><td>null</td><td>null</td><td>null</td><td>null</td><td>0.0</td><td>0.0</td><td>&quot;2019-03-30&quot;</td><td>201903</td><td>12</td><td>0</td></tr><tr><td>659658</td><td>0.0</td><td>null</td><td>5381.0</td><td>0.0</td><td>0.0</td><td>0.0</td><td>0.0</td><td>2.0</td><td>0.0</td><td>0.0</td><td>null</td><td>null</td><td>null</td><td>null</td><td>null</td><td>null</td><td>null</td><td>null</td><td>null</td><td>null</td><td>null</td><td>0.0</td><td>0.0</td><td>0.0</td><td>0.0</td><td>0.0</td><td>0.0</td><td>0.0</td><td>null</td><td>0.0</td><td>0.0</td><td>0.0</td><td>0.0</td><td>0.0</td><td>0.0</td><td>0.0</td><td>&hellip;</td><td>null</td><td>null</td><td>null</td><td>null</td><td>null</td><td>null</td><td>null</td><td>null</td><td>null</td><td>null</td><td>null</td><td>null</td><td>null</td><td>0.0</td><td>&quot;a7fcb6e5&quot;</td><td>&quot;a55475b1&quot;</td><td>5.0</td><td>null</td><td>null</td><td>null</td><td>null</td><td>null</td><td>null</td><td>6.0</td><td>10931.358</td><td>null</td><td>&quot;2019-04-11&quot;</td><td>null</td><td>null</td><td>null</td><td>null</td><td>5.0</td><td>1.0</td><td>&quot;2019-03-28&quot;</td><td>201903</td><td>12</td><td>0</td></tr><tr><td>659728</td><td>null</td><td>null</td><td>4000.8</td><td>0.0</td><td>0.0</td><td>0.0</td><td>0.0</td><td>0.0</td><td>0.0</td><td>0.0</td><td>null</td><td>null</td><td>null</td><td>null</td><td>null</td><td>null</td><td>null</td><td>null</td><td>null</td><td>null</td><td>null</td><td>0.0</td><td>0.0</td><td>0.0</td><td>0.0</td><td>0.0</td><td>0.0</td><td>0.0</td><td>null</td><td>0.0</td><td>0.0</td><td>0.0</td><td>0.0</td><td>0.0</td><td>0.0</td><td>0.0</td><td>&hellip;</td><td>null</td><td>null</td><td>null</td><td>null</td><td>null</td><td>null</td><td>null</td><td>null</td><td>null</td><td>null</td><td>null</td><td>null</td><td>null</td><td>0.0</td><td>&quot;a55475b1&quot;</td><td>&quot;a55475b1&quot;</td><td>1.0</td><td>null</td><td>null</td><td>null</td><td>null</td><td>null</td><td>null</td><td>9.0</td><td>6036.2</td><td>null</td><td>&quot;2019-04-11&quot;</td><td>null</td><td>null</td><td>null</td><td>null</td><td>0.0</td><td>0.0</td><td>&quot;2019-03-28&quot;</td><td>201903</td><td>12</td><td>0</td></tr><tr><td>2555776</td><td>0.0</td><td>93365.66</td><td>4420.6</td><td>3074.4001</td><td>0.0</td><td>0.0</td><td>0.0</td><td>0.0</td><td>0.0</td><td>2.0</td><td>-3.0</td><td>-3.0</td><td>null</td><td>0.0</td><td>6224.4</td><td>null</td><td>0.0</td><td>30609.6</td><td>null</td><td>&quot;CA&quot;</td><td>null</td><td>0.0</td><td>0.0</td><td>0.0</td><td>0.0</td><td>0.0</td><td>0.0</td><td>0.0</td><td>null</td><td>0.0</td><td>0.0</td><td>0.0</td><td>0.0</td><td>1.0</td><td>0.0</td><td>0.0</td><td>&hellip;</td><td>null</td><td>null</td><td>null</td><td>null</td><td>null</td><td>null</td><td>null</td><td>null</td><td>null</td><td>null</td><td>null</td><td>null</td><td>null</td><td>0.0</td><td>&quot;a55475b1&quot;</td><td>&quot;a55475b1&quot;</td><td>0.0</td><td>8434.9</td><td>null</td><td>null</td><td>null</td><td>null</td><td>6.0</td><td>null</td><td>null</td><td>null</td><td>&quot;2019-04-10&quot;</td><td>null</td><td>null</td><td>null</td><td>null</td><td>0.0</td><td>0.0</td><td>&quot;2019-03-27&quot;</td><td>201903</td><td>12</td><td>0</td></tr><tr><td>1325031</td><td>0.0</td><td>73904.305</td><td>2018.6</td><td>4680.6</td><td>0.0</td><td>0.0</td><td>0.0</td><td>0.0</td><td>0.0</td><td>0.0</td><td>-6.0</td><td>-10.0</td><td>null</td><td>0.0</td><td>6071.4</td><td>null</td><td>0.0</td><td>60433.34</td><td>null</td><td>null</td><td>null</td><td>0.0</td><td>0.0</td><td>0.0</td><td>0.0</td><td>0.0</td><td>0.0</td><td>0.0</td><td>null</td><td>0.0</td><td>0.0</td><td>0.0</td><td>0.0</td><td>0.0</td><td>0.0</td><td>0.0</td><td>&hellip;</td><td>null</td><td>null</td><td>null</td><td>null</td><td>null</td><td>null</td><td>null</td><td>null</td><td>null</td><td>null</td><td>null</td><td>null</td><td>null</td><td>2.0</td><td>&quot;a55475b1&quot;</td><td>&quot;a55475b1&quot;</td><td>3.0</td><td>null</td><td>null</td><td>null</td><td>null</td><td>null</td><td>null</td><td>10.0</td><td>13024.4</td><td>null</td><td>&quot;2019-04-13&quot;</td><td>null</td><td>null</td><td>null</td><td>null</td><td>0.0</td><td>1.0</td><td>&quot;2019-03-30&quot;</td><td>201903</td><td>12</td><td>0</td></tr></tbody></table></div>"
      ],
      "text/plain": [
       "shape: (5, 224)\n",
       "┌─────────┬─────────────┬─────────────┬─────────────┬───┬─────────────┬────────┬──────────┬────────┐\n",
       "│ case_id ┆ actualdpdto ┆ amtinstpaid ┆ annuity_780 ┆ … ┆ date_decisi ┆ MONTH  ┆ WEEK_NUM ┆ target │\n",
       "│ ---     ┆ lerance_344 ┆ befduel24m_ ┆ A           ┆   ┆ on          ┆ ---    ┆ ---      ┆ ---    │\n",
       "│ i64     ┆ P           ┆ 4187115A    ┆ ---         ┆   ┆ ---         ┆ i64    ┆ i64      ┆ i64    │\n",
       "│         ┆ ---         ┆ ---         ┆ f64         ┆   ┆ str         ┆        ┆          ┆        │\n",
       "│         ┆ f64         ┆ f64         ┆             ┆   ┆             ┆        ┆          ┆        │\n",
       "╞═════════╪═════════════╪═════════════╪═════════════╪═══╪═════════════╪════════╪══════════╪════════╡\n",
       "│ 661371  ┆ null        ┆ null        ┆ 3540.6      ┆ … ┆ 2019-03-30  ┆ 201903 ┆ 12       ┆ 0      │\n",
       "│ 659658  ┆ 0.0         ┆ null        ┆ 5381.0      ┆ … ┆ 2019-03-28  ┆ 201903 ┆ 12       ┆ 0      │\n",
       "│ 659728  ┆ null        ┆ null        ┆ 4000.8      ┆ … ┆ 2019-03-28  ┆ 201903 ┆ 12       ┆ 0      │\n",
       "│ 2555776 ┆ 0.0         ┆ 93365.66    ┆ 4420.6      ┆ … ┆ 2019-03-27  ┆ 201903 ┆ 12       ┆ 0      │\n",
       "│ 1325031 ┆ 0.0         ┆ 73904.305   ┆ 2018.6      ┆ … ┆ 2019-03-30  ┆ 201903 ┆ 12       ┆ 0      │\n",
       "└─────────┴─────────────┴─────────────┴─────────────┴───┴─────────────┴────────┴──────────┴────────┘"
      ]
     },
     "metadata": {},
     "output_type": "display_data"
    }
   ],
   "source": [
    "dataset_info(2)"
   ]
  },
  {
   "cell_type": "code",
   "execution_count": 10,
   "metadata": {},
   "outputs": [
    {
     "name": "stdout",
     "output_type": "stream",
     "text": [
      "Counts for Dataset 4:\n",
      "shape: (92, 2)\n",
      "┌──────────┬───────┐\n",
      "│ WEEK_NUM ┆ count │\n",
      "│ ---      ┆ ---   │\n",
      "│ i64      ┆ u32   │\n",
      "╞══════════╪═══════╡\n",
      "│ 0        ┆ 3267  │\n",
      "│ 1        ┆ 3673  │\n",
      "│ 2        ┆ 3402  │\n",
      "│ 3        ┆ 3137  │\n",
      "│ 4        ┆ 2781  │\n",
      "│ …        ┆ …     │\n",
      "│ 87       ┆ 3511  │\n",
      "│ 88       ┆ 2793  │\n",
      "│ 89       ┆ 2658  │\n",
      "│ 90       ┆ 2354  │\n",
      "│ 91       ┆ 2477  │\n",
      "└──────────┴───────┘\n"
     ]
    },
    {
     "data": {
      "text/html": [
       "<div><style>\n",
       ".dataframe > thead > tr,\n",
       ".dataframe > tbody > tr {\n",
       "  text-align: right;\n",
       "  white-space: pre-wrap;\n",
       "}\n",
       "</style>\n",
       "<small>shape: (5, 224)</small><table border=\"1\" class=\"dataframe\"><thead><tr><th>case_id</th><th>actualdpdtolerance_344P</th><th>amtinstpaidbefduel24m_4187115A</th><th>annuity_780A</th><th>annuitynextmonth_57A</th><th>applicationcnt_361L</th><th>applications30d_658L</th><th>applicationscnt_1086L</th><th>applicationscnt_464L</th><th>applicationscnt_629L</th><th>applicationscnt_867L</th><th>avgdbddpdlast24m_3658932P</th><th>avgdbddpdlast3m_4187120P</th><th>avgdbdtollast24m_4525197P</th><th>avgdpdtolclosure24_3658938P</th><th>avginstallast24m_3658937A</th><th>avglnamtstart24m_4525187A</th><th>avgmaxdpdlast9m_3716943P</th><th>avgoutstandbalancel6m_4187114A</th><th>avgpmtlast12m_4525200A</th><th>bankacctype_710L</th><th>cardtype_51L</th><th>clientscnt12m_3712952L</th><th>clientscnt3m_3712950L</th><th>clientscnt6m_3712949L</th><th>clientscnt_100L</th><th>clientscnt_1022L</th><th>clientscnt_1071L</th><th>clientscnt_1130L</th><th>clientscnt_136L</th><th>clientscnt_157L</th><th>clientscnt_257L</th><th>clientscnt_304L</th><th>clientscnt_360L</th><th>clientscnt_493L</th><th>clientscnt_533L</th><th>clientscnt_887L</th><th>&hellip;</th><th>formonth_118L</th><th>formonth_206L</th><th>formonth_535L</th><th>forquarter_1017L</th><th>forquarter_462L</th><th>forquarter_634L</th><th>fortoday_1092L</th><th>forweek_1077L</th><th>forweek_528L</th><th>forweek_601L</th><th>foryear_618L</th><th>foryear_818L</th><th>foryear_850L</th><th>fourthquarter_440L</th><th>maritalst_385M</th><th>maritalst_893M</th><th>numberofqueries_373L</th><th>pmtaverage_3A</th><th>pmtaverage_4527227A</th><th>pmtaverage_4955615A</th><th>pmtcount_4527229L</th><th>pmtcount_4955617L</th><th>pmtcount_693L</th><th>pmtscount_423L</th><th>pmtssum_45A</th><th>requesttype_4525192L</th><th>responsedate_1012D</th><th>responsedate_4527233D</th><th>responsedate_4917613D</th><th>riskassesment_302T</th><th>riskassesment_940T</th><th>secondquarter_766L</th><th>thirdquarter_1082L</th><th>date_decision</th><th>MONTH</th><th>WEEK_NUM</th><th>target</th></tr><tr><td>i64</td><td>f64</td><td>f64</td><td>f64</td><td>f64</td><td>f64</td><td>f64</td><td>f64</td><td>f64</td><td>f64</td><td>f64</td><td>f64</td><td>f64</td><td>str</td><td>f64</td><td>f64</td><td>str</td><td>f64</td><td>f64</td><td>str</td><td>str</td><td>str</td><td>f64</td><td>f64</td><td>f64</td><td>f64</td><td>f64</td><td>f64</td><td>f64</td><td>str</td><td>f64</td><td>f64</td><td>f64</td><td>f64</td><td>f64</td><td>f64</td><td>f64</td><td>&hellip;</td><td>str</td><td>str</td><td>str</td><td>str</td><td>str</td><td>str</td><td>str</td><td>str</td><td>str</td><td>str</td><td>str</td><td>str</td><td>str</td><td>f64</td><td>str</td><td>str</td><td>f64</td><td>f64</td><td>str</td><td>str</td><td>str</td><td>str</td><td>f64</td><td>f64</td><td>f64</td><td>str</td><td>str</td><td>str</td><td>str</td><td>str</td><td>str</td><td>f64</td><td>f64</td><td>str</td><td>i64</td><td>i64</td><td>i64</td></tr></thead><tbody><tr><td>2556171</td><td>0.0</td><td>134969.5</td><td>3386.2</td><td>3274.2</td><td>0.0</td><td>0.0</td><td>0.0</td><td>0.0</td><td>0.0</td><td>16.0</td><td>-22.0</td><td>-14.0</td><td>null</td><td>0.0</td><td>5491.4</td><td>null</td><td>0.0</td><td>47069.375</td><td>null</td><td>&quot;CA&quot;</td><td>null</td><td>0.0</td><td>0.0</td><td>0.0</td><td>0.0</td><td>0.0</td><td>0.0</td><td>0.0</td><td>null</td><td>0.0</td><td>0.0</td><td>0.0</td><td>0.0</td><td>0.0</td><td>0.0</td><td>0.0</td><td>&hellip;</td><td>null</td><td>null</td><td>null</td><td>null</td><td>null</td><td>null</td><td>null</td><td>null</td><td>null</td><td>null</td><td>null</td><td>null</td><td>null</td><td>2.0</td><td>&quot;38c061ee&quot;</td><td>&quot;a55475b1&quot;</td><td>1.0</td><td>7428.7</td><td>null</td><td>null</td><td>null</td><td>null</td><td>5.0</td><td>null</td><td>null</td><td>null</td><td>&quot;2019-04-11&quot;</td><td>null</td><td>null</td><td>null</td><td>null</td><td>0.0</td><td>1.0</td><td>&quot;2019-03-28&quot;</td><td>201903</td><td>12</td><td>0</td></tr><tr><td>1323244</td><td>0.0</td><td>19168.6</td><td>1218.8</td><td>0.0</td><td>0.0</td><td>0.0</td><td>0.0</td><td>0.0</td><td>0.0</td><td>9.0</td><td>-1.0</td><td>null</td><td>null</td><td>1.0</td><td>3560.0</td><td>null</td><td>null</td><td>null</td><td>null</td><td>null</td><td>null</td><td>0.0</td><td>0.0</td><td>0.0</td><td>0.0</td><td>0.0</td><td>0.0</td><td>0.0</td><td>null</td><td>0.0</td><td>0.0</td><td>0.0</td><td>0.0</td><td>0.0</td><td>0.0</td><td>0.0</td><td>&hellip;</td><td>null</td><td>null</td><td>null</td><td>null</td><td>null</td><td>null</td><td>null</td><td>null</td><td>null</td><td>null</td><td>null</td><td>null</td><td>null</td><td>2.0</td><td>&quot;3439d993&quot;</td><td>&quot;a55475b1&quot;</td><td>4.0</td><td>null</td><td>null</td><td>null</td><td>null</td><td>null</td><td>null</td><td>13.0</td><td>9349.0</td><td>null</td><td>&quot;2019-04-11&quot;</td><td>null</td><td>null</td><td>null</td><td>null</td><td>4.0</td><td>3.0</td><td>&quot;2019-03-28&quot;</td><td>201903</td><td>12</td><td>0</td></tr><tr><td>1323644</td><td>0.0</td><td>null</td><td>2515.0</td><td>0.0</td><td>0.0</td><td>0.0</td><td>0.0</td><td>0.0</td><td>0.0</td><td>0.0</td><td>null</td><td>null</td><td>null</td><td>null</td><td>null</td><td>null</td><td>null</td><td>null</td><td>null</td><td>null</td><td>null</td><td>0.0</td><td>0.0</td><td>0.0</td><td>0.0</td><td>0.0</td><td>0.0</td><td>0.0</td><td>null</td><td>0.0</td><td>0.0</td><td>0.0</td><td>0.0</td><td>0.0</td><td>0.0</td><td>0.0</td><td>&hellip;</td><td>null</td><td>null</td><td>null</td><td>null</td><td>null</td><td>null</td><td>null</td><td>null</td><td>null</td><td>null</td><td>null</td><td>null</td><td>null</td><td>0.0</td><td>&quot;a55475b1&quot;</td><td>&quot;a55475b1&quot;</td><td>4.0</td><td>null</td><td>null</td><td>null</td><td>null</td><td>null</td><td>null</td><td>1.0</td><td>1252.964</td><td>null</td><td>&quot;2019-04-11&quot;</td><td>null</td><td>null</td><td>null</td><td>null</td><td>5.0</td><td>0.0</td><td>&quot;2019-03-28&quot;</td><td>201903</td><td>12</td><td>0</td></tr><tr><td>662056</td><td>null</td><td>null</td><td>5557.4</td><td>0.0</td><td>0.0</td><td>0.0</td><td>5.0</td><td>0.0</td><td>0.0</td><td>0.0</td><td>null</td><td>null</td><td>null</td><td>null</td><td>null</td><td>null</td><td>null</td><td>null</td><td>null</td><td>null</td><td>null</td><td>0.0</td><td>0.0</td><td>0.0</td><td>0.0</td><td>0.0</td><td>0.0</td><td>0.0</td><td>null</td><td>0.0</td><td>0.0</td><td>5.0</td><td>0.0</td><td>0.0</td><td>0.0</td><td>0.0</td><td>&hellip;</td><td>null</td><td>null</td><td>null</td><td>null</td><td>null</td><td>null</td><td>null</td><td>null</td><td>null</td><td>null</td><td>null</td><td>null</td><td>null</td><td>2.0</td><td>&quot;b6cabe76&quot;</td><td>&quot;a55475b1&quot;</td><td>0.0</td><td>17453.9</td><td>null</td><td>null</td><td>null</td><td>null</td><td>6.0</td><td>null</td><td>null</td><td>null</td><td>&quot;2019-04-14&quot;</td><td>null</td><td>null</td><td>null</td><td>null</td><td>0.0</td><td>0.0</td><td>&quot;2019-03-31&quot;</td><td>201903</td><td>12</td><td>0</td></tr><tr><td>1322973</td><td>0.0</td><td>15175.8</td><td>1575.0</td><td>1683.4</td><td>0.0</td><td>0.0</td><td>0.0</td><td>0.0</td><td>0.0</td><td>2.0</td><td>0.0</td><td>-1.0</td><td>null</td><td>1.0</td><td>1686.2001</td><td>null</td><td>0.0</td><td>6704.742</td><td>null</td><td>null</td><td>null</td><td>0.0</td><td>0.0</td><td>0.0</td><td>0.0</td><td>0.0</td><td>0.0</td><td>0.0</td><td>null</td><td>0.0</td><td>0.0</td><td>0.0</td><td>0.0</td><td>0.0</td><td>0.0</td><td>0.0</td><td>&hellip;</td><td>null</td><td>null</td><td>null</td><td>null</td><td>null</td><td>null</td><td>null</td><td>null</td><td>null</td><td>null</td><td>null</td><td>null</td><td>null</td><td>1.0</td><td>&quot;3439d993&quot;</td><td>&quot;a55475b1&quot;</td><td>2.0</td><td>null</td><td>null</td><td>null</td><td>null</td><td>null</td><td>null</td><td>1.0</td><td>75.75</td><td>null</td><td>&quot;2019-04-11&quot;</td><td>null</td><td>null</td><td>null</td><td>null</td><td>0.0</td><td>1.0</td><td>&quot;2019-03-28&quot;</td><td>201903</td><td>12</td><td>0</td></tr></tbody></table></div>"
      ],
      "text/plain": [
       "shape: (5, 224)\n",
       "┌─────────┬─────────────┬─────────────┬─────────────┬───┬─────────────┬────────┬──────────┬────────┐\n",
       "│ case_id ┆ actualdpdto ┆ amtinstpaid ┆ annuity_780 ┆ … ┆ date_decisi ┆ MONTH  ┆ WEEK_NUM ┆ target │\n",
       "│ ---     ┆ lerance_344 ┆ befduel24m_ ┆ A           ┆   ┆ on          ┆ ---    ┆ ---      ┆ ---    │\n",
       "│ i64     ┆ P           ┆ 4187115A    ┆ ---         ┆   ┆ ---         ┆ i64    ┆ i64      ┆ i64    │\n",
       "│         ┆ ---         ┆ ---         ┆ f64         ┆   ┆ str         ┆        ┆          ┆        │\n",
       "│         ┆ f64         ┆ f64         ┆             ┆   ┆             ┆        ┆          ┆        │\n",
       "╞═════════╪═════════════╪═════════════╪═════════════╪═══╪═════════════╪════════╪══════════╪════════╡\n",
       "│ 2556171 ┆ 0.0         ┆ 134969.5    ┆ 3386.2      ┆ … ┆ 2019-03-28  ┆ 201903 ┆ 12       ┆ 0      │\n",
       "│ 1323244 ┆ 0.0         ┆ 19168.6     ┆ 1218.8      ┆ … ┆ 2019-03-28  ┆ 201903 ┆ 12       ┆ 0      │\n",
       "│ 1323644 ┆ 0.0         ┆ null        ┆ 2515.0      ┆ … ┆ 2019-03-28  ┆ 201903 ┆ 12       ┆ 0      │\n",
       "│ 662056  ┆ null        ┆ null        ┆ 5557.4      ┆ … ┆ 2019-03-31  ┆ 201903 ┆ 12       ┆ 0      │\n",
       "│ 1322973 ┆ 0.0         ┆ 15175.8     ┆ 1575.0      ┆ … ┆ 2019-03-28  ┆ 201903 ┆ 12       ┆ 0      │\n",
       "└─────────┴─────────────┴─────────────┴─────────────┴───┴─────────────┴────────┴──────────┴────────┘"
      ]
     },
     "metadata": {},
     "output_type": "display_data"
    }
   ],
   "source": [
    "dataset_info(3)"
   ]
  },
  {
   "cell_type": "code",
   "execution_count": 11,
   "metadata": {},
   "outputs": [
    {
     "name": "stdout",
     "output_type": "stream",
     "text": [
      "Counts for Dataset 5:\n",
      "shape: (92, 2)\n",
      "┌──────────┬───────┐\n",
      "│ WEEK_NUM ┆ count │\n",
      "│ ---      ┆ ---   │\n",
      "│ i64      ┆ u32   │\n",
      "╞══════════╪═══════╡\n",
      "│ 0        ┆ 3267  │\n",
      "│ 1        ┆ 3677  │\n",
      "│ 2        ┆ 3403  │\n",
      "│ 3        ┆ 3141  │\n",
      "│ 4        ┆ 2781  │\n",
      "│ …        ┆ …     │\n",
      "│ 87       ┆ 3513  │\n",
      "│ 88       ┆ 2797  │\n",
      "│ 89       ┆ 2659  │\n",
      "│ 90       ┆ 2357  │\n",
      "│ 91       ┆ 2478  │\n",
      "└──────────┴───────┘\n"
     ]
    },
    {
     "data": {
      "text/html": [
       "<div><style>\n",
       ".dataframe > thead > tr,\n",
       ".dataframe > tbody > tr {\n",
       "  text-align: right;\n",
       "  white-space: pre-wrap;\n",
       "}\n",
       "</style>\n",
       "<small>shape: (5, 224)</small><table border=\"1\" class=\"dataframe\"><thead><tr><th>case_id</th><th>actualdpdtolerance_344P</th><th>amtinstpaidbefduel24m_4187115A</th><th>annuity_780A</th><th>annuitynextmonth_57A</th><th>applicationcnt_361L</th><th>applications30d_658L</th><th>applicationscnt_1086L</th><th>applicationscnt_464L</th><th>applicationscnt_629L</th><th>applicationscnt_867L</th><th>avgdbddpdlast24m_3658932P</th><th>avgdbddpdlast3m_4187120P</th><th>avgdbdtollast24m_4525197P</th><th>avgdpdtolclosure24_3658938P</th><th>avginstallast24m_3658937A</th><th>avglnamtstart24m_4525187A</th><th>avgmaxdpdlast9m_3716943P</th><th>avgoutstandbalancel6m_4187114A</th><th>avgpmtlast12m_4525200A</th><th>bankacctype_710L</th><th>cardtype_51L</th><th>clientscnt12m_3712952L</th><th>clientscnt3m_3712950L</th><th>clientscnt6m_3712949L</th><th>clientscnt_100L</th><th>clientscnt_1022L</th><th>clientscnt_1071L</th><th>clientscnt_1130L</th><th>clientscnt_136L</th><th>clientscnt_157L</th><th>clientscnt_257L</th><th>clientscnt_304L</th><th>clientscnt_360L</th><th>clientscnt_493L</th><th>clientscnt_533L</th><th>clientscnt_887L</th><th>&hellip;</th><th>formonth_118L</th><th>formonth_206L</th><th>formonth_535L</th><th>forquarter_1017L</th><th>forquarter_462L</th><th>forquarter_634L</th><th>fortoday_1092L</th><th>forweek_1077L</th><th>forweek_528L</th><th>forweek_601L</th><th>foryear_618L</th><th>foryear_818L</th><th>foryear_850L</th><th>fourthquarter_440L</th><th>maritalst_385M</th><th>maritalst_893M</th><th>numberofqueries_373L</th><th>pmtaverage_3A</th><th>pmtaverage_4527227A</th><th>pmtaverage_4955615A</th><th>pmtcount_4527229L</th><th>pmtcount_4955617L</th><th>pmtcount_693L</th><th>pmtscount_423L</th><th>pmtssum_45A</th><th>requesttype_4525192L</th><th>responsedate_1012D</th><th>responsedate_4527233D</th><th>responsedate_4917613D</th><th>riskassesment_302T</th><th>riskassesment_940T</th><th>secondquarter_766L</th><th>thirdquarter_1082L</th><th>date_decision</th><th>MONTH</th><th>WEEK_NUM</th><th>target</th></tr><tr><td>i64</td><td>f64</td><td>f64</td><td>f64</td><td>f64</td><td>f64</td><td>f64</td><td>f64</td><td>f64</td><td>f64</td><td>f64</td><td>f64</td><td>f64</td><td>str</td><td>f64</td><td>f64</td><td>str</td><td>f64</td><td>f64</td><td>str</td><td>str</td><td>str</td><td>f64</td><td>f64</td><td>f64</td><td>f64</td><td>f64</td><td>f64</td><td>f64</td><td>f64</td><td>f64</td><td>f64</td><td>f64</td><td>f64</td><td>f64</td><td>f64</td><td>f64</td><td>&hellip;</td><td>str</td><td>str</td><td>str</td><td>str</td><td>str</td><td>str</td><td>str</td><td>str</td><td>str</td><td>str</td><td>str</td><td>str</td><td>str</td><td>f64</td><td>str</td><td>str</td><td>f64</td><td>f64</td><td>str</td><td>str</td><td>str</td><td>str</td><td>f64</td><td>f64</td><td>f64</td><td>str</td><td>str</td><td>str</td><td>str</td><td>str</td><td>f64</td><td>f64</td><td>f64</td><td>str</td><td>i64</td><td>i64</td><td>i64</td></tr></thead><tbody><tr><td>662955</td><td>null</td><td>null</td><td>1033.6</td><td>0.0</td><td>0.0</td><td>0.0</td><td>0.0</td><td>0.0</td><td>0.0</td><td>0.0</td><td>null</td><td>null</td><td>null</td><td>null</td><td>null</td><td>null</td><td>null</td><td>null</td><td>null</td><td>null</td><td>null</td><td>0.0</td><td>0.0</td><td>0.0</td><td>0.0</td><td>0.0</td><td>0.0</td><td>0.0</td><td>null</td><td>3.0</td><td>0.0</td><td>0.0</td><td>0.0</td><td>0.0</td><td>0.0</td><td>0.0</td><td>&hellip;</td><td>null</td><td>null</td><td>null</td><td>null</td><td>null</td><td>null</td><td>null</td><td>null</td><td>null</td><td>null</td><td>null</td><td>null</td><td>null</td><td>0.0</td><td>&quot;a55475b1&quot;</td><td>&quot;a55475b1&quot;</td><td>2.0</td><td>null</td><td>null</td><td>null</td><td>null</td><td>null</td><td>null</td><td>0.0</td><td>0.0</td><td>null</td><td>&quot;2019-04-15&quot;</td><td>null</td><td>null</td><td>null</td><td>null</td><td>0.0</td><td>0.0</td><td>&quot;2019-04-01&quot;</td><td>201904</td><td>12</td><td>0</td></tr><tr><td>1323895</td><td>0.0</td><td>2872.0</td><td>2877.8</td><td>0.0</td><td>0.0</td><td>0.0</td><td>0.0</td><td>0.0</td><td>0.0</td><td>9.0</td><td>14.0</td><td>null</td><td>null</td><td>8.0</td><td>2871.2</td><td>null</td><td>11.0</td><td>null</td><td>null</td><td>null</td><td>null</td><td>1.0</td><td>1.0</td><td>1.0</td><td>0.0</td><td>1.0</td><td>0.0</td><td>0.0</td><td>null</td><td>0.0</td><td>0.0</td><td>0.0</td><td>0.0</td><td>0.0</td><td>0.0</td><td>0.0</td><td>&hellip;</td><td>null</td><td>null</td><td>null</td><td>null</td><td>null</td><td>null</td><td>null</td><td>null</td><td>null</td><td>null</td><td>null</td><td>null</td><td>null</td><td>1.0</td><td>&quot;3439d993&quot;</td><td>&quot;a55475b1&quot;</td><td>4.0</td><td>null</td><td>null</td><td>null</td><td>null</td><td>null</td><td>null</td><td>11.0</td><td>22756.47</td><td>null</td><td>&quot;2019-04-12&quot;</td><td>null</td><td>null</td><td>null</td><td>null</td><td>1.0</td><td>4.0</td><td>&quot;2019-03-29&quot;</td><td>201903</td><td>12</td><td>0</td></tr><tr><td>2556073</td><td>0.0</td><td>61887.7</td><td>2051.2</td><td>1932.0</td><td>0.0</td><td>0.0</td><td>0.0</td><td>0.0</td><td>0.0</td><td>5.0</td><td>-12.0</td><td>-15.0</td><td>null</td><td>0.0</td><td>3526.8</td><td>null</td><td>0.0</td><td>25444.473</td><td>null</td><td>&quot;CA&quot;</td><td>null</td><td>0.0</td><td>0.0</td><td>0.0</td><td>0.0</td><td>0.0</td><td>0.0</td><td>0.0</td><td>null</td><td>0.0</td><td>0.0</td><td>0.0</td><td>0.0</td><td>0.0</td><td>0.0</td><td>0.0</td><td>&hellip;</td><td>null</td><td>null</td><td>null</td><td>null</td><td>null</td><td>null</td><td>null</td><td>null</td><td>null</td><td>null</td><td>null</td><td>null</td><td>null</td><td>1.0</td><td>&quot;a7fcb6e5&quot;</td><td>&quot;a55475b1&quot;</td><td>1.0</td><td>null</td><td>null</td><td>null</td><td>null</td><td>null</td><td>null</td><td>6.0</td><td>12603.822</td><td>null</td><td>&quot;2019-04-11&quot;</td><td>null</td><td>null</td><td>null</td><td>null</td><td>0.0</td><td>1.0</td><td>&quot;2019-03-28&quot;</td><td>201903</td><td>12</td><td>0</td></tr><tr><td>2555501</td><td>0.0</td><td>7351.2</td><td>2316.2</td><td>2450.4001</td><td>0.0</td><td>0.0</td><td>0.0</td><td>0.0</td><td>0.0</td><td>2.0</td><td>-3.0</td><td>-3.0</td><td>null</td><td>0.0</td><td>2450.4001</td><td>null</td><td>0.0</td><td>25692.201</td><td>null</td><td>&quot;CA&quot;</td><td>null</td><td>0.0</td><td>0.0</td><td>0.0</td><td>0.0</td><td>1.0</td><td>0.0</td><td>0.0</td><td>null</td><td>0.0</td><td>0.0</td><td>0.0</td><td>0.0</td><td>0.0</td><td>0.0</td><td>0.0</td><td>&hellip;</td><td>null</td><td>null</td><td>null</td><td>null</td><td>null</td><td>null</td><td>null</td><td>null</td><td>null</td><td>null</td><td>null</td><td>null</td><td>null</td><td>7.0</td><td>&quot;3439d993&quot;</td><td>&quot;a55475b1&quot;</td><td>3.0</td><td>null</td><td>null</td><td>null</td><td>null</td><td>null</td><td>null</td><td>9.0</td><td>5437.6</td><td>null</td><td>&quot;2019-04-10&quot;</td><td>null</td><td>null</td><td>null</td><td>null</td><td>5.0</td><td>1.0</td><td>&quot;2019-03-27&quot;</td><td>201903</td><td>12</td><td>0</td></tr><tr><td>660736</td><td>null</td><td>null</td><td>2697.0</td><td>0.0</td><td>0.0</td><td>0.0</td><td>0.0</td><td>0.0</td><td>0.0</td><td>0.0</td><td>null</td><td>null</td><td>null</td><td>null</td><td>null</td><td>null</td><td>null</td><td>null</td><td>null</td><td>null</td><td>null</td><td>0.0</td><td>0.0</td><td>0.0</td><td>0.0</td><td>0.0</td><td>0.0</td><td>0.0</td><td>null</td><td>0.0</td><td>0.0</td><td>0.0</td><td>0.0</td><td>0.0</td><td>0.0</td><td>5.0</td><td>&hellip;</td><td>null</td><td>null</td><td>null</td><td>null</td><td>null</td><td>null</td><td>null</td><td>null</td><td>null</td><td>null</td><td>null</td><td>null</td><td>null</td><td>2.0</td><td>&quot;a55475b1&quot;</td><td>&quot;a55475b1&quot;</td><td>1.0</td><td>null</td><td>null</td><td>null</td><td>null</td><td>null</td><td>null</td><td>5.0</td><td>57017.137</td><td>null</td><td>&quot;2019-04-12&quot;</td><td>null</td><td>null</td><td>null</td><td>null</td><td>2.0</td><td>2.0</td><td>&quot;2019-03-29&quot;</td><td>201903</td><td>12</td><td>0</td></tr></tbody></table></div>"
      ],
      "text/plain": [
       "shape: (5, 224)\n",
       "┌─────────┬─────────────┬─────────────┬─────────────┬───┬─────────────┬────────┬──────────┬────────┐\n",
       "│ case_id ┆ actualdpdto ┆ amtinstpaid ┆ annuity_780 ┆ … ┆ date_decisi ┆ MONTH  ┆ WEEK_NUM ┆ target │\n",
       "│ ---     ┆ lerance_344 ┆ befduel24m_ ┆ A           ┆   ┆ on          ┆ ---    ┆ ---      ┆ ---    │\n",
       "│ i64     ┆ P           ┆ 4187115A    ┆ ---         ┆   ┆ ---         ┆ i64    ┆ i64      ┆ i64    │\n",
       "│         ┆ ---         ┆ ---         ┆ f64         ┆   ┆ str         ┆        ┆          ┆        │\n",
       "│         ┆ f64         ┆ f64         ┆             ┆   ┆             ┆        ┆          ┆        │\n",
       "╞═════════╪═════════════╪═════════════╪═════════════╪═══╪═════════════╪════════╪══════════╪════════╡\n",
       "│ 662955  ┆ null        ┆ null        ┆ 1033.6      ┆ … ┆ 2019-04-01  ┆ 201904 ┆ 12       ┆ 0      │\n",
       "│ 1323895 ┆ 0.0         ┆ 2872.0      ┆ 2877.8      ┆ … ┆ 2019-03-29  ┆ 201903 ┆ 12       ┆ 0      │\n",
       "│ 2556073 ┆ 0.0         ┆ 61887.7     ┆ 2051.2      ┆ … ┆ 2019-03-28  ┆ 201903 ┆ 12       ┆ 0      │\n",
       "│ 2555501 ┆ 0.0         ┆ 7351.2      ┆ 2316.2      ┆ … ┆ 2019-03-27  ┆ 201903 ┆ 12       ┆ 0      │\n",
       "│ 660736  ┆ null        ┆ null        ┆ 2697.0      ┆ … ┆ 2019-03-29  ┆ 201903 ┆ 12       ┆ 0      │\n",
       "└─────────┴─────────────┴─────────────┴─────────────┴───┴─────────────┴────────┴──────────┴────────┘"
      ]
     },
     "metadata": {},
     "output_type": "display_data"
    }
   ],
   "source": [
    "dataset_info(4)"
   ]
  },
  {
   "cell_type": "markdown",
   "metadata": {},
   "source": [
    "# Additional Training Strategies\n",
    " **Sampling Techniques**: During training, various sampling strategies such as oversampling the minority class, undersampling the majority class, and maintaining the original distribution are employed. These techniques are crucial for enhancing the model's ability to generalize well across different data distributions. For more info check the `loading_test` notebook. TheThis ensemble method not only addresses the imbalance in the dataset but also improves the overall predictive accuracy and robustness of the model by incorporating diverse perspectives from multiple trained models."
   ]
  }
 ],
 "metadata": {
  "kernelspec": {
   "display_name": "brainstation_env",
   "language": "python",
   "name": "python3"
  },
  "language_info": {
   "codemirror_mode": {
    "name": "ipython",
    "version": 3
   },
   "file_extension": ".py",
   "mimetype": "text/x-python",
   "name": "python",
   "nbconvert_exporter": "python",
   "pygments_lexer": "ipython3",
   "version": "3.11.8"
  }
 },
 "nbformat": 4,
 "nbformat_minor": 4
}
