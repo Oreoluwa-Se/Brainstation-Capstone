{
 "cells": [
  {
   "cell_type": "markdown",
   "id": "dce4d2b3-89ff-456f-988f-2834945f5777",
   "metadata": {},
   "source": [
    "<h1 style=\"color: navy; text-align: center;\">Credit Risk Model Exploratory Data Analysis</h1>\n",
    "<p style=\"text-align: justify; font-size: 16px;\">\n",
    "This notebook delves into the dataset's data exploration, providing insights crucial for evaluating the default risk of potential clients. By enabling consumer finance providers to approve a higher number of loan applications, this analysis contributes to improving the financial inclusiveness of individuals previously excluded due to insufficient credit history.\n",
    "</p>\n"
   ]
  },
  {
   "cell_type": "code",
   "execution_count": 1,
   "id": "0cff257e-b1de-4174-809c-2c5e5e8da09c",
   "metadata": {},
   "outputs": [],
   "source": [
    "import sys\n",
    "import os\n",
    "import polars as pl\n",
    "import numpy as np\n",
    "import pandas as pd\n",
    "import seaborn as sns\n",
    "import matplotlib.pyplot as plt\n",
    "import matplotlib.ticker as ticker\n",
    "\n",
    "sns.set_style(\"white\")\n",
    "sns.set_palette(\"colorblind\") \n",
    "sns.set_context(\"talk\")\n",
    "\n",
    "script_dir = os.path.dirname(os.path.abspath('PreprocessingSteps.ipynb'))\n",
    "parent_directory = os.path.dirname(script_dir)\n",
    "module_directory = os.path.join(parent_directory, 'module') \n",
    "utils_directory = os.path.join(parent_directory, 'utils') \n",
    "\n",
    "if (parent_directory not in sys.path):\n",
    "    sys.path.append(parent_directory)\n",
    "    \n",
    "if (module_directory not in sys.path):\n",
    "    sys.path.append(module_directory)\n",
    "    \n",
    "if (utils_directory not in sys.path):\n",
    "    sys.path.append(utils_directory)    \n",
    "\n",
    "# created files\n",
    "from utils.helpers import *\n",
    "from utils import config\n",
    "from module.preprocess.bpe import BytePairEncodeAlgo\n",
    "\n",
    "# Getting column defintions\n",
    "col_defs = {row['Variable']: row['Description'] for row in pl.read_csv(config.BASE_LOCATION + \"feature_definitions.csv\").to_dicts()}"
   ]
  },
  {
   "cell_type": "markdown",
   "id": "e78824ff-8ca3-4847-9bf9-637c7f551cc8",
   "metadata": {},
   "source": [
    "<h1 style=\"color: navy; font-family: Verdana, Geneva, sans-serif;\">Exploring Information for Depth 0</h1>\n",
    "\n",
    "<p style=\"font-size: 16px; font-family: 'Lucida Grande', 'Lucida Sans Unicode', Arial, sans-serif; color: #333;\">\n",
    "  At depth zero, we have <strong style=\"color: darkred;\">static features</strong> tied to a specific credit case. All the features here can be directly used as predictors.\n",
    "</p>\n"
   ]
  },
  {
   "cell_type": "code",
   "execution_count": 5,
   "id": "7edeb956-9f11-4fd2-8d3b-abcaf3bcbcc1",
   "metadata": {},
   "outputs": [
    {
     "name": "stdout",
     "output_type": "stream",
     "text": [
      "------> Size of dataset without targets (1526659, 220) <------\n",
      "------> Size of dataset with targets (1526659, 224) <------\n"
     ]
    }
   ],
   "source": [
    "# Merging information\n",
    "final_df = pl.concat([change_column_type(pl.read_csv(config.BASE_LOCATION + \"csv_files/train/train_static_0_0.csv\")), \n",
    "                      change_column_type(pl.read_csv(config.BASE_LOCATION + \"csv_files/train/train_static_0_1.csv\"))], how=\"vertical_relaxed\").join(change_column_type(pl.read_csv(config.BASE_LOCATION + \"csv_files/train/train_static_cb_0.csv\")), on=\"case_id\", how=\"left\")\n",
    "print(f\"------> Size of dataset without targets {final_df.shape} <------\") \n",
    "\n",
    "# extract descriptive information for each column\n",
    "descriptive_col = {col : col_defs[col] for col in final_df.columns[1:]}\n",
    "\n",
    "final_df = final_df.join(change_column_type(pl.read_csv(config.BASE_LOCATION + \"csv_files/train/train_base.csv\")), on=\"case_id\", how=\"inner\")\n",
    "print(f\"------> Size of dataset with targets {final_df.shape} <------\") \n",
    "\n",
    "# adding target columns to descriptive_col\n",
    "descriptive_col['date_decision']= \"This refers to the date when a decision was made regarding the approval of the loan.\"\n",
    "descriptive_col['MONTH']= \"Month the decision was made\"\n",
    "descriptive_col['WEEK_NUM']= \"This is the week number used for aggregation. In the test sample, WEEK_NUM continues sequentially from the last training value of WEEK_NUM\"\n",
    "descriptive_col['target']= \" This is the target value, determined after a certain period based on whether or not the client defaulted on the specific credit case (loan)\"\n"
   ]
  },
  {
   "cell_type": "markdown",
   "id": "f86102e7-2433-4096-9a82-2f20c4bdd2db",
   "metadata": {},
   "source": [
    "<div style=\"text-align: center;\">\n",
    "    <img src=\"images/confused.gif\" 00\" alt=\"Confused\">\n",
    "    <p style=\"text-align: center; font-style: italic; font-weight: bold;\">Just the 224 Columns Then.........</p>\n",
    "</div>"
   ]
  },
  {
   "cell_type": "markdown",
   "id": "bc590898-cb11-41b2-86c0-189d8faa55cb",
   "metadata": {},
   "source": [
    "# Preprocessing Data:"
   ]
  },
  {
   "cell_type": "markdown",
   "id": "f6ad03b1-c8bb-4951-a808-ef2f61d4ebc9",
   "metadata": {},
   "source": [
    "## Contextual information:"
   ]
  },
  {
   "cell_type": "markdown",
   "id": "2f012576-0008-4f68-8b8d-56059832c786",
   "metadata": {},
   "source": [
    "The decision date and month are dropped as it is implied in Week_Num. Week_Num represent the week the decision was made from a reference \"start_date\""
   ]
  },
  {
   "cell_type": "code",
   "execution_count": 6,
   "id": "48a9f02f-4020-42ba-b363-967f1ff1175b",
   "metadata": {},
   "outputs": [],
   "source": [
    "base_reference = final_df['date_decision'].min()\n",
    "final_df = final_df.drop(['date_decision','MONTH']) "
   ]
  },
  {
   "cell_type": "markdown",
   "id": "96cd3b0d-eb50-4dbf-8694-3c5d3c0f5707",
   "metadata": {},
   "source": [
    "## Tokenization and Embedding\n",
    "\n",
    "We aim to give context to the table. For categorical values we either encode the information or flag that it's empty. In the numeric data case we just tag that the information is present or information isn't present.\n",
    "The process of tokenizing as a form of embedding is crucial for several reasons:\n",
    "\n",
    "- **Adaptability to New Data**: It allows the system to adapt to new and unseen data effectively. As long as the categorical values can be embedded, and there is similarity with the training set's information, the model is expected to perform well.\n",
    "\n",
    "- **Avoidance of One-Hot Encoding**: To prevent the dimensional issues and sparsity associated with one-hot encoding, embedding provides a more compact and meaningful representation."
   ]
  },
  {
   "cell_type": "markdown",
   "id": "1570f9fc-3bea-46b8-8609-5dada8c3f851",
   "metadata": {},
   "source": [
    "#### Sample Row Information and Text representation"
   ]
  },
  {
   "cell_type": "code",
   "execution_count": 5,
   "id": "1e081880-bc77-40ad-8390-d05a4a5ca0f9",
   "metadata": {},
   "outputs": [
    {
     "data": {
      "text/html": [
       "<div><style>\n",
       ".dataframe > thead > tr,\n",
       ".dataframe > tbody > tr {\n",
       "  text-align: right;\n",
       "  white-space: pre-wrap;\n",
       "}\n",
       "</style>\n",
       "<small>shape: (1, 222)</small><table border=\"1\" class=\"dataframe\"><thead><tr><th>case_id</th><th>actualdpdtolerance_344P</th><th>amtinstpaidbefduel24m_4187115A</th><th>annuity_780A</th><th>annuitynextmonth_57A</th><th>applicationcnt_361L</th><th>applications30d_658L</th><th>applicationscnt_1086L</th><th>applicationscnt_464L</th><th>applicationscnt_629L</th><th>applicationscnt_867L</th><th>avgdbddpdlast24m_3658932P</th><th>avgdbddpdlast3m_4187120P</th><th>avgdbdtollast24m_4525197P</th><th>avgdpdtolclosure24_3658938P</th><th>avginstallast24m_3658937A</th><th>avglnamtstart24m_4525187A</th><th>avgmaxdpdlast9m_3716943P</th><th>avgoutstandbalancel6m_4187114A</th><th>avgpmtlast12m_4525200A</th><th>bankacctype_710L</th><th>cardtype_51L</th><th>clientscnt12m_3712952L</th><th>clientscnt3m_3712950L</th><th>clientscnt6m_3712949L</th><th>clientscnt_100L</th><th>clientscnt_1022L</th><th>clientscnt_1071L</th><th>clientscnt_1130L</th><th>clientscnt_136L</th><th>clientscnt_157L</th><th>clientscnt_257L</th><th>clientscnt_304L</th><th>clientscnt_360L</th><th>clientscnt_493L</th><th>clientscnt_533L</th><th>clientscnt_887L</th><th>&hellip;</th><th>for3years_504L</th><th>for3years_584L</th><th>formonth_118L</th><th>formonth_206L</th><th>formonth_535L</th><th>forquarter_1017L</th><th>forquarter_462L</th><th>forquarter_634L</th><th>fortoday_1092L</th><th>forweek_1077L</th><th>forweek_528L</th><th>forweek_601L</th><th>foryear_618L</th><th>foryear_818L</th><th>foryear_850L</th><th>fourthquarter_440L</th><th>maritalst_385M</th><th>maritalst_893M</th><th>numberofqueries_373L</th><th>pmtaverage_3A</th><th>pmtaverage_4527227A</th><th>pmtaverage_4955615A</th><th>pmtcount_4527229L</th><th>pmtcount_4955617L</th><th>pmtcount_693L</th><th>pmtscount_423L</th><th>pmtssum_45A</th><th>requesttype_4525192L</th><th>responsedate_1012D</th><th>responsedate_4527233D</th><th>responsedate_4917613D</th><th>riskassesment_302T</th><th>riskassesment_940T</th><th>secondquarter_766L</th><th>thirdquarter_1082L</th><th>WEEK_NUM</th><th>target</th></tr><tr><td>i64</td><td>f64</td><td>f64</td><td>f64</td><td>f64</td><td>f64</td><td>f64</td><td>f64</td><td>f64</td><td>f64</td><td>f64</td><td>f64</td><td>f64</td><td>f64</td><td>f64</td><td>f64</td><td>f64</td><td>f64</td><td>f64</td><td>f64</td><td>str</td><td>str</td><td>f64</td><td>f64</td><td>f64</td><td>f64</td><td>f64</td><td>f64</td><td>f64</td><td>str</td><td>f64</td><td>f64</td><td>f64</td><td>f64</td><td>f64</td><td>f64</td><td>f64</td><td>&hellip;</td><td>f64</td><td>f64</td><td>f64</td><td>f64</td><td>f64</td><td>f64</td><td>f64</td><td>f64</td><td>f64</td><td>f64</td><td>f64</td><td>f64</td><td>f64</td><td>f64</td><td>f64</td><td>f64</td><td>str</td><td>str</td><td>f64</td><td>f64</td><td>f64</td><td>f64</td><td>str</td><td>str</td><td>f64</td><td>f64</td><td>f64</td><td>str</td><td>date</td><td>date</td><td>date</td><td>str</td><td>f64</td><td>f64</td><td>f64</td><td>i64</td><td>i64</td></tr></thead><tbody><tr><td>0</td><td>null</td><td>null</td><td>1917.6</td><td>0.0</td><td>0.0</td><td>0.0</td><td>0.0</td><td>0.0</td><td>0.0</td><td>0.0</td><td>null</td><td>null</td><td>null</td><td>null</td><td>null</td><td>null</td><td>null</td><td>null</td><td>null</td><td>null</td><td>null</td><td>0.0</td><td>0.0</td><td>0.0</td><td>0.0</td><td>0.0</td><td>0.0</td><td>0.0</td><td>null</td><td>0.0</td><td>0.0</td><td>0.0</td><td>0.0</td><td>0.0</td><td>0.0</td><td>0.0</td><td>&hellip;</td><td>null</td><td>null</td><td>null</td><td>null</td><td>null</td><td>null</td><td>null</td><td>null</td><td>null</td><td>null</td><td>null</td><td>null</td><td>null</td><td>null</td><td>null</td><td>null</td><td>null</td><td>null</td><td>null</td><td>null</td><td>null</td><td>null</td><td>null</td><td>null</td><td>null</td><td>null</td><td>null</td><td>null</td><td>null</td><td>null</td><td>null</td><td>null</td><td>null</td><td>null</td><td>null</td><td>0</td><td>0</td></tr></tbody></table></div>"
      ],
      "text/plain": [
       "shape: (1, 222)\n",
       "┌─────────┬────────────┬────────────┬────────────┬───┬────────────┬────────────┬──────────┬────────┐\n",
       "│ case_id ┆ actualdpdt ┆ amtinstpai ┆ annuity_78 ┆ … ┆ secondquar ┆ thirdquart ┆ WEEK_NUM ┆ target │\n",
       "│ ---     ┆ olerance_3 ┆ dbefduel24 ┆ 0A         ┆   ┆ ter_766L   ┆ er_1082L   ┆ ---      ┆ ---    │\n",
       "│ i64     ┆ 44P        ┆ m_4187115A ┆ ---        ┆   ┆ ---        ┆ ---        ┆ i64      ┆ i64    │\n",
       "│         ┆ ---        ┆ ---        ┆ f64        ┆   ┆ f64        ┆ f64        ┆          ┆        │\n",
       "│         ┆ f64        ┆ f64        ┆            ┆   ┆            ┆            ┆          ┆        │\n",
       "╞═════════╪════════════╪════════════╪════════════╪═══╪════════════╪════════════╪══════════╪════════╡\n",
       "│ 0       ┆ null       ┆ null       ┆ 1917.6     ┆ … ┆ null       ┆ null       ┆ 0        ┆ 0      │\n",
       "└─────────┴────────────┴────────────┴────────────┴───┴────────────┴────────────┴──────────┴────────┘"
      ]
     },
     "execution_count": 5,
     "metadata": {},
     "output_type": "execute_result"
    }
   ],
   "source": [
    "final_df.head(1)"
   ]
  },
  {
   "cell_type": "markdown",
   "id": "5e6141cf",
   "metadata": {},
   "source": [
    "<div style=\"text-align: center;\">\n",
    "    <img src=\"images/row_sample.png\" alt=\"row_image\">\n",
    "    <p style=\"text-align: center; font-style: italic; font-weight: bold;\">Example of Row Information In Text. The text pattern follows what was described in the <strong>Tokenization and Embedding</strong> section above </p>\n",
    "</div>"
   ]
  },
  {
   "cell_type": "markdown",
   "id": "1175b5d2",
   "metadata": {},
   "source": [
    "### Word Embedding\n",
    "For our program we use Byte Pair Encoding to convert from text to tokens.\n",
    "\n",
    "Byte Pair Encoding (BPE) is a data compression technique that iteratively merges the most frequent pair of bytes or characters in a sequence. Initially used for compressing data, it has been adapted for use in natural language processing (NLP) for tokenization.\n",
    "\n",
    "#### Key Features of BPE\n",
    "\n",
    "- **Efficiency**: BPE is efficient in handling the vocabulary explosion problem by merging frequent pairs, thus reducing the vocabulary size without losing significant information.\n",
    "- **Subword Tokenization**: It tokenizes words into smaller units (subwords or characters), which helps in handling out-of-vocabulary words and morphological variations of words.\n",
    "\n",
    "#### Comparison with Other Methods\n",
    "\n",
    "- **Against Fixed Vocabulary Tokenization**: Unlike fixed vocabulary methods, BPE dynamically adjusts its vocabulary based on the corpus, reducing issues with unknown tokens.\n",
    "- **Versus Unigram Language Models**: BPE merges based on frequency, while unigram language models use likelihood to determine subwords, leading to potentially more linguistically meaningful tokens in the unigram approach.\n",
    "- **With WordPiece**: BPE and WordPiece are similar, but WordPiece optimizes for language model likelihood rather than just frequency, which can lead to slightly different tokenizations."
   ]
  },
  {
   "cell_type": "markdown",
   "id": "1ba5b37e",
   "metadata": {},
   "source": [
    "### Pseudocode for Encoding Table Information\n",
    "1. **Chunk Data Columns by 10**: Begin by chunking your data columns into segments of 10 for more manageable processing.\n",
    "\n",
    "    ```python\n",
    "    chunks = chunk_data(data_columns, chunk_size=10)\n",
    "    ```\n",
    "\n",
    "2. **Analyze Each Chunk**: For each chunk, sample entries to find common regex patterns, and use these patterns to facilitate further analysis.\n",
    "\n",
    "    ```python\n",
    "    for chunk in chunks:\n",
    "        sample = get_sample(chunk, sample_size=100)  # Sample 100 entries\n",
    "        regex_patterns = find_common_regex_patterns(sample)  # Identify patterns\n",
    "        split_texts = split_text_using_patterns(sample, regex_patterns)  # Split text\n",
    "    ```\n",
    "\n",
    "3. **Combine and Tokenize Text**: Combine all the split text from each chunk along with the found bi-grams. Then tokenize the combined text.\n",
    "\n",
    "    ```python\n",
    "    combined_text = combine_all_split_text(chunks)\n",
    "    tokens = tokenize(combined_text, combined_bi_grams)\n",
    "    ```\n",
    "\n",
    "4. **Apply Byte Pair Encoding (BPE)**: Use BPE on the tokens to refine the vocabulary size to the desired maximum.\n",
    "\n",
    "    ```python\n",
    "    final_vocab = byte_pair_encoding(tokens, max_vocab_size=desired_max_vocab_size)\n",
    "    ```\n",
    "\n",
    "5. **Embedding the Final Vocabulary**: Pass the final vocabulary through an embedding layer to receive the encoded values.\n",
    "\n",
    "    ```python\n",
    "    encoded_values = pass_through_embedding(final_vocab)\n",
    "    ```\n"
   ]
  },
  {
   "cell_type": "markdown",
   "id": "166454d2",
   "metadata": {},
   "source": [
    "### Pattern Matching with Regular Expressions\n",
    "\n",
    "Here is the pattern regex used. It has been tested on the tabular string and general data. A slight disadvantage is it can lead to bloating because of how '***space***' character is handled. But this is covered during the BPE process:\n",
    "\n",
    "```python\n",
    "import string\n",
    "import re\n",
    "\n",
    "escaped_punctuation = ''.join('\\\\' + char if char in '.^$*+?{}[]\\\\|()' else char for char in string.punctuation)\n",
    "\n",
    "# Pattern gotten with the help of ChatGPT\n",
    "pattern = re.compile(\n",
    "    r\"\"\"\n",
    "    (?i)                                          # Case-insensitive matching\n",
    "    \\d{4}-\\d{2}-\\d{2}|                            # Dates in YYYY-MM-DD format\n",
    "    \\b\\w+_\\d+[A-Z]?\\b|                            # Enhanced alphanumeric with specific formats\n",
    "    \\b(?:has|value|is|empty|true|false|           # Specific keywords\n",
    "    active\\scontract|closed\\scontract)\\b|\n",
    "    \\b[A-Z0-9_]+(?<!\\s)\\b|                        # Uppercase identifiers including numbers and underscores, not preceded by whitespace\n",
    "    \\b\\p{L}+(?:'\\p{L}+)*\\b(?:[{}]+)?|             # Match words with optional trailing punctuation\n",
    "    \\b\\p{N}+\\b(?:[{}]+)?|                         # Match whole numbers with optional trailing punctuation\n",
    "    \\$?\\d+(?:,\\d{3})*(?:\\.\\d+)?(?:[KMBT])?\\b|     # Monetary values, including optional $\n",
    "    [^\\s\\p{L}\\p{N}]+|                             # Match any character not a space, letter, or number\n",
    "    \\s+(?!\\S)|\\s+|                                # Spaces\n",
    "    \"\"\" + rf\"[{escaped_punctuation}]+|\",\n",
    "    re.VERSION1 | re.VERBOSE | re.IGNORECASE\n",
    ")\n"
   ]
  },
  {
   "cell_type": "markdown",
   "id": "42cab403",
   "metadata": {},
   "source": [
    "### Pattern example on plain text\n",
    "Below is an example of coverted text with the derived patten\n",
    "```python\n",
    "new_txt = \"On 2024-03-13, the project 'GeoData_Analysis_2024' officially kicked off. The team had previously discussed several key points, emphasizing the importance of accuracy and efficiency. \\\n",
    "As of today, there have been 152 issues logged, with 47 marked as 'resolved' and the remaining awaiting review. Interestingly, the budget allocated for this phase is 3,450,000.2456, \\\n",
    "which is under it's $3.5M cap suggested in the initial proposal.\"\n",
    "\n",
    "output:\n",
    "\n",
    "Length of split text: 429\n",
    "['On', ' ', '2024-03-13', ',', ' ', 'the', ' ', 'project', ' ', \"'\", 'GeoData_Analysis_2024', \"'\", ' ', 'officially', ' ', 'kicked', ' ', 'off', '.', ' ', 'The', ' ', 'team', ' ', 'had', ' ', 'previously', ' ', 'discussed', ' ', 'several', ' ', 'key', ' ', 'points', ',', ' ', 'emphasizing', ' ', 'the', ' ', 'importance', ' ', 'of', ' ', 'accuracy', ' ', 'and', ' ', 'efficiency', '.', ' ', 'As', ' ', 'of', ' ', 'today', ',', ' ', 'there', ' ', 'have', ' ', 'been', ' ', '152', ' ', 'issues', ' ', 'logged', ',', ' ', 'with', ' ', '47', ' ', 'marked', ' ', 'as', ' ', \"'\", 'resolved', \"'\", ' ', 'and', ' ', 'the', ' ', 'remaining', ' ', 'awaiting', ' ', 'review', '.', ' ', 'Interestingly', ',', ' ', 'the', ' ', 'budget', ' ', 'allocated', ' ', 'for', ' ', 'this', ' ', 'phase', ' ', 'is', ' ', '3', ',', '450', ',', '000', '.', '2456', ',', ' ', 'which', ' ', 'is', ' ', 'under', ' ', 'it', \"'\", 's', ' ', '$3.5M', ' ', 'cap', ' ', 'suggested', ' ', 'in', ' ', 'the', ' ', 'initial', ' ', 'proposal', '.', '']\n",
    "```"
   ]
  },
  {
   "cell_type": "markdown",
   "id": "0d7fcc82",
   "metadata": {},
   "source": [
    "### Running full example showing encode to decoding process:"
   ]
  },
  {
   "cell_type": "code",
   "execution_count": 2,
   "id": "88e690e9",
   "metadata": {},
   "outputs": [
    {
     "name": "stdout",
     "output_type": "stream",
     "text": [
      "\n",
      "Orginal_text: \n",
      "On 2024-03-13, the project 'GeoData_Analysis_2024' officially kicked off.The team had previously discussed several key points, emphasizing the importance of accuracy and efficiency. As of today, there have been 152 issues logged, with 47 marked as 'resolved' and the remaining awaiting review. Interestingly, the budget allocated for this phase is 3,450,000.2456, which is under it's $3.5M cap suggested in the initial proposal.\n",
      "\n",
      "Running script to encode\n",
      "\n",
      "Encoding the Text\n",
      "Pre Merge: \n",
      "[79, 110, 32, 50, 48, 50, 52, 45, 48, 51, 45, 49, 51, 44, 32, 116, 104, 101, 32, 112, 114, 111, 106, 101, 99, 116, 32, 39, 71, 101, 111, 68, 97, 116, 97, 95, 65, 110, 97, 108, 121, 115, 105, 115, 95, 50, 48, 50, 52, 39, 32, 111, 102, 102, 105, 99, 105, 97, 108, 108, 121, 32, 107, 105, 99, 107, 101, 100, 32, 111, 102, 102, 46, 84, 104, 101, 32, 116, 101, 97, 109, 32, 104, 97, 100, 32, 112, 114, 101, 118, 105, 111, 117, 115, 108, 121, 32, 100, 105, 115, 99, 117, 115, 115, 101, 100, 32, 115, 101, 118, 101, 114, 97, 108, 32, 107, 101, 121, 32, 112, 111, 105, 110, 116, 115, 44, 32, 101, 109, 112, 104, 97, 115, 105, 122, 105, 110, 103, 32, 116, 104, 101, 32, 105, 109, 112, 111, 114, 116, 97, 110, 99, 101, 32, 111, 102, 32, 97, 99, 99, 117, 114, 97, 99, 121, 32, 97, 110, 100, 32, 101, 102, 102, 105, 99, 105, 101, 110, 99, 121, 46, 32, 65, 115, 32, 111, 102, 32, 116, 111, 100, 97, 121, 44, 32, 116, 104, 101, 114, 101, 32, 104, 97, 118, 101, 32, 98, 101, 101, 110, 32, 49, 53, 50, 32, 105, 115, 115, 117, 101, 115, 32, 108, 111, 103, 103, 101, 100, 44, 32, 119, 105, 116, 104, 32, 52, 55, 32, 109, 97, 114, 107, 101, 100, 32, 97, 115, 32, 39, 114, 101, 115, 111, 108, 118, 101, 100, 39, 32, 97, 110, 100, 32, 116, 104, 101, 32, 114, 101, 109, 97, 105, 110, 105, 110, 103, 32, 97, 119, 97, 105, 116, 105, 110, 103, 32, 114, 101, 118, 105, 101, 119, 46, 32, 73, 110, 116, 101, 114, 101, 115, 116, 105, 110, 103, 108, 121, 44, 32, 116, 104, 101, 32, 98, 117, 100, 103, 101, 116, 32, 97, 108, 108, 111, 99, 97, 116, 101, 100, 32, 102, 111, 114, 32, 116, 104, 105, 115, 32, 112, 104, 97, 115, 101, 32, 105, 115, 32, 51, 44, 52, 53, 48, 44, 48, 48, 48, 46, 50, 52, 53, 54, 44, 32, 119, 104, 105, 99, 104, 32, 105, 115, 32, 117, 110, 100, 101, 114, 32, 105, 116, 39, 115, 32, 36, 51, 46, 53, 77, 32, 99, 97, 112, 32, 115, 117, 103, 103, 101, 115, 116, 101, 100, 32, 105, 110, 32, 116, 104, 101, 32, 105, 110, 105, 116, 105, 97, 108, 32, 112, 114, 111, 112, 111, 115, 97, 108, 46]\n",
      "Length of Tokens 428\n",
      "====================\n",
      "Post Merge: \n",
      "[79, 110, 32, 50, 48, 50, 52, 45, 48, 51, 45, 49, 51, 44, 32, 116, 104, 101, 32, 112, 114, 111, 106, 101, 99, 116, 32, 39, 71, 101, 111, 68, 97, 116, 97, 95, 65, 110, 97, 108, 121, 115, 105, 115, 95, 50, 48, 50, 52, 39, 32, 111, 102, 102, 105, 99, 105, 97, 108, 108, 121, 32, 107, 105, 99, 107, 101, 100, 32, 111, 102, 102, 46, 84, 104, 101, 32, 116, 101, 97, 109, 32, 104, 97, 100, 32, 112, 114, 101, 118, 105, 111, 117, 115, 108, 121, 32, 100, 105, 115, 99, 117, 115, 115, 101, 100, 32, 115, 101, 118, 101, 114, 97, 108, 32, 107, 101, 121, 32, 112, 111, 105, 110, 116, 115, 44, 32, 101, 109, 112, 104, 97, 115, 105, 122, 105, 110, 103, 32, 116, 104, 101, 32, 105, 109, 112, 111, 114, 116, 97, 110, 99, 101, 32, 111, 102, 32, 97, 99, 99, 117, 114, 97, 99, 121, 32, 97, 110, 100, 32, 101, 102, 102, 105, 99, 105, 101, 110, 99, 121, 46, 32, 65, 115, 32, 111, 102, 32, 116, 111, 100, 97, 121, 44, 32, 116, 104, 101, 114, 101, 32, 104, 97, 118, 101, 32, 98, 101, 101, 110, 32, 49, 53, 50, 32, 105, 115, 115, 117, 101, 115, 32, 108, 111, 103, 103, 101, 100, 44, 32, 119, 105, 116, 104, 32, 52, 55, 32, 109, 97, 114, 107, 101, 100, 32, 97, 115, 32, 39, 114, 101, 115, 111, 108, 118, 101, 100, 39, 32, 97, 110, 100, 32, 116, 104, 101, 32, 114, 101, 109, 97, 105, 110, 105, 110, 103, 32, 97, 119, 97, 105, 116, 105, 110, 103, 32, 114, 101, 118, 105, 101, 119, 46, 32, 73, 110, 116, 101, 114, 101, 115, 116, 105, 110, 103, 108, 121, 44, 32, 116, 104, 101, 32, 98, 117, 100, 103, 101, 116, 32, 97, 108, 108, 111, 99, 97, 116, 101, 100, 32, 102, 111, 114, 32, 116, 104, 105, 115, 32, 112, 104, 97, 115, 101, 32, 105, 115, 32, 51, 44, 52, 53, 48, 44, 48, 48, 48, 46, 50, 52, 53, 54, 44, 32, 119, 104, 105, 99, 104, 32, 105, 115, 32, 117, 110, 100, 101, 114, 32, 105, 116, 39, 115, 32, 36, 51, 46, 53, 77, 32, 99, 97, 112, 32, 115, 117, 103, 103, 101, 115, 116, 101, 100, 32, 105, 110, 32, 116, 104, 101, 32, 105, 110, 105, 116, 105, 97, 108, 32, 112, 114, 111, 112, 111, 115, 97, 108, 46]\n",
      "Length of Tokens 428\n",
      "====================\n",
      "\n",
      "+-----------------------------------------------+\n",
      "|               Analysis Results                |\n",
      "+-----------------------------------------------+\n",
      "| Length of original list              :    428 |\n",
      "| Number of unique tokens in original  :     46 |\n",
      "| Length of compressed list            :    428 |\n",
      "| Number of unique tokens in compressed:     46 |\n",
      "| Final compression ratio              : 0.000  |\n",
      "+-----------------------------------------------+\n",
      "\n",
      "Testing decoder\n",
      "Decoded String: \n",
      "On 2024-03-13, the project 'GeoData_Analysis_2024' officially kicked off.The team had previously discussed several key points, emphasizing the importance of accuracy and efficiency. As of today, there have been 152 issues logged, with 47 marked as 'resolved' and the remaining awaiting review. Interestingly, the budget allocated for this phase is 3,450,000.2456, which is under it's $3.5M cap suggested in the initial proposal.\n",
      "============== \n",
      "Matched Original?: True\n",
      "Length of vocabulary 46\n",
      "=======================\n",
      "\n"
     ]
    }
   ],
   "source": [
    "# Internally test function uses new_txt shown above. The process from encoding  to decoding is shown. Also an idea of the compression ratio we can get from using BPE\n",
    "import regex as re\n",
    "operation = BytePairEncodeAlgo(pattern=re.compile(\"\"), IQr_Mult=1.5, IQR_Iter=5, compression_ratio=0.5)\n",
    "print(operation.test())"
   ]
  },
  {
   "cell_type": "markdown",
   "id": "b2860d41",
   "metadata": {},
   "source": [
    "## Creating Vocabulary for Project"
   ]
  },
  {
   "cell_type": "code",
   "execution_count": 2,
   "id": "0cb9978d",
   "metadata": {},
   "outputs": [],
   "source": [
    "# %pip install tqdm\n",
    "# from tqdm import tqdm\n",
    "# from itertools import islice\n",
    "\n",
    "# ## Encoding current table information\n",
    "# main_vocab = BytePairEncodeAlgo(pattern=config.BPE_CONFIG['Pattern'], IQr_Mult=config.BPE_CONFIG['IQr_Mult'], IQR_Iter=config.BPE_CONFIG['IQR_Iter'], compression_ratio=config.BPE_CONFIG['Compression_Ratio'])\n",
    "# text_corpus = config.MAIN_TABLE_STORAGE + 'row_converted.txt'\n",
    "\n",
    "# # First, determine the total number of lines\n",
    "# total_lines = sum(1 for _ in open(text_corpus, 'r'))\n",
    "# print(f\"Total number of lines to process: {total_lines}\")\n",
    "\n",
    "# # Define the batch size\n",
    "# idx = 0\n",
    "# batch_size = 20\n",
    "# with open(text_corpus, 'r') as file:\n",
    "#     progress_bar = tqdm(total=total_lines, desc=\"Processing\")\n",
    "    \n",
    "#     while True:\n",
    "#         # Read a batch of lines\n",
    "#         lines = list(islice(file, batch_size))\n",
    "#         if not lines:\n",
    "#             break  # Exit loop if no more lines\n",
    "            \n",
    "#         curr_size = len(lines)    \n",
    "#         text = '\\n'.join(lines)    \n",
    "        \n",
    "#         # Process each line in the batch\n",
    "#         main_vocab.process(text)\n",
    "        \n",
    "#         # Update progress bar by the number of lines processed in this batch\n",
    "#         progress_bar.update(curr_size)\n",
    "#         idx += curr_size\n",
    "#         # Optional: Check and print the vocabulary size every 10 batches\n",
    "#         current_percentage = ((idx + 1) / total_lines) * 100\n",
    "#         if current_percentage  % 10 == 0:\n",
    "#             print(f\"The Length of vocabulary is {len(main_vocab.get_vocabulary())}\")\n",
    "\n",
    "# # Close the progress bar\n",
    "# progress_bar.close()\n",
    "        \n",
    "# print(f\"Encoding complete after processing {total_lines} lines. With {config.BPE_CONFIG['Compression_Ration']}% compression ratio for each line. The Length of vocabulary is {main_vocab.get_vocab_length()}\")        \n",
    "# main_vocab.save_state(config.BASE_LOCATION)        "
   ]
  },
  {
   "cell_type": "code",
   "execution_count": 3,
   "id": "003eecb2",
   "metadata": {},
   "outputs": [
    {
     "name": "stdout",
     "output_type": "stream",
     "text": [
      "23550\n"
     ]
    }
   ],
   "source": [
    "# print(f\"Encoding complete after processing {total_lines} lines. With {config.BPE_CONFIG['Compression_Ratio']}% compression ratio for each line. The Length of vocabulary is {main_vocab.get_vocab_length()}\")        \n",
    "# main_vocab.save_state(config.BASE_LOCATION)     \n",
    "# main_vocab.get_vocab_length()\n",
    "\n",
    "main_vocab = BytePairEncodeAlgo()\n",
    "main_vocab.load_state(config.BASE_LOCATION)\n",
    "print(main_vocab.get_vocab_length())"
   ]
  },
  {
   "cell_type": "code",
   "execution_count": 5,
   "id": "f7004b3e",
   "metadata": {},
   "outputs": [
    {
     "name": "stdout",
     "output_type": "stream",
     "text": [
      "\n",
      "Orginal_text: \n",
      "On 2024-03-13, the project 'GeoData_Analysis_2024' officially kicked off.The team had previously discussed several key points, emphasizing the importance of accuracy and efficiency. As of today, there have been 152 issues logged, with 47 marked as 'resolved' and the remaining awaiting review. Interestingly, the budget allocated for this phase is 3,450,000.2456, which is under it's $3.5M cap suggested in the initial proposal.\n",
      "\n",
      "Running script to encode\n",
      "\n",
      "Encoding the Text\n",
      "Pre Merge: \n",
      "[79, 110, 32, 50, 48, 50, 52, 45, 48, 51, 45, 49, 51, 44, 32, 116, 104, 101, 32, 112, 114, 111, 106, 101, 99, 116, 32, 39, 71, 101, 111, 68, 97, 116, 97, 95, 65, 110, 97, 108, 121, 115, 105, 115, 95, 50, 48, 50, 52, 39, 32, 111, 102, 102, 105, 99, 105, 97, 108, 108, 121, 32, 107, 105, 99, 107, 101, 100, 32, 111, 102, 102, 46, 84, 104, 101, 32, 116, 101, 97, 109, 32, 104, 97, 100, 32, 112, 114, 101, 118, 105, 111, 117, 115, 108, 121, 32, 100, 105, 115, 99, 117, 115, 115, 101, 100, 32, 115, 101, 118, 101, 114, 97, 108, 32, 107, 101, 121, 32, 112, 111, 105, 110, 116, 115, 44, 32, 101, 109, 112, 104, 97, 115, 105, 122, 105, 110, 103, 32, 116, 104, 101, 32, 105, 109, 112, 111, 114, 116, 97, 110, 99, 101, 32, 111, 102, 32, 97, 99, 99, 117, 114, 97, 99, 121, 32, 97, 110, 100, 32, 101, 102, 102, 105, 99, 105, 101, 110, 99, 121, 46, 32, 65, 115, 32, 111, 102, 32, 116, 111, 100, 97, 121, 44, 32, 116, 104, 101, 114, 101, 32, 104, 97, 118, 101, 32, 98, 101, 101, 110, 32, 49, 53, 50, 32, 105, 115, 115, 117, 101, 115, 32, 108, 111, 103, 103, 101, 100, 44, 32, 119, 105, 116, 104, 32, 52, 55, 32, 109, 97, 114, 107, 101, 100, 32, 97, 115, 32, 39, 114, 101, 115, 111, 108, 118, 101, 100, 39, 32, 97, 110, 100, 32, 116, 104, 101, 32, 114, 101, 109, 97, 105, 110, 105, 110, 103, 32, 97, 119, 97, 105, 116, 105, 110, 103, 32, 114, 101, 118, 105, 101, 119, 46, 32, 73, 110, 116, 101, 114, 101, 115, 116, 105, 110, 103, 108, 121, 44, 32, 116, 104, 101, 32, 98, 117, 100, 103, 101, 116, 32, 97, 108, 108, 111, 99, 97, 116, 101, 100, 32, 102, 111, 114, 32, 116, 104, 105, 115, 32, 112, 104, 97, 115, 101, 32, 105, 115, 32, 51, 44, 52, 53, 48, 44, 48, 48, 48, 46, 50, 52, 53, 54, 44, 32, 119, 104, 105, 99, 104, 32, 105, 115, 32, 117, 110, 100, 101, 114, 32, 105, 116, 39, 115, 32, 36, 51, 46, 53, 77, 32, 99, 97, 112, 32, 115, 117, 103, 103, 101, 115, 116, 101, 100, 32, 105, 110, 32, 116, 104, 101, 32, 105, 110, 105, 116, 105, 97, 108, 32, 112, 114, 111, 112, 111, 115, 97, 108, 46]\n",
      "Length of Tokens 428\n",
      "====================\n",
      "Post Merge: \n",
      "[5389, 50, 48, 50, 1030, 925, 947, 116, 104, 101, 32, 10556, 39, 71, 101, 111, 519, 116, 97, 95, 462, 97, 108, 121, 115, 105, 115, 95, 50, 48, 50, 52, 788, 111, 12235, 3908, 496, 1656, 1539, 5313, 1645, 32, 116, 3626, 2783, 14534, 1489, 105, 115, 99, 117, 7795, 115, 101, 118, 101, 6056, 430, 1937, 111, 105, 110, 3260, 101, 109, 112, 104, 97, 115, 833, 9514, 101, 32, 6994, 114, 116, 97, 11901, 97, 99, 99, 117, 114, 97, 4836, 10155, 12235, 101, 110, 4836, 433, 553, 4118, 111, 100, 97, 121, 44, 32, 116, 104, 101, 114, 101, 14949, 49, 53, 698, 105, 115, 115, 117, 101, 115, 7231, 103, 1657, 2976, 52, 671, 3493, 3017, 115, 786, 114, 101, 115, 5588, 101, 4761, 10312, 104, 101, 32, 114, 101, 109, 12170, 497, 97, 9251, 114, 101, 12355, 433, 818, 116, 101, 114, 101, 115, 116, 105, 110, 103, 108, 121, 44, 32, 116, 104, 101, 32, 98, 5343, 1176, 97, 108, 108, 444, 4460, 9496, 105, 115, 32, 112, 104, 97, 115, 9084, 44, 52, 53, 1985, 48, 261, 50, 52, 53, 282, 4626, 6066, 2964, 9542, 36, 384, 53, 77, 32, 99, 5471, 115, 540, 103, 101, 4611, 11516, 105, 110, 105, 5371, 1172, 114, 111, 112, 111, 115, 1920]\n",
      "Length of Tokens 218\n",
      "====================\n",
      "\n",
      "+-----------------------------------------------+\n",
      "|               Analysis Results                |\n",
      "+-----------------------------------------------+\n",
      "| Length of original list              :    428 |\n",
      "| Number of unique tokens in original  :     46 |\n",
      "| Length of compressed list            :    218 |\n",
      "| Number of unique tokens in compressed:    102 |\n",
      "| Final compression ratio              : 0.509  |\n",
      "+-----------------------------------------------+\n",
      "\n",
      "Testing decoder\n",
      "Decoded String: \n",
      "On 2024-03-13, the project 'GeoData_Analysis_2024' officially kicked off.The team had previously discussed several key points, emphasizing the importance of accuracy and efficiency. As of today, there have been 152 issues logged, with 47 marked as 'resolved' and the remaining awaiting review. Interestingly, the budget allocated for this phase is 3,450,000.2456, which is under it's $3.5M cap suggested in the initial proposal.\n",
      "============== \n",
      "Matched Original?: True\n",
      "Length of vocabulary 23667\n",
      "==========================\n",
      "\n"
     ]
    }
   ],
   "source": [
    "print(main_vocab.test())"
   ]
  },
  {
   "cell_type": "code",
   "execution_count": 7,
   "id": "00b28877",
   "metadata": {},
   "outputs": [
    {
     "name": "stdout",
     "output_type": "stream",
     "text": [
      "Pre Merge: \n",
      "[97, 99, 116, 117, 97, 108, 100, 112, 100, 116, 111, 108, 101, 114, 97, 110, 99, 101, 95, 51, 52, 52, 80, 32, 105, 115, 32, 101, 109, 112, 116, 121, 32, 97, 109, 116, 105, 110, 115, 116, 112, 97, 105, 100, 98, 101, 102, 100, 117, 101, 108, 50, 52, 109, 95, 52, 49, 56, 55, 49, 49, 53, 65, 32, 105, 115, 32, 101, 109, 112, 116, 121, 32, 97, 110, 110, 117, 105, 116, 121, 95, 55, 56, 48, 65, 32, 104, 97, 115, 32, 118, 97, 108, 117, 101, 32, 97, 110, 110, 117, 105, 116, 121, 110, 101, 120, 116, 109, 111, 110, 116, 104, 95, 53, 55, 65, 32, 104, 97, 115, 32, 118, 97, 108, 117, 101, 32, 97, 112, 112, 108, 105, 99, 97, 116, 105, 111, 110, 99, 110, 116, 95, 51, 54, 49, 76, 32, 104, 97, 115, 32, 118, 97, 108, 117, 101, 32, 97, 112, 112, 108, 105, 99, 97, 116, 105, 111, 110, 115, 51, 48, 100, 95, 54, 53, 56, 76, 32, 104, 97, 115, 32, 118, 97, 108, 117, 101, 32, 97, 112, 112, 108, 105, 99, 97, 116, 105, 111, 110, 115, 99, 110, 116, 95, 49, 48, 56, 54, 76, 32, 104, 97, 115, 32, 118, 97, 108, 117, 101, 32, 97, 112, 112, 108, 105, 99, 97, 116, 105, 111, 110, 115, 99, 110, 116, 95, 52, 54, 52, 76, 32, 104, 97, 115, 32, 118, 97, 108, 117, 101, 32, 97, 112, 112, 108, 105, 99, 97, 116, 105, 111, 110, 115, 99, 110, 116, 95, 54, 50, 57, 76, 32, 104, 97, 115, 32, 118, 97, 108, 117, 101, 32, 97, 112, 112, 108, 105, 99, 97, 116, 105, 111, 110, 115, 99, 110, 116, 95, 56, 54, 55, 76, 32, 104, 97, 115, 32, 118, 97, 108, 117, 101, 32, 97, 118, 103, 100, 98, 100, 100, 112, 100, 108, 97, 115, 116, 50, 52, 109, 95, 51, 54, 53, 56, 57, 51, 50, 80, 32, 105, 115, 32, 101, 109, 112, 116, 121, 32, 97, 118, 103, 100, 98, 100, 100, 112, 100, 108, 97, 115, 116, 51, 109, 95, 52, 49, 56, 55, 49, 50, 48, 80, 32, 105, 115, 32, 101, 109, 112, 116, 121, 32, 97, 118, 103, 100, 98, 100, 116, 111, 108, 108, 97, 115, 116, 50, 52, 109, 95, 52, 53, 50, 53, 49, 57, 55, 80, 32, 105, 115, 32, 101, 109, 112, 116, 121, 32, 97, 118, 103, 100, 112, 100, 116, 111, 108, 99, 108, 111, 115, 117, 114, 101, 50, 52, 95, 51, 54, 53, 56, 57, 51, 56, 80, 32, 105, 115, 32, 101, 109, 112, 116, 121, 32, 97, 118, 103, 105, 110, 115, 116, 97, 108, 108, 97, 115, 116, 50, 52, 109, 95, 51, 54, 53, 56, 57, 51, 55, 65, 32, 105, 115, 32, 101, 109, 112, 116, 121, 32, 97, 118, 103, 108, 110, 97, 109, 116, 115, 116, 97, 114, 116, 50, 52, 109, 95, 52, 53, 50, 53, 49, 56, 55, 65, 32, 105, 115, 32, 101, 109, 112, 116, 121, 32, 97, 118, 103, 109, 97, 120, 100, 112, 100, 108, 97, 115, 116, 57, 109, 95, 51, 55, 49, 54, 57, 52, 51, 80, 32, 105, 115, 32, 101, 109, 112, 116, 121, 32, 97, 118, 103, 111, 117, 116, 115, 116, 97, 110, 100, 98, 97, 108, 97, 110, 99, 101, 108, 54, 109, 95, 52, 49, 56, 55, 49, 49, 52, 65, 32, 105, 115, 32, 101, 109, 112, 116, 121, 32, 97, 118, 103, 112, 109, 116, 108, 97, 115, 116, 49, 50, 109, 95, 52, 53, 50, 53, 50, 48, 48, 65, 32, 105, 115, 32, 101, 109, 112, 116, 121, 32, 98, 97, 110, 107, 97, 99, 99, 116, 121, 112, 101, 95, 55, 49, 48, 76, 32, 105, 115, 32, 101, 109, 112, 116, 121, 32, 99, 97, 114, 100, 116, 121, 112, 101, 95, 53, 49, 76, 32, 105, 115, 32, 101, 109, 112, 116, 121, 32, 99, 108, 105, 101, 110, 116, 115, 99, 110, 116, 49, 50, 109, 95, 51, 55, 49, 50, 57, 53, 50, 76, 32, 104, 97, 115, 32, 118, 97, 108, 117, 101, 32, 99, 108, 105, 101, 110, 116, 115, 99, 110, 116, 51, 109, 95, 51, 55, 49, 50, 57, 53, 48, 76, 32, 104, 97, 115, 32, 118, 97, 108, 117, 101, 32, 99, 108, 105, 101, 110, 116, 115, 99, 110, 116, 54, 109, 95, 51, 55, 49, 50, 57, 52, 57, 76, 32, 104, 97, 115, 32, 118, 97, 108, 117, 101, 32, 99, 108, 105, 101, 110, 116, 115, 99, 110, 116, 95, 49, 48, 48, 76, 32, 104, 97, 115, 32, 118, 97, 108, 117, 101, 32, 99, 108, 105, 101, 110, 116, 115, 99, 110, 116, 95, 49, 48, 50, 50, 76, 32, 104, 97, 115, 32, 118, 97, 108, 117, 101, 32, 99, 108, 105, 101, 110, 116, 115, 99, 110, 116, 95, 49, 48, 55, 49, 76, 32, 104, 97, 115, 32, 118, 97, 108, 117, 101, 32, 99, 108, 105, 101, 110, 116, 115, 99, 110, 116, 95, 49, 49, 51, 48, 76, 32, 104, 97, 115, 32, 118, 97, 108, 117, 101, 32, 99, 108, 105, 101, 110, 116, 115, 99, 110, 116, 95, 49, 51, 54, 76, 32, 105, 115, 32, 101, 109, 112, 116, 121, 32, 99, 108, 105, 101, 110, 116, 115, 99, 110, 116, 95, 49, 53, 55, 76, 32, 104, 97, 115, 32, 118, 97, 108, 117, 101, 32, 99, 108, 105, 101, 110, 116, 115, 99, 110, 116, 95, 50, 53, 55, 76, 32, 104, 97, 115, 32, 118, 97, 108, 117, 101, 32, 99, 108, 105, 101, 110, 116, 115, 99, 110, 116, 95, 51, 48, 52, 76, 32, 104, 97, 115, 32, 118, 97, 108, 117, 101, 32, 99, 108, 105, 101, 110, 116, 115, 99, 110, 116, 95, 51, 54, 48, 76, 32, 104, 97, 115, 32, 118, 97, 108, 117, 101, 32, 99, 108, 105, 101, 110, 116, 115, 99, 110, 116, 95, 52, 57, 51, 76, 32, 104, 97, 115, 32, 118, 97, 108, 117, 101, 32, 99, 108, 105, 101, 110, 116, 115, 99, 110, 116, 95, 53, 51, 51, 76, 32, 104, 97, 115, 32, 118, 97, 108, 117, 101, 32, 99, 108, 105, 101, 110, 116, 115, 99, 110, 116, 95, 56, 56, 55, 76, 32, 104, 97, 115, 32, 118, 97, 108, 117, 101, 32, 99, 108, 105, 101, 110, 116, 115, 99, 110, 116, 95, 57, 52, 54, 76, 32, 104, 97, 115, 32, 118, 97, 108, 117, 101, 32, 99, 110, 116, 105, 110, 99, 112, 97, 121, 99, 111, 110, 116, 57, 109, 95, 51, 55, 49, 54, 57, 52, 52, 76, 32, 105, 115, 32, 101, 109, 112, 116, 121, 32, 99, 110, 116, 112, 109, 116, 115, 50, 52, 95, 51, 54, 53, 56, 57, 51, 51, 76, 32, 105, 115, 32, 101, 109, 112, 116, 121, 32, 99, 111, 109, 109, 110, 111, 105, 110, 99, 108, 97, 115, 116, 54, 109, 95, 51, 53, 52, 54, 56, 52, 53, 76, 32, 104, 97, 115, 32, 118, 97, 108, 117, 101, 32, 99, 114, 101, 100, 97, 109, 111, 117, 110, 116, 95, 55, 55, 48, 65, 32, 104, 97, 115, 32, 118, 97, 108, 117, 101, 32, 99, 114, 101, 100, 116, 121, 112, 101, 95, 51, 50, 50, 76, 32, 118, 97, 108, 117, 101, 32, 105, 115, 32, 67, 65, 76, 32, 99, 117, 114, 114, 100, 101, 98, 116, 95, 50, 50, 65, 32, 104, 97, 115, 32, 118, 97, 108, 117, 101, 32, 99, 117, 114, 114, 100, 101, 98, 116, 99, 114, 101, 100, 116, 121, 112, 101, 114, 97, 110, 103, 101, 95, 56, 50, 56, 65, 32, 104, 97, 115, 32, 118, 97, 108, 117, 101, 32, 100, 97, 116, 101, 102, 105, 114, 115, 116, 111, 102, 102, 101, 114, 95, 49, 49, 52, 52, 68, 32, 105, 115, 32, 101, 109, 112, 116, 121, 32, 100, 97, 116, 101, 108, 97, 115, 116, 105, 110, 115, 116, 97, 108, 52, 48, 100, 112, 100, 95, 50, 52, 55, 68, 32, 105, 115, 32, 101, 109, 112, 116, 121, 32, 100, 97, 116, 101, 108, 97, 115, 116, 117, 110, 112, 97, 105, 100, 95, 51, 53, 52, 54, 56, 53, 52, 68, 32, 105, 115, 32, 101, 109, 112, 116, 121, 32, 100, 97, 121, 115, 111, 118, 101, 114, 100, 117, 101, 116, 111, 108, 101, 114, 97, 110, 99, 101, 100, 100, 95, 51, 57, 55, 54, 57, 54, 49, 76, 32, 105, 115, 32, 101, 109, 112, 116, 121, 32, 100, 101, 102, 101, 114, 114, 101, 100, 109, 110, 116, 104, 115, 110, 117, 109, 95, 49, 54, 54, 76, 32, 104, 97, 115, 32, 118, 97, 108, 117, 101, 32, 100, 105, 115, 98, 117, 114, 115, 101, 100, 99, 114, 101, 100, 97, 109, 111, 117, 110, 116, 95, 49, 49, 49, 51, 65, 32, 104, 97, 115, 32, 118, 97, 108, 117, 101, 32, 100, 105, 115, 98, 117, 114, 115, 101, 109, 101, 110, 116, 116, 121, 112, 101, 95, 54, 55, 76, 32, 118, 97, 108, 117, 101, 32, 105, 115, 32, 71, 66, 65, 32, 100, 111, 119, 110, 112, 109, 116, 95, 49, 49, 54, 65, 32, 104, 97, 115, 32, 118, 97, 108, 117, 101, 32, 100, 116, 108, 97, 115, 116, 112, 109, 116, 97, 108, 108, 115, 116, 101, 115, 95, 52, 52, 57, 57, 50, 48, 54, 68, 32, 105, 115, 32, 101, 109, 112, 116, 121, 32, 101, 105, 114, 95, 50, 55, 48, 76, 32, 104, 97, 115, 32, 118, 97, 108, 117, 101, 32, 101, 113, 117, 97, 108, 105, 116, 121, 100, 97, 116, 97, 97, 103, 114, 101, 101, 109, 101, 110, 116, 95, 56, 57, 49, 76, 32, 105, 115, 32, 101, 109, 112, 116, 121, 32, 101, 113, 117, 97, 108, 105, 116, 121, 101, 109, 112, 102, 114, 111, 109, 95, 54, 50, 76, 32, 105, 115, 32, 101, 109, 112, 116, 121, 32, 102, 105, 114, 115, 116, 99, 108, 120, 99, 97, 109, 112, 97, 105, 103, 110, 95, 49, 49, 50, 53, 68, 32, 105, 115, 32, 101, 109, 112, 116, 121, 32, 102, 105, 114, 115, 116, 100, 97, 116, 101, 100, 117, 101, 95, 52, 56, 57, 68, 32, 105, 115, 32, 101, 109, 112, 116, 121, 32, 104, 111, 109, 101, 112, 104, 110, 99, 110, 116, 95, 54, 50, 56, 76, 32, 104, 97, 115, 32, 118, 97, 108, 117, 101, 32, 105, 110, 105, 116, 116, 114, 97, 110, 115, 97, 99, 116, 105, 111, 110, 97, 109, 111, 117, 110, 116, 95, 54, 53, 48, 65, 32, 105, 115, 32, 101, 109, 112, 116, 121, 32, 105, 110, 105, 116, 116, 114, 97, 110, 115, 97, 99, 116, 105, 111, 110, 99, 111, 100, 101, 95, 49, 56, 54, 76, 32, 118, 97, 108, 117, 101, 32, 105, 115, 32, 67, 65, 83, 72, 32, 105, 110, 116, 101, 114, 101, 115, 116, 114, 97, 116, 101, 95, 51, 49, 49, 76, 32, 104, 97, 115, 32, 118, 97, 108, 117, 101, 32, 105, 110, 116, 101, 114, 101, 115, 116, 114, 97, 116, 101, 103, 114, 97, 99, 101, 95, 51, 52, 76, 32, 105, 115, 32, 101, 109, 112, 116, 121, 32, 105, 115, 98, 105, 100, 112, 114, 111, 100, 117, 99, 116, 95, 49, 48, 57, 53, 76, 32, 105, 115, 32, 70, 97, 108, 115, 101, 32, 105, 115, 98, 105, 100, 112, 114, 111, 100, 117, 99, 116, 114, 101, 113, 117, 101, 115, 116, 95, 50, 57, 50, 76, 32, 105, 115, 32, 101, 109, 112, 116, 121, 32, 105, 115, 100, 101, 98, 105, 116, 99, 97, 114, 100, 95, 55, 50, 57, 76, 32, 105, 115, 32, 101, 109, 112, 116, 121, 32, 108, 97, 115, 116, 97, 99, 116, 105, 118, 97, 116, 101, 100, 100, 97, 116, 101, 95, 56, 48, 49, 68, 32, 105, 115, 32, 101, 109, 112, 116, 121, 32, 108, 97, 115, 116, 97, 112, 112, 108, 105, 99, 97, 116, 105, 111, 110, 100, 97, 116, 101, 95, 56, 55, 55, 68, 32, 105, 115, 32, 101, 109, 112, 116, 121, 32, 108, 97, 115, 116, 97, 112, 112, 114, 99, 111, 109, 109, 111, 100, 105, 116, 121, 99, 97, 116, 95, 49, 48, 52, 49, 77, 32, 118, 97, 108, 117, 101, 32, 105, 115, 32, 97, 53, 53, 52, 55, 53, 98, 49, 32, 108, 97, 115, 116, 97, 112, 112, 114, 99, 111, 109, 109, 111, 100, 105, 116, 121, 116, 121, 112, 101, 99, 95, 53, 50, 53, 49, 55, 54, 54, 77, 32, 118, 97, 108, 117, 101, 32, 105, 115, 32, 97, 53, 53, 52, 55, 53, 98, 49, 32, 108, 97, 115, 116, 97, 112, 112, 114, 99, 114, 101, 100, 97, 109, 111, 117, 110, 116, 95, 55, 56, 49, 65, 32, 105, 115, 32, 101, 109, 112, 116, 121, 32, 108, 97, 115, 116, 97, 112, 112, 114, 100, 97, 116, 101, 95, 54, 52, 48, 68, 32, 105, 115, 32, 101, 109, 112, 116, 121, 32, 108, 97, 115, 116, 99, 97, 110, 99, 101, 108, 114, 101, 97, 115, 111, 110, 95, 53, 54, 49, 77, 32, 118, 97, 108, 117, 101, 32, 105, 115, 32, 97, 53, 53, 52, 55, 53, 98, 49, 32, 108, 97, 115, 116, 100, 101, 108, 105, 110, 113, 100, 97, 116, 101, 95, 50, 50, 52, 68, 32, 105, 115, 32, 101, 109, 112, 116, 121, 32, 108, 97, 115, 116, 100, 101, 112, 101, 110, 100, 101, 110, 116, 115, 110, 117, 109, 95, 52, 52, 56, 76, 32, 105, 115, 32, 101, 109, 112, 116, 121, 32, 108, 97, 115, 116, 111, 116, 104, 101, 114, 105, 110, 99, 95, 57, 48, 50, 65, 32, 105, 115, 32, 101, 109, 112, 116, 121, 32, 108, 97, 115, 116, 111, 116, 104, 101, 114, 108, 110, 115, 101, 120, 112, 101, 110, 115, 101, 95, 54, 51, 49, 65, 32, 105, 115, 32, 101, 109, 112, 116, 121, 32, 108, 97, 115, 116, 114, 101, 106, 101, 99, 116, 99, 111, 109, 109, 111, 100, 105, 116, 121, 99, 97, 116, 95, 49, 54, 49, 77, 32, 118, 97, 108, 117, 101, 32, 105, 115, 32, 97, 53, 53, 52, 55, 53, 98, 49, 32, 108, 97, 115, 116, 114, 101, 106, 101, 99, 116, 99, 111, 109, 109, 111, 100, 116, 121, 112, 101, 99, 95, 53, 50, 53, 49, 55, 54, 57, 77, 32, 118, 97, 108, 117, 101, 32, 105, 115, 32, 97, 53, 53, 52, 55, 53, 98, 49, 32, 108, 97, 115, 116, 114, 101, 106, 101, 99, 116, 99, 114, 101, 100, 97, 109, 111, 117, 110, 116, 95, 50, 50, 50, 65, 32, 105, 115, 32, 101, 109, 112, 116, 121, 32, 108, 97, 115, 116, 114, 101, 106, 101, 99, 116, 100, 97, 116, 101, 95, 53, 48, 68, 32, 105, 115, 32, 101, 109, 112, 116, 121, 32, 108, 97, 115, 116, 114, 101, 106, 101, 99, 116, 114, 101, 97, 115, 111, 110, 95, 55, 53, 57, 77, 32, 118, 97, 108, 117, 101, 32, 105, 115, 32, 97, 53, 53, 52, 55, 53, 98, 49, 32, 108, 97, 115, 116, 114, 101, 106, 101, 99, 116, 114, 101, 97, 115, 111, 110, 99, 108, 105, 101, 110, 116, 95, 52, 49, 52, 53, 48, 52, 48, 77, 32, 118, 97, 108, 117, 101, 32, 105, 115, 32, 97, 53, 53, 52, 55, 53, 98, 49, 32, 108, 97, 115, 116, 114, 101, 112, 97, 121, 105, 110, 103, 100, 97, 116, 101, 95, 54, 57, 54, 68, 32, 105, 115, 32, 101, 109, 112, 116, 121, 32, 108, 97, 115, 116, 115, 116, 95, 55, 51, 54, 76, 32, 105, 115, 32, 101, 109, 112, 116, 121, 32, 109, 97, 105, 110, 105, 110, 99, 95, 50, 49, 53, 65, 32, 105, 115, 32, 101, 109, 112, 116, 121, 32, 109, 97, 115, 116, 101, 114, 99, 111, 110, 116, 114, 101, 108, 101, 99, 116, 114, 111, 110, 105, 99, 95, 53, 49, 57, 76, 32, 104, 97, 115, 32, 118, 97, 108, 117, 101, 32, 109, 97, 115, 116, 101, 114, 99, 111, 110, 116, 114, 101, 120, 105, 115, 116, 95, 49, 48, 57, 76, 32, 104, 97, 115, 32, 118, 97, 108, 117, 101, 32, 109, 97, 120, 97, 110, 110, 117, 105, 116, 121, 95, 49, 53, 57, 65, 32, 104, 97, 115, 32, 118, 97, 108, 117, 101, 32, 109, 97, 120, 97, 110, 110, 117, 105, 116, 121, 95, 52, 48, 55, 53, 48, 48, 57, 65, 32, 105, 115, 32, 101, 109, 112, 116, 121, 32, 109, 97, 120, 100, 98, 100, 100, 112, 100, 108, 97, 115, 116, 49, 109, 95, 51, 54, 53, 56, 57, 51, 57, 80, 32, 105, 115, 32, 101, 109, 112, 116, 121, 32, 109, 97, 120, 100, 98, 100, 100, 112, 100, 116, 111, 108, 108, 97, 115, 116, 49, 50, 109, 95, 51, 54, 53, 56, 57, 52, 48, 80, 32, 105, 115, 32, 101, 109, 112, 116, 121, 32, 109, 97, 120, 100, 98, 100, 100, 112, 100, 116, 111, 108, 108, 97, 115, 116, 54, 109, 95, 52, 49, 56, 55, 49, 49, 57, 80, 32, 105, 115, 32, 101, 109, 112, 116, 121, 32, 109, 97, 120, 100, 101, 98, 116, 52, 95, 57, 55, 50, 65, 32, 104, 97, 115, 32, 118, 97, 108, 117, 101, 32, 109, 97, 120, 100, 112, 100, 102, 114, 111, 109, 54, 109, 116, 111, 51, 54, 109, 95, 51, 53, 52, 54, 56, 53, 51, 80, 32, 104, 97, 115, 32, 118, 97, 108, 117, 101, 32, 109, 97, 120, 100, 112, 100, 105, 110, 115, 116, 108, 100, 97, 116, 101, 95, 51, 53, 52, 54, 56, 53, 53, 68, 32, 105, 115, 32, 101, 109, 112, 116, 121, 32, 109, 97, 120, 100, 112, 100, 105, 110, 115, 116, 108, 110, 117, 109, 95, 51, 53, 52, 54, 56, 52, 54, 80, 32, 105, 115, 32, 101, 109, 112, 116, 121, 32, 109, 97, 120, 100, 112, 100, 108, 97, 115, 116, 49, 50, 109, 95, 55, 50, 55, 80, 32, 104, 97, 115, 32, 118, 97, 108, 117, 101, 32, 109, 97, 120, 100, 112, 100, 108, 97, 115, 116, 50, 52, 109, 95, 49, 52, 51, 80, 32, 104, 97, 115, 32, 118, 97, 108, 117, 101, 32, 109, 97, 120, 100, 112, 100, 108, 97, 115, 116, 51, 109, 95, 51, 57, 50, 80, 32, 104, 97, 115, 32, 118, 97, 108, 117, 101, 32, 109, 97, 120, 100, 112, 100, 108, 97, 115, 116, 54, 109, 95, 52, 55, 52, 80, 32, 104, 97, 115, 32, 118, 97, 108, 117, 101, 32, 109, 97, 120, 100, 112, 100, 108, 97, 115, 116, 57, 109, 95, 49, 48, 53, 57, 80, 32, 104, 97, 115, 32, 118, 97, 108, 117, 101, 32, 109, 97, 120, 100, 112, 100, 116, 111, 108, 101, 114, 97, 110, 99, 101, 95, 51, 55, 52, 80, 32, 104, 97, 115, 32, 118, 97, 108, 117, 101, 32, 109, 97, 120, 105, 110, 115, 116, 97, 108, 108, 97, 115, 116, 50, 52, 109, 95, 51, 54, 53, 56, 57, 50, 56, 65, 32, 105, 115, 32, 101, 109, 112, 116, 121, 32, 109, 97, 120, 108, 110, 97, 109, 116, 115, 116, 97, 114, 116, 54, 109, 95, 52, 53, 50, 53, 49, 57, 57, 65, 32, 105, 115, 32, 101, 109, 112, 116, 121, 32, 109, 97, 120, 111, 117, 116, 115, 116, 97, 110, 100, 98, 97, 108, 97, 110, 99, 101, 108, 49, 50, 109, 95, 52, 49, 56, 55, 49, 49, 51, 65, 32, 105, 115, 32, 101, 109, 112, 116, 121, 32, 109, 97, 120, 112, 109, 116, 108, 97, 115, 116, 51, 109, 95, 52, 53, 50, 53, 49, 57, 48, 65, 32, 105, 115, 32, 101, 109, 112, 116, 121, 32, 109, 105, 110, 100, 98, 100, 100, 112, 100, 108, 97, 115, 116, 50, 52, 109, 95, 51, 54, 53, 56, 57, 51, 53, 80, 32, 105, 115, 32, 101, 109, 112, 116, 121, 32, 109, 105, 110, 100, 98, 100, 116, 111, 108, 108, 97, 115, 116, 50, 52, 109, 95, 52, 53, 50, 53, 49, 57, 49, 80, 32, 105, 115, 32, 101, 109, 112, 116, 121, 32, 109, 111, 98, 105, 108, 101, 112, 104, 110, 99, 110, 116, 95, 53, 57, 51, 76, 32, 104, 97, 115, 32, 118, 97, 108, 117, 101, 32, 109, 111, 110, 116, 104, 115, 97, 110, 110, 117, 105, 116, 121, 95, 56, 52, 53, 76, 32, 105, 115, 32, 101, 109, 112, 116, 121, 32, 110, 117, 109, 97, 99, 116, 105, 118, 101, 99, 114, 101, 100, 115, 95, 54, 50, 50, 76, 32, 104, 97, 115, 32, 118, 97, 108, 117, 101, 32, 110, 117, 109, 97, 99, 116, 105, 118, 101, 99, 114, 101, 100, 115, 99, 104, 97, 110, 110, 101, 108, 95, 52, 49, 52, 76, 32, 104, 97, 115, 32, 118, 97, 108, 117, 101, 32, 110, 117, 109, 97, 99, 116, 105, 118, 101, 114, 101, 108, 99, 111, 110, 116, 114, 95, 55, 53, 48, 76, 32, 104, 97, 115, 32, 118, 97, 108, 117, 101, 32, 110, 117, 109, 99, 111, 110, 116, 114, 115, 51, 109, 111, 110, 116, 104, 115, 95, 52, 55, 57, 76, 32, 104, 97, 115, 32, 118, 97, 108, 117, 101, 32, 110, 117, 109, 105, 110, 99, 111, 109, 105, 110, 103, 112, 109, 116, 115, 95, 51, 53, 52, 54, 56, 52, 56, 76, 32, 105, 115, 32, 101, 109, 112, 116, 121, 32, 110, 117, 109, 105, 110, 115, 116, 108, 97, 108, 108, 112, 97, 105, 100, 101, 97, 114, 108, 121, 51, 100, 95, 56, 49, 55, 76, 32, 105, 115, 32, 101, 109, 112, 116, 121, 32, 110, 117, 109, 105, 110, 115, 116, 108, 115, 95, 54, 53, 55, 76, 32, 104, 97, 115, 32, 118, 97, 108, 117, 101, 32, 110, 117, 109, 105, 110, 115, 116, 108, 115, 97, 108, 108, 112, 97, 105, 100, 95, 57, 51, 52, 76, 32, 105, 115, 32, 101, 109, 112, 116, 121, 32, 110, 117, 109, 105, 110, 115, 116, 108, 115, 119, 105, 116, 104, 100, 112, 100, 49, 48, 95, 55, 50, 56, 76, 32, 105, 115, 32, 101, 109, 112, 116, 121, 32, 110, 117, 109, 105, 110, 115, 116, 108, 115, 119, 105, 116, 104, 100, 112, 100, 53, 95, 52, 49, 56, 55, 49, 49, 54, 76, 32, 105, 115, 32, 101, 109, 112, 116, 121, 32, 110, 117, 109, 105, 110, 115, 116, 108, 115, 119, 105, 116, 104, 111, 117, 116, 100, 112, 100, 95, 53, 54, 50, 76, 32, 105, 115, 32, 101, 109, 112, 116, 121, 32, 110, 117, 109, 105, 110, 115, 116, 109, 97, 116, 112, 97, 105, 100, 116, 101, 97, 114, 108, 121, 50, 100, 95, 52, 52, 57, 57, 50, 48, 52, 76, 32, 105, 115, 32, 101, 109, 112, 116, 121, 32, 110, 117, 109, 105, 110, 115, 116, 112, 97, 105, 100, 95, 52, 52, 57, 57, 50, 48, 56, 76, 32, 105, 115, 32, 101, 109, 112, 116, 121, 32, 110, 117, 109, 105, 110, 115, 116, 112, 97, 105, 100, 101, 97, 114, 108, 121, 51, 100, 95, 51, 53, 52, 54, 56, 53, 48, 76, 32, 105, 115, 32, 101, 109, 112, 116, 121, 32, 110, 117, 109, 105, 110, 115, 116, 112, 97, 105, 100, 101, 97, 114, 108, 121, 51, 100, 101, 115, 116, 95, 52, 52, 57, 51, 50, 49, 54, 76, 32, 105, 115, 32, 101, 109, 112, 116, 121, 32, 110, 117, 109, 105, 110, 115, 116, 112, 97, 105, 100, 101, 97, 114, 108, 121, 53, 100, 95, 49, 48, 56, 55, 76, 32, 105, 115, 32, 101, 109, 112, 116, 121, 32, 110, 117, 109, 105, 110, 115, 116, 112, 97, 105, 100, 101, 97, 114, 108, 121, 53, 100, 101, 115, 116, 95, 52, 52, 57, 51, 50, 49, 49, 76, 32, 105, 115, 32, 101, 109, 112, 116, 121, 32, 110, 117, 109, 105, 110, 115, 116, 112, 97, 105, 100, 101, 97, 114, 108, 121, 53, 100, 111, 98, 100, 95, 52, 52, 57, 57, 50, 48, 53, 76, 32, 105, 115, 32, 101, 109, 112, 116, 121, 32, 110, 117, 109, 105, 110, 115, 116, 112, 97, 105, 100, 101, 97, 114, 108, 121, 95, 51, 51, 56, 76, 32, 105, 115, 32, 101, 109, 112, 116, 121, 32, 110, 117, 109, 105, 110, 115, 116, 112, 97, 105, 100, 101, 97, 114, 108, 121, 101, 115, 116, 95, 52, 52, 57, 51, 50, 49, 52, 76, 32, 105, 115, 32, 101, 109, 112, 116, 121, 32, 110, 117, 109, 105, 110, 115, 116, 112, 97, 105, 100, 108, 97, 115, 116, 99, 111, 110, 116, 114, 95, 52, 51, 50, 53, 48, 56, 48, 76, 32, 105, 115, 32, 101, 109, 112, 116, 121, 32, 110, 117, 109, 105, 110, 115, 116, 112, 97, 105, 100, 108, 97, 116, 101, 49, 100, 95, 51, 53, 52, 54, 56, 53, 50, 76, 32, 105, 115, 32, 101, 109, 112, 116, 121, 32, 110, 117, 109, 105, 110, 115, 116, 114, 101, 103, 117, 108, 97, 114, 112, 97, 105, 100, 95, 57, 55, 51, 76, 32, 105, 115, 32, 101, 109, 112, 116, 121, 110, 117, 109, 105, 110, 115, 116, 114, 101, 103, 117, 108, 97, 114, 112, 97, 105, 100, 101, 115, 116, 95, 52, 52, 57, 51, 50, 49, 48, 76, 32, 105, 115, 32, 101, 109, 112, 116, 121, 32, 110, 117, 109, 105, 110, 115, 116, 116, 111, 112, 97, 121, 103, 114, 95, 55, 54, 57, 76, 32, 105, 115, 32, 101, 109, 112, 116, 121, 32, 110, 117, 109, 105, 110, 115, 116, 116, 111, 112, 97, 121, 103, 114, 101, 115, 116, 95, 52, 52, 57, 51, 50, 49, 51, 76, 32, 105, 115, 32, 101, 109, 112, 116, 121, 32, 110, 117, 109, 105, 110, 115, 116, 117, 110, 112, 97, 105, 100, 109, 97, 120, 95, 51, 53, 52, 54, 56, 53, 49, 76, 32, 105, 115, 32, 101, 109, 112, 116, 121, 32, 110, 117, 109, 105, 110, 115, 116, 117, 110, 112, 97, 105, 100, 109, 97, 120, 101, 115, 116, 95, 52, 52, 57, 51, 50, 49, 50, 76, 32, 105, 115, 32, 101, 109, 112, 116, 121, 32, 110, 117, 109, 110, 111, 116, 97, 99, 116, 105, 118, 97, 116, 101, 100, 95, 49, 49, 52, 51, 76, 32, 104, 97, 115, 32, 118, 97, 108, 117, 101, 32, 110, 117, 109, 112, 109, 116, 99, 104, 97, 110, 110, 101, 108, 100, 100, 95, 51, 49, 56, 76, 32, 104, 97, 115, 32, 118, 97, 108, 117, 101, 32, 110, 117, 109, 114, 101, 106, 101, 99, 116, 115, 57, 109, 95, 56, 53, 57, 76, 32, 104, 97, 115, 32, 118, 97, 108, 117, 101, 32, 111, 112, 101, 110, 99, 114, 101, 100, 95, 54, 52, 55, 76, 32, 105, 115, 32, 101, 109, 112, 116, 121, 32, 112, 97, 121, 116, 121, 112, 101, 49, 115, 116, 95, 57, 50, 53, 76, 32, 118, 97, 108, 117, 101, 32, 105, 115, 32, 79, 84, 72, 69, 82, 32, 112, 97, 121, 116, 121, 112, 101, 95, 55, 56, 51, 76, 32, 118, 97, 108, 117, 101, 32, 105, 115, 32, 79, 84, 72, 69, 82, 32, 112, 97, 121, 118, 97, 99, 97, 116, 105, 111, 110, 112, 111, 115, 116, 112, 111, 110, 101, 95, 52, 49, 56, 55, 49, 49, 56, 68, 32, 105, 115, 32, 101, 109, 112, 116, 121, 32, 112, 99, 116, 105, 110, 115, 116, 108, 115, 97, 108, 108, 112, 97, 105, 100, 101, 97, 114, 108, 51, 100, 95, 52, 50, 55, 76, 32, 105, 115, 32, 101, 109, 112, 116, 121, 32, 112, 99, 116, 105, 110, 115, 116, 108, 115, 97, 108, 108, 112, 97, 105, 100, 108, 97, 116, 49, 48, 100, 95, 56, 51, 57, 76, 32, 105, 115, 32, 101, 109, 112, 116, 121, 32, 112, 99, 116, 105, 110, 115, 116, 108, 115, 97, 108, 108, 112, 97, 105, 100, 108, 97, 116, 101, 49, 100, 95, 51, 53, 52, 54, 56, 53, 54, 76, 32, 105, 115, 32, 101, 109, 112, 116, 121, 32, 112, 99, 116, 105, 110, 115, 116, 108, 115, 97, 108, 108, 112, 97, 105, 100, 108, 97, 116, 101, 52, 100, 95, 51, 53, 52, 54, 56, 52, 57, 76, 32, 105, 115, 32, 101, 109, 112, 116, 121, 32, 112, 99, 116, 105, 110, 115, 116, 108, 115, 97, 108, 108, 112, 97, 105, 100, 108, 97, 116, 101, 54, 100, 95, 51, 53, 52, 54, 56, 52, 52, 76, 32, 105, 115, 32, 101, 109, 112, 116, 121, 32, 112, 109, 116, 110, 117, 109, 95, 50, 53, 52, 76, 32, 104, 97, 115, 32, 118, 97, 108, 117, 101, 32, 112, 111, 115, 102, 112, 100, 49, 48, 108, 97, 115, 116, 109, 111, 110, 116, 104, 95, 51, 51, 51, 80, 32, 104, 97, 115, 32, 118, 97, 108, 117, 101, 32, 112, 111, 115, 102, 112, 100, 51, 48, 108, 97, 115, 116, 109, 111, 110, 116, 104, 95, 51, 57, 55, 54, 57, 54, 48, 80, 32, 104, 97, 115, 32, 118, 97, 108, 117, 101, 32, 112, 111, 115, 102, 115, 116, 113, 112, 100, 51, 48, 108, 97, 115, 116, 109, 111, 110, 116, 104, 95, 51, 57, 55, 54, 57, 54, 50, 80, 32, 105, 115, 32, 101, 109, 112, 116, 121, 32, 112, 114, 101, 118, 105, 111, 117, 115, 99, 111, 110, 116, 100, 105, 115, 116, 114, 105, 99, 116, 95, 49, 49, 50, 77, 32, 118, 97, 108, 117, 101, 32, 105, 115, 32, 97, 53, 53, 52, 55, 53, 98, 49, 32, 112, 114, 105, 99, 101, 95, 49, 48, 57, 55, 65, 32, 105, 115, 32, 101, 109, 112, 116, 121, 32, 115, 101, 108, 108, 101, 114, 112, 108, 97, 99, 101, 99, 110, 116, 95, 57, 49, 53, 76, 32, 104, 97, 115, 32, 118, 97, 108, 117, 101, 32, 115, 101, 108, 108, 101, 114, 112, 108, 97, 99, 101, 115, 99, 110, 116, 95, 50, 49, 54, 76, 32, 104, 97, 115, 32, 118, 97, 108, 117, 101, 32, 115, 117, 109, 111, 117, 116, 115, 116, 97, 110, 100, 116, 111, 116, 97, 108, 95, 51, 53, 52, 54, 56, 52, 55, 65, 32, 105, 115, 32, 101, 109, 112, 116, 121, 32, 115, 117, 109, 111, 117, 116, 115, 116, 97, 110, 100, 116, 111, 116, 97, 108, 101, 115, 116, 95, 52, 52, 57, 51, 50, 49, 53, 65, 32, 105, 115, 32, 101, 109, 112, 116, 121, 32, 116, 111, 116, 97, 108, 100, 101, 98, 116, 95, 57, 65, 32, 104, 97, 115, 32, 118, 97, 108, 117, 101, 32, 116, 111, 116, 97, 108, 115, 101, 116, 116, 108, 101, 100, 95, 56, 54, 51, 65, 32, 104, 97, 115, 32, 118, 97, 108, 117, 101, 32, 116, 111, 116, 105, 110, 115, 116, 97, 108, 108, 97, 115, 116, 49, 109, 95, 52, 53, 50, 53, 49, 56, 56, 65, 32, 105, 115, 32, 101, 109, 112, 116, 121, 32, 116, 119, 111, 98, 111, 100, 102, 105, 108, 108, 105, 110, 103, 95, 54, 48, 56, 76, 32, 118, 97, 108, 117, 101, 32, 105, 115, 32, 66, 79, 32, 116, 121, 112, 101, 115, 117, 105, 116, 101, 95, 56, 54, 52, 76, 32, 105, 115, 32, 101, 109, 112, 116, 121, 32, 118, 97, 108, 105, 100, 102, 114, 111, 109, 95, 49, 48, 54, 57, 68, 32, 105, 115, 32, 101, 109, 112, 116, 121, 32, 97, 115, 115, 105, 103, 110, 109, 101, 110, 116, 100, 97, 116, 101, 95, 50, 51, 56, 68, 32, 105, 115, 32, 101, 109, 112, 116, 121, 32, 97, 115, 115, 105, 103, 110, 109, 101, 110, 116, 100, 97, 116, 101, 95, 52, 53, 50, 55, 50, 51, 53, 68, 32, 105, 115, 32, 101, 109, 112, 116, 121, 32, 97, 115, 115, 105, 103, 110, 109, 101, 110, 116, 100, 97, 116, 101, 95, 52, 57, 53, 53, 54, 49, 54, 68, 32, 105, 115, 32, 101, 109, 112, 116, 121, 32, 98, 105, 114, 116, 104, 100, 97, 116, 101, 95, 53, 55, 52, 68, 32, 105, 115, 32, 101, 109, 112, 116, 121, 32, 99, 111, 110, 116, 114, 97, 99, 116, 115, 115, 117, 109, 95, 53, 48, 56, 53, 55, 49, 54, 76, 32, 105, 115, 32, 101, 109, 112, 116, 121, 32, 100, 97, 116, 101, 111, 102, 98, 105, 114, 116, 104, 95, 51, 51, 55, 68, 32, 105, 115, 32, 101, 109, 112, 116, 121, 32, 100, 97, 116, 101, 111, 102, 98, 105, 114, 116, 104, 95, 51, 52, 50, 68, 32, 105, 115, 32, 101, 109, 112, 116, 121, 32, 100, 97, 121, 115, 49, 50, 48, 95, 49, 50, 51, 76, 32, 105, 115, 32, 101, 109, 112, 116, 121, 32, 100, 97, 121, 115, 49, 56, 48, 95, 50, 53, 54, 76, 32, 105, 115, 32, 101, 109, 112, 116, 121, 32, 100, 97, 121, 115, 51, 48, 95, 49, 54, 53, 76, 32, 105, 115, 32, 101, 109, 112, 116, 121, 32, 100, 97, 121, 115, 51, 54, 48, 95, 53, 49, 50, 76, 32, 105, 115, 32, 101, 109, 112, 116, 121, 32, 100, 97, 121, 115, 57, 48, 95, 51, 49, 48, 76, 32, 105, 115, 32, 101, 109, 112, 116, 121, 32, 100, 101, 115, 99, 114, 105, 112, 116, 105, 111, 110, 95, 53, 48, 56, 53, 55, 49, 52, 77, 32, 105, 115, 32, 101, 109, 112, 116, 121, 32, 101, 100, 117, 99, 97, 116, 105, 111, 110, 95, 49, 49, 48, 51, 77, 32, 105, 115, 32, 101, 109, 112, 116, 121, 32, 101, 100, 117, 99, 97, 116, 105, 111, 110, 95, 56, 56, 77, 32, 105, 115, 32, 101, 109, 112, 116, 121, 32, 102, 105, 114, 115, 116, 113, 117, 97, 114, 116, 101, 114, 95, 49, 48, 51, 76, 32, 105, 115, 32, 101, 109, 112, 116, 121, 32, 102, 111, 114, 51, 121, 101, 97, 114, 115, 95, 49, 50, 56, 76, 32, 105, 115, 32, 101, 109, 112, 116, 121, 32, 102, 111, 114, 51, 121, 101, 97, 114, 115, 95, 53, 48, 52, 76, 32, 105, 115, 32, 101, 109, 112, 116, 121, 32, 102, 111, 114, 51, 121, 101, 97, 114, 115, 95, 53, 56, 52, 76, 32, 105, 115, 32, 101, 109, 112, 116, 121, 32, 102, 111, 114, 109, 111, 110, 116, 104, 95, 49, 49, 56, 76, 32, 105, 115, 32, 101, 109, 112, 116, 121, 32, 102, 111, 114, 109, 111, 110, 116, 104, 95, 50, 48, 54, 76, 32, 105, 115, 32, 101, 109, 112, 116, 121, 32, 102, 111, 114, 109, 111, 110, 116, 104, 95, 53, 51, 53, 76, 32, 105, 115, 32, 101, 109, 112, 116, 121, 32, 102, 111, 114, 113, 117, 97, 114, 116, 101, 114, 95, 49, 48, 49, 55, 76, 32, 105, 115, 32, 101, 109, 112, 116, 121, 32, 102, 111, 114, 113, 117, 97, 114, 116, 101, 114, 95, 52, 54, 50, 76, 32, 105, 115, 32, 101, 109, 112, 116, 121, 32, 102, 111, 114, 113, 117, 97, 114, 116, 101, 114, 95, 54, 51, 52, 76, 32, 105, 115, 32, 101, 109, 112, 116, 121, 32, 102, 111, 114, 116, 111, 100, 97, 121, 95, 49, 48, 57, 50, 76, 32, 105, 115, 32, 101, 109, 112, 116, 121, 32, 102, 111, 114, 119, 101, 101, 107, 95, 49, 48, 55, 55, 76, 32, 105, 115, 32, 101, 109, 112, 116, 121, 32, 102, 111, 114, 119, 101, 101, 107, 95, 53, 50, 56, 76, 32, 105, 115, 32, 101, 109, 112, 116, 121, 32, 102, 111, 114, 119, 101, 101, 107, 95, 54, 48, 49, 76, 32, 105, 115, 32, 101, 109, 112, 116, 121, 32, 102, 111, 114, 121, 101, 97, 114, 95, 54, 49, 56, 76, 32, 105, 115, 32, 101, 109, 112, 116, 121, 32, 102, 111, 114, 121, 101, 97, 114, 95, 56, 49, 56, 76, 32, 105, 115, 32, 101, 109, 112, 116, 121, 32, 102, 111, 114, 121, 101, 97, 114, 95, 56, 53, 48, 76, 32, 105, 115, 32, 101, 109, 112, 116, 121, 32, 102, 111, 117, 114, 116, 104, 113, 117, 97, 114, 116, 101, 114, 95, 52, 52, 48, 76, 32, 105, 115, 32, 101, 109, 112, 116, 121, 32, 109, 97, 114, 105, 116, 97, 108, 115, 116, 95, 51, 56, 53, 77, 32, 105, 115, 32, 101, 109, 112, 116, 121, 32, 109, 97, 114, 105, 116, 97, 108, 115, 116, 95, 56, 57, 51, 77, 32, 105, 115, 32, 101, 109, 112, 116, 121, 32, 110, 117, 109, 98, 101, 114, 111, 102, 113, 117, 101, 114, 105, 101, 115, 95, 51, 55, 51, 76, 32, 105, 115, 32, 101, 109, 112, 116, 121, 32, 112, 109, 116, 97, 118, 101, 114, 97, 103, 101, 95, 51, 65, 32, 105, 115, 32, 101, 109, 112, 116, 121, 32, 112, 109, 116, 97, 118, 101, 114, 97, 103, 101, 95, 52, 53, 50, 55, 50, 50, 55, 65, 32, 105, 115, 32, 101, 109, 112, 116, 121, 32, 112, 109, 116, 97, 118, 101, 114, 97, 103, 101, 95, 52, 57, 53, 53, 54, 49, 53, 65, 32, 105, 115, 32, 101, 109, 112, 116, 121, 32, 112, 109, 116, 99, 111, 117, 110, 116, 95, 52, 53, 50, 55, 50, 50, 57, 76, 32, 105, 115, 32, 101, 109, 112, 116, 121, 32, 112, 109, 116, 99, 111, 117, 110, 116, 95, 52, 57, 53, 53, 54, 49, 55, 76, 32, 105, 115, 32, 101, 109, 112, 116, 121, 32, 112, 109, 116, 99, 111, 117, 110, 116, 95, 54, 57, 51, 76, 32, 105, 115, 32, 101, 109, 112, 116, 121, 32, 112, 109, 116, 115, 99, 111, 117, 110, 116, 95, 52, 50, 51, 76, 32, 105, 115, 32, 101, 109, 112, 116, 121, 32, 112, 109, 116, 115, 115, 117, 109, 95, 52, 53, 65, 32, 105, 115, 32, 101, 109, 112, 116, 121, 32, 114, 101, 113, 117, 101, 115, 116, 116, 121, 112, 101, 95, 52, 53, 50, 53, 49, 57, 50, 76, 32, 105, 115, 32, 101, 109, 112, 116, 121, 32, 114, 101, 115, 112, 111, 110, 115, 101, 100, 97, 116, 101, 95, 49, 48, 49, 50, 68, 32, 105, 115, 32, 101, 109, 112, 116, 121, 32, 114, 101, 115, 112, 111, 110, 115, 101, 100, 97, 116, 101, 95, 52, 53, 50, 55, 50, 51, 51, 68, 32, 105, 115, 32, 101, 109, 112, 116, 121, 32, 114, 101, 115, 112, 111, 110, 115, 101, 100, 97, 116, 101, 95, 52, 57, 49, 55, 54, 49, 51, 68, 32, 105, 115, 32, 101, 109, 112, 116, 121, 32, 114, 105, 115, 107, 97, 115, 115, 101, 115, 109, 101, 110, 116, 95, 51, 48, 50, 84, 32, 105, 115, 32, 101, 109, 112, 116, 121, 32, 114, 105, 115, 107, 97, 115, 115, 101, 115, 109, 101, 110, 116, 95, 57, 52, 48, 84, 32, 105, 115, 32, 101, 109, 112, 116, 121, 32, 115, 101, 99, 111, 110, 100, 113, 117, 97, 114, 116, 101, 114, 95, 55, 54, 54, 76, 32, 105, 115, 32, 101, 109, 112, 116, 121, 32, 116, 104, 105, 114, 100, 113, 117, 97, 114, 116, 101, 114, 95, 49, 48, 56, 50, 76, 32, 105, 115, 32, 101, 109, 112, 116, 121, 32, 87, 69, 69, 75, 95, 78, 85, 77, 32, 104, 97, 115, 32, 118, 97, 108, 117, 101]\n",
      "Length of Tokens 6750\n",
      "=====================\n",
      "\n",
      "Post Merge: \n",
      "[97, 99, 116, 117, 97, 108, 100, 112, 100, 116, 111, 108, 101, 114, 97, 110, 99, 101, 95, 51, 52, 52, 80, 32, 105, 115, 32, 101, 109, 112, 5848, 109, 116, 105, 110, 115, 116, 112, 97, 105, 100, 98, 101, 102, 100, 117, 101, 108, 50, 52, 109, 95, 52, 49, 56, 55, 49, 49, 53, 65, 32, 105, 115, 32, 101, 109, 112, 5848, 110, 110, 117, 105, 116, 121, 95, 55, 56, 48, 65, 32, 104, 97, 115, 32, 118, 97, 108, 117, 101, 32, 97, 110, 110, 117, 105, 116, 121, 110, 101, 120, 116, 109, 111, 110, 116, 104, 95, 53, 55, 65, 32, 104, 97, 115, 32, 118, 97, 108, 117, 101, 32, 97, 112, 112, 108, 105, 99, 97, 116, 105, 111, 110, 99, 110, 116, 95, 51, 54, 49, 76, 32, 104, 97, 115, 32, 118, 97, 108, 117, 101, 32, 97, 112, 112, 108, 105, 99, 97, 116, 105, 111, 110, 115, 51, 48, 100, 95, 54, 53, 56, 76, 32, 104, 97, 115, 32, 118, 97, 108, 117, 101, 32, 97, 112, 112, 108, 105, 99, 97, 116, 105, 111, 110, 115, 99, 110, 116, 95, 49, 48, 56, 54, 76, 32, 104, 97, 115, 32, 118, 97, 108, 117, 101, 32, 97, 112, 112, 108, 105, 99, 97, 116, 105, 111, 110, 115, 99, 110, 116, 95, 52, 54, 52, 76, 32, 104, 97, 115, 32, 118, 97, 108, 117, 101, 32, 97, 112, 112, 108, 105, 99, 97, 116, 105, 111, 110, 115, 99, 110, 116, 95, 54, 50, 57, 76, 32, 104, 97, 115, 32, 118, 97, 108, 117, 101, 32, 97, 112, 112, 108, 105, 99, 97, 116, 105, 111, 110, 115, 99, 110, 116, 95, 56, 54, 55, 76, 32, 104, 97, 115, 32, 118, 97, 108, 117, 101, 32, 97, 118, 103, 100, 98, 100, 100, 112, 100, 108, 97, 115, 116, 50, 52, 109, 95, 51, 54, 53, 56, 57, 51, 50, 80, 32, 105, 115, 32, 101, 109, 112, 5848, 118, 103, 100, 98, 100, 100, 112, 100, 108, 97, 115, 116, 51, 109, 95, 52, 49, 56, 55, 49, 50, 48, 80, 32, 105, 115, 32, 101, 109, 112, 5848, 118, 103, 100, 98, 100, 116, 111, 108, 108, 97, 115, 116, 50, 52, 109, 95, 52, 53, 50, 53, 49, 57, 55, 80, 32, 105, 115, 32, 101, 109, 112, 5848, 118, 103, 100, 112, 100, 116, 111, 108, 99, 108, 111, 115, 117, 114, 101, 50, 52, 95, 51, 54, 53, 56, 57, 51, 56, 80, 32, 105, 115, 32, 101, 109, 112, 5848, 118, 103, 105, 110, 115, 116, 97, 108, 108, 97, 115, 116, 50, 52, 109, 95, 51, 54, 53, 56, 57, 51, 55, 65, 32, 105, 115, 32, 101, 109, 112, 5848, 118, 103, 108, 110, 97, 109, 116, 115, 116, 97, 114, 116, 50, 52, 109, 95, 52, 53, 50, 53, 49, 56, 55, 65, 32, 105, 115, 32, 101, 109, 112, 5848, 118, 103, 109, 97, 120, 100, 112, 100, 108, 97, 115, 116, 57, 109, 95, 51, 55, 49, 54, 57, 52, 51, 80, 32, 105, 115, 32, 101, 109, 112, 5848, 118, 103, 111, 117, 116, 115, 116, 97, 110, 100, 98, 97, 108, 97, 110, 99, 101, 108, 54, 109, 95, 52, 49, 56, 55, 49, 49, 52, 65, 32, 105, 115, 32, 101, 109, 112, 5848, 118, 103, 112, 109, 116, 108, 97, 115, 116, 49, 50, 109, 95, 52, 53, 50, 53, 50, 48, 48, 65, 32, 105, 115, 32, 101, 109, 112, 6370, 97, 110, 107, 97, 99, 99, 116, 121, 112, 101, 95, 55, 49, 48, 76, 32, 105, 115, 32, 101, 109, 112, 1167, 99, 97, 114, 100, 116, 121, 112, 101, 95, 53, 49, 76, 32, 105, 115, 32, 101, 109, 112, 1167, 99, 108, 105, 101, 110, 116, 115, 99, 110, 116, 49, 50, 109, 95, 51, 55, 49, 50, 57, 53, 50, 76, 32, 104, 97, 115, 32, 118, 97, 108, 117, 101, 32, 99, 108, 105, 101, 110, 116, 115, 99, 110, 116, 51, 109, 95, 51, 55, 49, 50, 57, 53, 48, 76, 32, 104, 97, 115, 32, 118, 97, 108, 117, 101, 32, 99, 108, 105, 101, 110, 116, 115, 99, 110, 116, 54, 109, 95, 51, 55, 49, 50, 57, 52, 57, 76, 32, 104, 97, 115, 32, 118, 97, 108, 117, 101, 32, 99, 108, 105, 101, 110, 116, 115, 99, 110, 116, 95, 49, 48, 48, 76, 32, 104, 97, 115, 32, 118, 97, 108, 117, 101, 32, 99, 108, 105, 101, 110, 116, 115, 99, 110, 116, 95, 49, 48, 50, 50, 76, 32, 104, 97, 115, 32, 118, 97, 108, 117, 101, 32, 99, 108, 105, 101, 110, 116, 115, 99, 110, 116, 95, 49, 48, 55, 49, 76, 32, 104, 97, 115, 32, 118, 97, 108, 117, 101, 32, 99, 108, 105, 101, 110, 116, 115, 99, 110, 116, 95, 49, 49, 51, 48, 76, 32, 104, 97, 115, 32, 118, 97, 108, 117, 101, 32, 99, 108, 105, 101, 110, 116, 115, 99, 110, 116, 95, 49, 51, 54, 76, 32, 105, 115, 32, 101, 109, 112, 1167, 99, 108, 105, 101, 110, 116, 115, 99, 110, 116, 95, 49, 53, 55, 76, 32, 104, 97, 115, 32, 118, 97, 108, 117, 101, 32, 99, 108, 105, 101, 110, 116, 115, 99, 110, 116, 95, 50, 53, 55, 76, 32, 104, 97, 115, 32, 118, 97, 108, 117, 101, 32, 99, 108, 105, 101, 110, 116, 115, 99, 110, 116, 95, 51, 48, 52, 76, 32, 104, 97, 115, 32, 118, 97, 108, 117, 101, 32, 99, 108, 105, 101, 110, 116, 115, 99, 110, 116, 95, 51, 54, 48, 76, 32, 104, 97, 115, 32, 118, 97, 108, 117, 101, 32, 99, 108, 105, 101, 110, 116, 115, 99, 110, 116, 95, 52, 57, 51, 76, 32, 104, 97, 115, 32, 118, 97, 108, 117, 101, 32, 99, 108, 105, 101, 110, 116, 115, 99, 110, 116, 95, 53, 51, 51, 76, 32, 104, 97, 115, 32, 118, 97, 108, 117, 101, 32, 99, 108, 105, 101, 110, 116, 115, 99, 110, 116, 95, 56, 56, 55, 76, 32, 104, 97, 115, 32, 118, 97, 108, 117, 101, 32, 99, 108, 105, 101, 110, 116, 115, 99, 110, 116, 95, 57, 52, 54, 76, 32, 104, 97, 115, 32, 118, 97, 108, 117, 101, 32, 99, 110, 116, 105, 110, 99, 112, 97, 121, 99, 111, 110, 116, 57, 109, 95, 51, 55, 49, 54, 57, 52, 52, 76, 32, 105, 115, 32, 101, 109, 112, 1167, 99, 110, 116, 112, 109, 116, 115, 50, 52, 95, 51, 54, 53, 56, 57, 51, 51, 76, 32, 105, 115, 32, 101, 109, 112, 1167, 99, 111, 109, 109, 110, 111, 105, 110, 99, 108, 97, 115, 116, 54, 109, 95, 51, 53, 52, 54, 56, 52, 53, 76, 32, 104, 97, 115, 32, 118, 97, 108, 117, 101, 32, 99, 114, 101, 100, 97, 109, 111, 117, 110, 116, 95, 55, 55, 48, 65, 32, 104, 97, 115, 32, 118, 97, 108, 117, 101, 32, 99, 114, 101, 100, 116, 121, 112, 101, 95, 51, 50, 50, 15186, 76, 32, 99, 117, 114, 114, 100, 101, 98, 116, 95, 50, 50, 65, 32, 104, 97, 115, 32, 118, 97, 108, 117, 101, 32, 99, 117, 114, 114, 100, 101, 98, 116, 99, 114, 101, 100, 116, 121, 112, 101, 114, 97, 110, 103, 101, 95, 56, 50, 56, 65, 32, 104, 97, 115, 32, 118, 97, 108, 117, 101, 32, 100, 97, 116, 101, 102, 105, 114, 115, 116, 111, 102, 102, 101, 114, 95, 49, 49, 52, 52, 68, 32, 105, 115, 32, 101, 109, 112, 1167, 100, 97, 116, 101, 108, 97, 115, 116, 105, 110, 115, 116, 97, 108, 52, 48, 100, 112, 100, 95, 50, 52, 55, 68, 32, 105, 115, 32, 101, 109, 112, 1167, 100, 97, 116, 101, 108, 97, 115, 116, 117, 110, 112, 97, 105, 100, 95, 51, 53, 52, 54, 56, 53, 52, 68, 32, 105, 115, 32, 101, 109, 112, 1167, 100, 97, 121, 115, 111, 118, 101, 114, 100, 117, 101, 116, 111, 108, 101, 114, 97, 110, 99, 101, 100, 100, 95, 51, 57, 55, 54, 57, 54, 49, 76, 32, 105, 115, 32, 101, 109, 112, 1167, 100, 101, 102, 101, 114, 114, 101, 100, 109, 110, 116, 104, 115, 110, 117, 109, 95, 49, 54, 54, 76, 32, 104, 97, 115, 32, 118, 97, 108, 117, 101, 32, 100, 105, 115, 98, 117, 114, 115, 101, 100, 99, 114, 101, 100, 97, 109, 111, 117, 110, 116, 95, 49, 49, 49, 51, 65, 32, 104, 97, 115, 32, 118, 97, 108, 117, 101, 18778, 65, 32, 100, 111, 119, 110, 112, 109, 116, 95, 49, 49, 54, 65, 32, 104, 97, 115, 32, 118, 97, 108, 117, 101, 32, 100, 116, 108, 97, 115, 116, 112, 109, 116, 97, 108, 108, 115, 116, 101, 115, 95, 52, 52, 57, 57, 50, 48, 54, 68, 32, 105, 115, 32, 101, 109, 112, 1167, 101, 105, 114, 95, 50, 55, 48, 76, 32, 104, 97, 115, 32, 118, 97, 108, 117, 101, 32, 101, 113, 117, 97, 108, 105, 116, 121, 100, 97, 116, 97, 97, 103, 114, 101, 101, 109, 101, 110, 116, 95, 56, 57, 49, 76, 32, 105, 115, 32, 101, 109, 112, 1167, 101, 113, 117, 97, 108, 105, 116, 121, 101, 109, 112, 102, 114, 111, 109, 95, 54, 50, 76, 32, 105, 115, 32, 101, 109, 112, 6969, 105, 114, 115, 116, 99, 108, 120, 99, 97, 109, 112, 97, 105, 103, 110, 95, 49, 49, 50, 53, 68, 32, 105, 115, 32, 101, 109, 112, 6969, 105, 114, 115, 116, 100, 97, 116, 101, 100, 117, 101, 95, 52, 56, 57, 68, 32, 105, 115, 32, 101, 109, 112, 1167, 104, 111, 109, 101, 112, 104, 110, 99, 110, 116, 95, 54, 50, 56, 76, 32, 104, 97, 115, 32, 118, 97, 108, 117, 101, 32, 105, 110, 105, 116, 116, 114, 97, 110, 115, 97, 99, 116, 105, 111, 110, 97, 109, 111, 117, 110, 116, 95, 54, 53, 48, 65, 32, 105, 115, 32, 101, 109, 112, 1167, 105, 110, 105, 116, 116, 114, 97, 110, 115, 97, 99, 116, 105, 111, 110, 99, 111, 100, 101, 95, 49, 56, 54, 15186, 258, 32, 105, 110, 116, 101, 114, 101, 115, 116, 114, 97, 116, 101, 95, 51, 49, 49, 76, 32, 104, 97, 115, 32, 118, 97, 108, 117, 101, 32, 105, 110, 116, 101, 114, 101, 115, 116, 114, 97, 116, 101, 103, 114, 97, 99, 101, 95, 51, 52, 76, 32, 105, 115, 32, 101, 109, 112, 1167, 105, 115, 98, 105, 100, 112, 114, 111, 100, 117, 99, 116, 95, 49, 48, 57, 53, 76, 32, 105, 115, 32, 70, 97, 108, 115, 101, 32, 105, 115, 98, 105, 100, 112, 114, 111, 100, 117, 99, 116, 114, 101, 113, 117, 101, 115, 116, 95, 50, 57, 50, 76, 32, 105, 115, 32, 101, 109, 112, 1167, 105, 115, 100, 101, 98, 105, 116, 99, 97, 114, 100, 95, 55, 50, 57, 76, 32, 105, 115, 32, 101, 109, 112, 2452, 97, 115, 116, 97, 99, 116, 105, 118, 97, 116, 101, 100, 100, 97, 116, 101, 95, 56, 48, 49, 68, 32, 105, 115, 32, 101, 109, 112, 2452, 97, 115, 116, 97, 112, 112, 108, 105, 99, 97, 116, 105, 111, 110, 100, 97, 116, 101, 95, 56, 55, 55, 68, 32, 105, 115, 32, 101, 109, 112, 2452, 97, 115, 116, 97, 112, 112, 114, 99, 111, 109, 109, 111, 100, 105, 116, 121, 99, 97, 116, 95, 49, 48, 52, 49, 77, 32, 118, 97, 108, 117, 101, 32, 105, 115, 32, 97, 53, 53, 52, 55, 53, 98, 619, 108, 97, 115, 116, 97, 112, 112, 114, 99, 111, 109, 109, 111, 100, 105, 116, 121, 116, 121, 112, 101, 99, 95, 53, 50, 53, 49, 55, 54, 54, 77, 32, 118, 97, 108, 117, 101, 32, 105, 115, 32, 97, 53, 53, 52, 55, 53, 98, 619, 108, 97, 115, 116, 97, 112, 112, 114, 99, 114, 101, 100, 97, 109, 111, 117, 110, 116, 95, 55, 56, 49, 65, 32, 105, 115, 32, 101, 109, 112, 2452, 97, 115, 116, 97, 112, 112, 114, 100, 97, 116, 101, 95, 54, 52, 48, 68, 32, 105, 115, 32, 101, 109, 112, 2452, 97, 115, 116, 99, 97, 110, 99, 101, 108, 114, 101, 97, 115, 111, 110, 95, 53, 54, 49, 77, 32, 118, 97, 108, 117, 101, 32, 105, 115, 32, 97, 53, 53, 52, 55, 53, 98, 619, 108, 97, 115, 116, 100, 101, 108, 105, 110, 113, 100, 97, 116, 101, 95, 50, 50, 52, 68, 32, 105, 115, 32, 101, 109, 112, 2452, 97, 115, 116, 100, 101, 112, 101, 110, 100, 101, 110, 116, 115, 110, 117, 109, 95, 52, 52, 56, 76, 32, 105, 115, 32, 101, 109, 112, 2452, 97, 115, 116, 111, 116, 104, 101, 114, 105, 110, 99, 95, 57, 48, 50, 65, 32, 105, 115, 32, 101, 109, 112, 2452, 97, 115, 116, 111, 116, 104, 101, 114, 108, 110, 115, 101, 120, 112, 101, 110, 115, 101, 95, 54, 51, 49, 65, 32, 105, 115, 32, 101, 109, 112, 2452, 97, 115, 116, 114, 101, 106, 101, 99, 116, 99, 111, 109, 109, 111, 100, 105, 116, 121, 99, 97, 116, 95, 49, 54, 49, 77, 32, 118, 97, 108, 117, 101, 32, 105, 115, 32, 97, 53, 53, 52, 55, 53, 98, 619, 108, 97, 115, 116, 114, 101, 106, 101, 99, 116, 99, 111, 109, 109, 111, 100, 116, 121, 112, 101, 99, 95, 53, 50, 53, 49, 55, 54, 57, 77, 32, 118, 97, 108, 117, 101, 32, 105, 115, 32, 97, 53, 53, 52, 55, 53, 98, 619, 108, 97, 115, 116, 114, 101, 106, 101, 99, 116, 99, 114, 101, 100, 97, 109, 111, 117, 110, 116, 95, 50, 50, 50, 65, 32, 105, 115, 32, 101, 109, 112, 2452, 97, 115, 116, 114, 101, 106, 101, 99, 116, 100, 97, 116, 101, 95, 53, 48, 68, 32, 105, 115, 32, 101, 109, 112, 2452, 97, 115, 116, 114, 101, 106, 101, 99, 116, 114, 101, 97, 115, 111, 110, 95, 55, 53, 57, 77, 32, 118, 97, 108, 117, 101, 32, 105, 115, 32, 97, 53, 53, 52, 55, 53, 98, 619, 108, 97, 115, 116, 114, 101, 106, 101, 99, 116, 114, 101, 97, 115, 111, 110, 99, 108, 105, 101, 110, 116, 95, 52, 49, 52, 53, 48, 52, 48, 77, 32, 118, 97, 108, 117, 101, 32, 105, 115, 32, 97, 53, 53, 52, 55, 53, 98, 619, 108, 97, 115, 116, 114, 101, 112, 97, 121, 105, 110, 103, 100, 97, 116, 101, 95, 54, 57, 54, 68, 32, 105, 115, 32, 101, 109, 112, 2452, 97, 115, 116, 115, 116, 95, 55, 51, 54, 76, 32, 105, 115, 32, 101, 109, 112, 7187, 97, 105, 110, 105, 110, 99, 95, 50, 49, 53, 65, 32, 105, 115, 32, 101, 109, 112, 7187, 97, 115, 116, 101, 114, 99, 111, 110, 116, 114, 101, 108, 101, 99, 116, 114, 111, 110, 105, 99, 95, 53, 49, 57, 76, 32, 104, 97, 115, 32, 118, 97, 108, 117, 101, 32, 109, 97, 115, 116, 101, 114, 99, 111, 110, 116, 114, 101, 120, 105, 115, 116, 95, 49, 48, 57, 76, 32, 104, 97, 115, 32, 118, 97, 108, 117, 101, 32, 109, 97, 120, 97, 110, 110, 117, 105, 116, 121, 95, 49, 53, 57, 65, 32, 104, 97, 115, 32, 118, 97, 108, 117, 101, 32, 109, 97, 120, 97, 110, 110, 117, 105, 116, 121, 95, 52, 48, 55, 53, 48, 48, 57, 65, 32, 105, 115, 32, 101, 109, 112, 7187, 97, 120, 100, 98, 100, 100, 112, 100, 108, 97, 115, 116, 49, 109, 95, 51, 54, 53, 56, 57, 51, 57, 80, 32, 105, 115, 32, 101, 109, 112, 7187, 97, 120, 100, 98, 100, 100, 112, 100, 116, 111, 108, 108, 97, 115, 116, 49, 50, 109, 95, 51, 54, 53, 56, 57, 52, 48, 80, 32, 105, 115, 32, 101, 109, 112, 7187, 97, 120, 100, 98, 100, 100, 112, 100, 116, 111, 108, 108, 97, 115, 116, 54, 109, 95, 52, 49, 56, 55, 49, 49, 57, 80, 32, 105, 115, 32, 101, 109, 112, 7187, 97, 120, 100, 101, 98, 116, 52, 95, 57, 55, 50, 65, 32, 104, 97, 115, 32, 118, 97, 108, 117, 101, 32, 109, 97, 120, 100, 112, 100, 102, 114, 111, 109, 54, 109, 116, 111, 51, 54, 109, 95, 51, 53, 52, 54, 56, 53, 51, 80, 32, 104, 97, 115, 32, 118, 97, 108, 117, 101, 32, 109, 97, 120, 100, 112, 100, 105, 110, 115, 116, 108, 100, 97, 116, 101, 95, 51, 53, 52, 54, 56, 53, 53, 68, 32, 105, 115, 32, 101, 109, 112, 7187, 97, 120, 100, 112, 100, 105, 110, 115, 116, 108, 110, 117, 109, 95, 51, 53, 52, 54, 56, 52, 54, 80, 32, 105, 115, 32, 101, 109, 112, 7187, 97, 120, 100, 112, 100, 108, 97, 115, 116, 49, 50, 109, 95, 55, 50, 55, 80, 32, 104, 97, 115, 32, 118, 97, 108, 117, 101, 32, 109, 97, 120, 100, 112, 100, 108, 97, 115, 116, 50, 52, 109, 95, 49, 52, 51, 80, 32, 104, 97, 115, 32, 118, 97, 108, 117, 101, 32, 109, 97, 120, 100, 112, 100, 108, 97, 115, 116, 51, 109, 95, 51, 57, 50, 80, 32, 104, 97, 115, 32, 118, 97, 108, 117, 101, 32, 109, 97, 120, 100, 112, 100, 108, 97, 115, 116, 54, 109, 95, 52, 55, 52, 80, 32, 104, 97, 115, 32, 118, 97, 108, 117, 101, 32, 109, 97, 120, 100, 112, 100, 108, 97, 115, 116, 57, 109, 95, 49, 48, 53, 57, 80, 32, 104, 97, 115, 32, 118, 97, 108, 117, 101, 32, 109, 97, 120, 100, 112, 100, 116, 111, 108, 101, 114, 97, 110, 99, 101, 95, 51, 55, 52, 80, 32, 104, 97, 115, 32, 118, 97, 108, 117, 101, 32, 109, 97, 120, 105, 110, 115, 116, 97, 108, 108, 97, 115, 116, 50, 52, 109, 95, 51, 54, 53, 56, 57, 50, 56, 65, 32, 105, 115, 32, 101, 109, 112, 7187, 97, 120, 108, 110, 97, 109, 116, 115, 116, 97, 114, 116, 54, 109, 95, 52, 53, 50, 53, 49, 57, 57, 65, 32, 105, 115, 32, 101, 109, 112, 7187, 97, 120, 111, 117, 116, 115, 116, 97, 110, 100, 98, 97, 108, 97, 110, 99, 101, 108, 49, 50, 109, 95, 52, 49, 56, 55, 49, 49, 51, 65, 32, 105, 115, 32, 101, 109, 112, 7187, 97, 120, 112, 109, 116, 108, 97, 115, 116, 51, 109, 95, 52, 53, 50, 53, 49, 57, 48, 65, 32, 105, 115, 32, 101, 109, 112, 7187, 105, 110, 100, 98, 100, 100, 112, 100, 108, 97, 115, 116, 50, 52, 109, 95, 51, 54, 53, 56, 57, 51, 53, 80, 32, 105, 115, 32, 101, 109, 112, 7187, 105, 110, 100, 98, 100, 116, 111, 108, 108, 97, 115, 116, 50, 52, 109, 95, 52, 53, 50, 53, 49, 57, 49, 80, 32, 105, 115, 32, 101, 109, 112, 7187, 111, 98, 105, 108, 101, 112, 104, 110, 99, 110, 116, 95, 53, 57, 51, 76, 32, 104, 97, 115, 32, 118, 97, 108, 117, 101, 32, 109, 111, 110, 116, 104, 115, 97, 110, 110, 117, 105, 116, 121, 95, 56, 52, 53, 76, 32, 105, 115, 32, 101, 109, 112, 1167, 110, 117, 109, 97, 99, 116, 105, 118, 101, 99, 114, 101, 100, 115, 95, 54, 50, 50, 76, 32, 104, 97, 115, 32, 118, 97, 108, 117, 101, 32, 110, 117, 109, 97, 99, 116, 105, 118, 101, 99, 114, 101, 100, 115, 99, 104, 97, 110, 110, 101, 108, 95, 52, 49, 52, 76, 32, 104, 97, 115, 32, 118, 97, 108, 117, 101, 32, 110, 117, 109, 97, 99, 116, 105, 118, 101, 114, 101, 108, 99, 111, 110, 116, 114, 95, 55, 53, 48, 76, 32, 104, 97, 115, 32, 118, 97, 108, 117, 101, 32, 110, 117, 109, 99, 111, 110, 116, 114, 115, 51, 109, 111, 110, 116, 104, 115, 95, 52, 55, 57, 76, 32, 104, 97, 115, 32, 118, 97, 108, 117, 101, 32, 110, 117, 109, 105, 110, 99, 111, 109, 105, 110, 103, 112, 109, 116, 115, 95, 51, 53, 52, 54, 56, 52, 56, 76, 32, 105, 115, 32, 101, 109, 112, 1167, 110, 117, 109, 105, 110, 115, 116, 108, 97, 108, 108, 112, 97, 105, 100, 101, 97, 114, 108, 121, 51, 100, 95, 56, 49, 55, 76, 32, 105, 115, 32, 101, 109, 112, 1167, 110, 117, 109, 105, 110, 115, 116, 108, 115, 95, 54, 53, 55, 76, 32, 104, 97, 115, 32, 118, 97, 108, 117, 101, 32, 110, 117, 109, 105, 110, 115, 116, 108, 115, 97, 108, 108, 112, 97, 105, 100, 95, 57, 51, 52, 76, 32, 105, 115, 32, 101, 109, 112, 1167, 110, 117, 109, 105, 110, 115, 116, 108, 115, 119, 105, 116, 104, 100, 112, 100, 49, 48, 95, 55, 50, 56, 76, 32, 105, 115, 32, 101, 109, 112, 1167, 110, 117, 109, 105, 110, 115, 116, 108, 115, 119, 105, 116, 104, 100, 112, 100, 53, 95, 52, 49, 56, 55, 49, 49, 54, 76, 32, 105, 115, 32, 101, 109, 112, 1167, 110, 117, 109, 105, 110, 115, 116, 108, 115, 119, 105, 116, 104, 111, 117, 116, 100, 112, 100, 95, 53, 54, 50, 76, 32, 105, 115, 32, 101, 109, 112, 1167, 110, 117, 109, 105, 110, 115, 116, 109, 97, 116, 112, 97, 105, 100, 116, 101, 97, 114, 108, 121, 50, 100, 95, 52, 52, 57, 57, 50, 48, 52, 76, 32, 105, 115, 32, 101, 109, 112, 1167, 110, 117, 109, 105, 110, 115, 116, 112, 97, 105, 100, 95, 52, 52, 57, 57, 50, 48, 56, 76, 32, 105, 115, 32, 101, 109, 112, 1167, 110, 117, 109, 105, 110, 115, 116, 112, 97, 105, 100, 101, 97, 114, 108, 121, 51, 100, 95, 51, 53, 52, 54, 56, 53, 48, 76, 32, 105, 115, 32, 101, 109, 112, 1167, 110, 117, 109, 105, 110, 115, 116, 112, 97, 105, 100, 101, 97, 114, 108, 121, 51, 100, 101, 115, 116, 95, 52, 52, 57, 51, 50, 49, 54, 76, 32, 105, 115, 32, 101, 109, 112, 1167, 110, 117, 109, 105, 110, 115, 116, 112, 97, 105, 100, 101, 97, 114, 108, 121, 53, 100, 95, 49, 48, 56, 55, 76, 32, 105, 115, 32, 101, 109, 112, 1167, 110, 117, 109, 105, 110, 115, 116, 112, 97, 105, 100, 101, 97, 114, 108, 121, 53, 100, 101, 115, 116, 95, 52, 52, 57, 51, 50, 49, 49, 76, 32, 105, 115, 32, 101, 109, 112, 1167, 110, 117, 109, 105, 110, 115, 116, 112, 97, 105, 100, 101, 97, 114, 108, 121, 53, 100, 111, 98, 100, 95, 52, 52, 57, 57, 50, 48, 53, 76, 32, 105, 115, 32, 101, 109, 112, 1167, 110, 117, 109, 105, 110, 115, 116, 112, 97, 105, 100, 101, 97, 114, 108, 121, 95, 51, 51, 56, 76, 32, 105, 115, 32, 101, 109, 112, 1167, 110, 117, 109, 105, 110, 115, 116, 112, 97, 105, 100, 101, 97, 114, 108, 121, 101, 115, 116, 95, 52, 52, 57, 51, 50, 49, 52, 76, 32, 105, 115, 32, 101, 109, 112, 1167, 110, 117, 109, 105, 110, 115, 116, 112, 97, 105, 100, 108, 97, 115, 116, 99, 111, 110, 116, 114, 95, 52, 51, 50, 53, 48, 56, 48, 76, 32, 105, 115, 32, 101, 109, 112, 1167, 110, 117, 109, 105, 110, 115, 116, 112, 97, 105, 100, 108, 97, 116, 101, 49, 100, 95, 51, 53, 52, 54, 56, 53, 50, 76, 32, 105, 115, 32, 101, 109, 112, 1167, 110, 117, 109, 105, 110, 115, 116, 114, 101, 103, 117, 108, 97, 114, 112, 97, 105, 100, 95, 57, 55, 51, 76, 32, 105, 115, 32, 101, 109, 112, 116, 121, 110, 117, 109, 105, 110, 115, 116, 114, 101, 103, 117, 108, 97, 114, 112, 97, 105, 100, 101, 115, 116, 95, 52, 52, 57, 51, 50, 49, 48, 76, 32, 105, 115, 32, 101, 109, 112, 1167, 110, 117, 109, 105, 110, 115, 116, 116, 111, 112, 97, 121, 103, 114, 95, 55, 54, 57, 76, 32, 105, 115, 32, 101, 109, 112, 1167, 110, 117, 109, 105, 110, 115, 116, 116, 111, 112, 97, 121, 103, 114, 101, 115, 116, 95, 52, 52, 57, 51, 50, 49, 51, 76, 32, 105, 115, 32, 101, 109, 112, 1167, 110, 117, 109, 105, 110, 115, 116, 117, 110, 112, 97, 105, 100, 109, 97, 120, 95, 51, 53, 52, 54, 56, 53, 49, 76, 32, 105, 115, 32, 101, 109, 112, 1167, 110, 117, 109, 105, 110, 115, 116, 117, 110, 112, 97, 105, 100, 109, 97, 120, 101, 115, 116, 95, 52, 52, 57, 51, 50, 49, 50, 76, 32, 105, 115, 32, 101, 109, 112, 1167, 110, 117, 109, 110, 111, 116, 97, 99, 116, 105, 118, 97, 116, 101, 100, 95, 49, 49, 52, 51, 76, 32, 104, 97, 115, 32, 118, 97, 108, 117, 101, 32, 110, 117, 109, 112, 109, 116, 99, 104, 97, 110, 110, 101, 108, 100, 100, 95, 51, 49, 56, 76, 32, 104, 97, 115, 32, 118, 97, 108, 117, 101, 32, 110, 117, 109, 114, 101, 106, 101, 99, 116, 115, 57, 109, 95, 56, 53, 57, 76, 32, 104, 97, 115, 32, 118, 97, 108, 117, 101, 32, 111, 112, 101, 110, 99, 114, 101, 100, 95, 54, 52, 55, 76, 32, 105, 115, 32, 101, 109, 112, 1167, 112, 97, 121, 116, 121, 112, 101, 49, 115, 116, 95, 57, 50, 53, 76, 32, 118, 97, 108, 117, 101, 32, 105, 115, 32, 79, 84, 72, 69, 653, 112, 97, 121, 116, 121, 112, 101, 95, 55, 56, 51, 76, 32, 118, 97, 108, 117, 101, 32, 105, 115, 32, 79, 84, 72, 69, 653, 112, 97, 121, 118, 97, 99, 97, 116, 105, 111, 110, 112, 111, 115, 116, 112, 111, 110, 101, 95, 52, 49, 56, 55, 49, 49, 56, 68, 32, 105, 115, 32, 101, 109, 112, 1167, 112, 99, 116, 105, 110, 115, 116, 108, 115, 97, 108, 108, 112, 97, 105, 100, 101, 97, 114, 108, 51, 100, 95, 52, 50, 55, 76, 32, 105, 115, 32, 101, 109, 112, 1167, 112, 99, 116, 105, 110, 115, 116, 108, 115, 97, 108, 108, 112, 97, 105, 100, 108, 97, 116, 49, 48, 100, 95, 56, 51, 57, 76, 32, 105, 115, 32, 101, 109, 112, 1167, 112, 99, 116, 105, 110, 115, 116, 108, 115, 97, 108, 108, 112, 97, 105, 100, 108, 97, 116, 101, 49, 100, 95, 51, 53, 52, 54, 56, 53, 54, 76, 32, 105, 115, 32, 101, 109, 112, 1167, 112, 99, 116, 105, 110, 115, 116, 108, 115, 97, 108, 108, 112, 97, 105, 100, 108, 97, 116, 101, 52, 100, 95, 51, 53, 52, 54, 56, 52, 57, 76, 32, 105, 115, 32, 101, 109, 112, 1167, 112, 99, 116, 105, 110, 115, 116, 108, 115, 97, 108, 108, 112, 97, 105, 100, 108, 97, 116, 101, 54, 100, 95, 51, 53, 52, 54, 56, 52, 52, 76, 32, 105, 115, 32, 101, 109, 112, 1167, 112, 109, 116, 110, 117, 109, 95, 50, 53, 52, 76, 32, 104, 97, 115, 32, 118, 97, 108, 117, 101, 32, 112, 111, 115, 102, 112, 100, 49, 48, 108, 97, 115, 116, 109, 111, 110, 116, 104, 95, 51, 51, 51, 80, 32, 104, 97, 115, 32, 118, 97, 108, 117, 101, 32, 112, 111, 115, 102, 112, 100, 51, 48, 108, 97, 115, 116, 109, 111, 110, 116, 104, 95, 51, 57, 55, 54, 57, 54, 48, 80, 32, 104, 97, 115, 32, 118, 97, 108, 117, 101, 32, 112, 111, 115, 102, 115, 116, 113, 112, 100, 51, 48, 108, 97, 115, 116, 109, 111, 110, 116, 104, 95, 51, 57, 55, 54, 57, 54, 50, 80, 32, 105, 115, 32, 101, 109, 112, 1167, 112, 114, 101, 118, 105, 111, 117, 115, 99, 111, 110, 116, 100, 105, 115, 116, 114, 105, 99, 116, 95, 49, 49, 50, 77, 32, 118, 97, 108, 117, 101, 32, 105, 115, 32, 97, 53, 53, 52, 55, 53, 98, 619, 112, 114, 105, 99, 101, 95, 49, 48, 57, 55, 65, 32, 105, 115, 32, 101, 109, 112, 2695, 101, 108, 108, 101, 114, 112, 108, 97, 99, 101, 99, 110, 116, 95, 57, 49, 53, 76, 32, 104, 97, 115, 32, 118, 97, 108, 117, 101, 32, 115, 101, 108, 108, 101, 114, 112, 108, 97, 99, 101, 115, 99, 110, 116, 95, 50, 49, 54, 76, 32, 104, 97, 115, 32, 118, 97, 108, 117, 101, 32, 115, 117, 109, 111, 117, 116, 115, 116, 97, 110, 100, 116, 111, 116, 97, 108, 95, 51, 53, 52, 54, 56, 52, 55, 65, 32, 105, 115, 32, 101, 109, 112, 2695, 117, 109, 111, 117, 116, 115, 116, 97, 110, 100, 116, 111, 116, 97, 108, 101, 115, 116, 95, 52, 52, 57, 51, 50, 49, 53, 65, 32, 105, 115, 32, 101, 109, 112, 6961, 111, 116, 97, 108, 100, 101, 98, 116, 95, 57, 65, 32, 104, 97, 115, 32, 118, 97, 108, 117, 101, 32, 116, 111, 116, 97, 108, 115, 101, 116, 116, 108, 101, 100, 95, 56, 54, 51, 65, 32, 104, 97, 115, 32, 118, 97, 108, 117, 101, 32, 116, 111, 116, 105, 110, 115, 116, 97, 108, 108, 97, 115, 116, 49, 109, 95, 52, 53, 50, 53, 49, 56, 56, 65, 32, 105, 115, 32, 101, 109, 112, 6961, 18131, 648, 116, 121, 112, 101, 115, 117, 105, 116, 101, 95, 56, 54, 52, 76, 32, 105, 115, 32, 101, 109, 112, 1167, 118, 97, 108, 105, 100, 102, 114, 111, 109, 95, 49, 48, 54, 57, 68, 32, 105, 115, 32, 101, 109, 112, 5848, 115, 115, 105, 103, 110, 109, 101, 110, 116, 100, 97, 116, 101, 95, 50, 51, 56, 68, 32, 105, 115, 32, 101, 109, 112, 5848, 115, 115, 105, 103, 110, 109, 101, 110, 116, 100, 97, 116, 101, 95, 52, 53, 50, 55, 50, 51, 53, 68, 32, 105, 115, 32, 101, 109, 112, 5848, 115, 115, 105, 103, 110, 109, 101, 110, 116, 100, 97, 116, 101, 95, 52, 57, 53, 53, 54, 49, 54, 68, 32, 105, 115, 32, 101, 109, 112, 6370, 105, 114, 116, 104, 100, 97, 116, 101, 95, 53, 55, 52, 68, 32, 105, 115, 32, 101, 109, 112, 1167, 99, 111, 110, 116, 114, 97, 99, 116, 115, 115, 117, 109, 95, 53, 48, 56, 53, 55, 49, 54, 76, 32, 105, 115, 32, 101, 109, 112, 1167, 100, 97, 116, 101, 111, 102, 98, 105, 114, 116, 104, 95, 51, 51, 55, 68, 32, 105, 115, 32, 101, 109, 112, 1167, 100, 97, 116, 101, 111, 102, 98, 105, 114, 116, 104, 95, 51, 52, 50, 68, 32, 105, 115, 32, 101, 109, 112, 1167, 100, 97, 121, 115, 49, 50, 48, 95, 49, 50, 51, 76, 32, 105, 115, 32, 101, 109, 112, 1167, 100, 97, 121, 115, 49, 56, 48, 95, 50, 53, 54, 76, 32, 105, 115, 32, 101, 109, 112, 1167, 100, 97, 121, 115, 51, 48, 95, 49, 54, 53, 76, 32, 105, 115, 32, 101, 109, 112, 1167, 100, 97, 121, 115, 51, 54, 48, 95, 53, 49, 50, 76, 32, 105, 115, 32, 101, 109, 112, 1167, 100, 97, 121, 115, 57, 48, 95, 51, 49, 48, 76, 32, 105, 115, 32, 101, 109, 112, 1167, 100, 101, 115, 99, 114, 105, 112, 116, 105, 111, 110, 95, 53, 48, 56, 53, 55, 49, 52, 77, 32, 105, 115, 32, 101, 109, 112, 1167, 101, 100, 117, 99, 97, 116, 105, 111, 110, 95, 49, 49, 48, 51, 77, 32, 105, 115, 32, 101, 109, 112, 1167, 101, 100, 117, 99, 97, 116, 105, 111, 110, 95, 56, 56, 77, 32, 105, 115, 32, 101, 109, 112, 6969, 105, 114, 115, 116, 113, 117, 97, 114, 116, 101, 114, 95, 49, 48, 51, 76, 32, 105, 115, 32, 101, 109, 112, 6969, 111, 114, 51, 121, 101, 97, 114, 115, 95, 49, 50, 56, 76, 32, 105, 115, 32, 101, 109, 112, 6969, 111, 114, 51, 121, 101, 97, 114, 115, 95, 53, 48, 52, 76, 32, 105, 115, 32, 101, 109, 112, 6969, 111, 114, 51, 121, 101, 97, 114, 115, 95, 53, 56, 52, 76, 32, 105, 115, 32, 101, 109, 112, 6969, 111, 114, 109, 111, 110, 116, 104, 95, 49, 49, 56, 76, 32, 105, 115, 32, 101, 109, 112, 6969, 111, 114, 109, 111, 110, 116, 104, 95, 50, 48, 54, 76, 32, 105, 115, 32, 101, 109, 112, 6969, 111, 114, 109, 111, 110, 116, 104, 95, 53, 51, 53, 76, 32, 105, 115, 32, 101, 109, 112, 6969, 111, 114, 113, 117, 97, 114, 116, 101, 114, 95, 49, 48, 49, 55, 76, 32, 105, 115, 32, 101, 109, 112, 6969, 111, 114, 113, 117, 97, 114, 116, 101, 114, 95, 52, 54, 50, 76, 32, 105, 115, 32, 101, 109, 112, 6969, 111, 114, 113, 117, 97, 114, 116, 101, 114, 95, 54, 51, 52, 76, 32, 105, 115, 32, 101, 109, 112, 6969, 111, 114, 116, 111, 100, 97, 121, 95, 49, 48, 57, 50, 76, 32, 105, 115, 32, 101, 109, 112, 6969, 111, 114, 119, 101, 101, 107, 95, 49, 48, 55, 55, 76, 32, 105, 115, 32, 101, 109, 112, 6969, 111, 114, 119, 101, 101, 107, 95, 53, 50, 56, 76, 32, 105, 115, 32, 101, 109, 112, 6969, 111, 114, 119, 101, 101, 107, 95, 54, 48, 49, 76, 32, 105, 115, 32, 101, 109, 112, 6969, 111, 114, 121, 101, 97, 114, 95, 54, 49, 56, 76, 32, 105, 115, 32, 101, 109, 112, 6969, 111, 114, 121, 101, 97, 114, 95, 56, 49, 56, 76, 32, 105, 115, 32, 101, 109, 112, 6969, 111, 114, 121, 101, 97, 114, 95, 56, 53, 48, 76, 32, 105, 115, 32, 101, 109, 112, 6969, 111, 117, 114, 116, 104, 113, 117, 97, 114, 116, 101, 114, 95, 52, 52, 48, 76, 32, 105, 115, 32, 101, 109, 112, 7187, 97, 114, 105, 116, 97, 108, 115, 116, 95, 51, 56, 53, 77, 32, 105, 115, 32, 101, 109, 112, 7187, 97, 114, 105, 116, 97, 108, 115, 116, 95, 56, 57, 51, 77, 32, 105, 115, 32, 101, 109, 112, 1167, 110, 117, 109, 98, 101, 114, 111, 102, 113, 117, 101, 114, 105, 101, 115, 95, 51, 55, 51, 76, 32, 105, 115, 32, 101, 109, 112, 1167, 112, 109, 116, 97, 118, 101, 114, 97, 103, 101, 95, 51, 65, 32, 105, 115, 32, 101, 109, 112, 1167, 112, 109, 116, 97, 118, 101, 114, 97, 103, 101, 95, 52, 53, 50, 55, 50, 50, 55, 65, 32, 105, 115, 32, 101, 109, 112, 1167, 112, 109, 116, 97, 118, 101, 114, 97, 103, 101, 95, 52, 57, 53, 53, 54, 49, 53, 65, 32, 105, 115, 32, 101, 109, 112, 1167, 112, 109, 116, 99, 111, 117, 110, 116, 95, 52, 53, 50, 55, 50, 50, 57, 76, 32, 105, 115, 32, 101, 109, 112, 1167, 112, 109, 116, 99, 111, 117, 110, 116, 95, 52, 57, 53, 53, 54, 49, 55, 76, 32, 105, 115, 32, 101, 109, 112, 1167, 112, 109, 116, 99, 111, 117, 110, 116, 95, 54, 57, 51, 76, 32, 105, 115, 32, 101, 109, 112, 1167, 112, 109, 116, 115, 99, 111, 117, 110, 116, 95, 52, 50, 51, 76, 32, 105, 115, 32, 101, 109, 112, 1167, 112, 109, 116, 115, 115, 117, 109, 95, 52, 53, 65, 32, 105, 115, 32, 101, 109, 112, 1167, 114, 101, 113, 117, 101, 115, 116, 116, 121, 112, 101, 95, 52, 53, 50, 53, 49, 57, 50, 76, 32, 105, 115, 32, 101, 109, 112, 1167, 114, 101, 115, 112, 111, 110, 115, 101, 100, 97, 116, 101, 95, 49, 48, 49, 50, 68, 32, 105, 115, 32, 101, 109, 112, 1167, 114, 101, 115, 112, 111, 110, 115, 101, 100, 97, 116, 101, 95, 52, 53, 50, 55, 50, 51, 51, 68, 32, 105, 115, 32, 101, 109, 112, 1167, 114, 101, 115, 112, 111, 110, 115, 101, 100, 97, 116, 101, 95, 52, 57, 49, 55, 54, 49, 51, 68, 32, 105, 115, 32, 101, 109, 112, 1167, 114, 105, 115, 107, 97, 115, 115, 101, 115, 109, 101, 110, 116, 95, 51, 48, 50, 84, 32, 105, 115, 32, 101, 109, 112, 1167, 114, 105, 115, 107, 97, 115, 115, 101, 115, 109, 101, 110, 116, 95, 57, 52, 48, 84, 32, 105, 115, 32, 101, 109, 112, 2695, 101, 99, 111, 110, 100, 113, 117, 97, 114, 116, 101, 114, 95, 55, 54, 54, 76, 32, 105, 115, 32, 101, 109, 112, 6961, 104, 105, 114, 100, 113, 117, 97, 114, 116, 101, 114, 95, 49, 48, 56, 50, 76, 32, 105, 115, 32, 101, 109, 112, 1167, 87, 69, 69, 75, 95, 78, 85, 77, 32, 104, 97, 115, 32, 118, 97, 108, 117, 101]\n",
      "Length of Tokens 6300\n",
      "=====================\n",
      "\n"
     ]
    }
   ],
   "source": [
    "new_text = \"actualdpdtolerance_344P is empty, amtinstpaidbefduel24m_4187115A is empty, annuity_780A has value, annuitynextmonth_57A has value, \\\n",
    "applicationcnt_361L has value, applications30d_658L has value, applicationscnt_1086L has value, applicationscnt_464L has value, applicationscnt_629L has value, \\\n",
    "applicationscnt_867L has value, avgdbddpdlast24m_3658932P is empty, avgdbddpdlast3m_4187120P is empty, avgdbdtollast24m_4525197P is empty, avgdpdtolclosure24_3658938P is \\\n",
    "empty, avginstallast24m_3658937A is empty, avglnamtstart24m_4525187A is empty, avgmaxdpdlast9m_3716943P is empty, avgoutstandbalancel6m_4187114A is empty, avgpmtlast12m_4525200A is empty, \\\n",
    "bankacctype_710L is empty, cardtype_51L is empty, clientscnt12m_3712952L has value, clientscnt3m_3712950L has value, clientscnt6m_3712949L has value, clientscnt_100L has value, clientscnt_1022L has value, \\\n",
    "clientscnt_1071L has value, clientscnt_1130L has value, clientscnt_136L is empty, clientscnt_157L has value, clientscnt_257L has value, clientscnt_304L has value, clientscnt_360L has value, clientscnt_493L has value, \\\n",
    "clientscnt_533L has value, clientscnt_887L has value, clientscnt_946L has value, cntincpaycont9m_3716944L is empty, cntpmts24_3658933L is empty, commnoinclast6m_3546845L has value, credamount_770A has value, \\\n",
    "credtype_322L value is CAL, currdebt_22A has value, currdebtcredtyperange_828A has value, datefirstoffer_1144D is empty, datelastinstal40dpd_247D is empty, datelastunpaid_3546854D is empty, \\\n",
    "daysoverduetolerancedd_3976961L is empty, deferredmnthsnum_166L has value, disbursedcredamount_1113A has value, disbursementtype_67L value is GBA, downpmt_116A has value, dtlastpmtallstes_4499206D is empty, \\\n",
    "eir_270L has value, equalitydataagreement_891L is empty, equalityempfrom_62L is empty, firstclxcampaign_1125D is empty, firstdatedue_489D is empty, homephncnt_628L has value, inittransactionamount_650A is empty, \\\n",
    "inittransactioncode_186L value is CASH, interestrate_311L has value, interestrategrace_34L is empty, isbidproduct_1095L is False, isbidproductrequest_292L is empty, isdebitcard_729L is empty, \\\n",
    "lastactivateddate_801D is empty, lastapplicationdate_877D is empty, lastapprcommoditycat_1041M value is a55475b1, lastapprcommoditytypec_5251766M value is a55475b1, lastapprcredamount_781A is empty, \\\n",
    "lastapprdate_640D is empty, lastcancelreason_561M value is a55475b1, lastdelinqdate_224D is empty, lastdependentsnum_448L is empty, lastotherinc_902A is empty, lastotherlnsexpense_631A is empty, \\\n",
    "lastrejectcommoditycat_161M value is a55475b1, lastrejectcommodtypec_5251769M value is a55475b1, lastrejectcredamount_222A is empty, lastrejectdate_50D is empty, lastrejectreason_759M value is a55475b1, \\\n",
    "lastrejectreasonclient_4145040M value is a55475b1, lastrepayingdate_696D is empty, lastst_736L is empty, maininc_215A is empty, mastercontrelectronic_519L has value, mastercontrexist_109L has value, \\\n",
    "maxannuity_159A has value, maxannuity_4075009A is empty, maxdbddpdlast1m_3658939P is empty, maxdbddpdtollast12m_3658940P is empty, maxdbddpdtollast6m_4187119P is empty, maxdebt4_972A has value, \\\n",
    "maxdpdfrom6mto36m_3546853P has value, maxdpdinstldate_3546855D is empty, maxdpdinstlnum_3546846P is empty, maxdpdlast12m_727P has value, maxdpdlast24m_143P has value, maxdpdlast3m_392P has value, \\\n",
    "maxdpdlast6m_474P has value, maxdpdlast9m_1059P has value, maxdpdtolerance_374P has value, maxinstallast24m_3658928A is empty, maxlnamtstart6m_4525199A is empty, maxoutstandbalancel12m_4187113A is empty, \\\n",
    "maxpmtlast3m_4525190A is empty, mindbddpdlast24m_3658935P is empty, mindbdtollast24m_4525191P is empty, mobilephncnt_593L has value, monthsannuity_845L is empty, numactivecreds_622L has value, \\\n",
    "numactivecredschannel_414L has value, numactiverelcontr_750L has value, numcontrs3months_479L has value, numincomingpmts_3546848L is empty, numinstlallpaidearly3d_817L is empty, numinstls_657L has value, \\\n",
    "numinstlsallpaid_934L is empty, numinstlswithdpd10_728L is empty, numinstlswithdpd5_4187116L is empty, numinstlswithoutdpd_562L is empty, numinstmatpaidtearly2d_4499204L is empty, numinstpaid_4499208L is empty, \\\n",
    "numinstpaidearly3d_3546850L is empty, numinstpaidearly3dest_4493216L is empty, numinstpaidearly5d_1087L is empty, numinstpaidearly5dest_4493211L is empty, numinstpaidearly5dobd_4499205L is empty, \\\n",
    "numinstpaidearly_338L is empty, numinstpaidearlyest_4493214L is empty, numinstpaidlastcontr_4325080L is empty, numinstpaidlate1d_3546852L is empty, numinstregularpaid_973L is empty,\\\n",
    "numinstregularpaidest_4493210L is empty, numinsttopaygr_769L is empty, numinsttopaygrest_4493213L is empty, numinstunpaidmax_3546851L is empty, numinstunpaidmaxest_4493212L is empty, \\\n",
    "numnotactivated_1143L has value, numpmtchanneldd_318L has value, numrejects9m_859L has value, opencred_647L is empty, paytype1st_925L value is OTHER, paytype_783L value is OTHER, \\\n",
    "payvacationpostpone_4187118D is empty, pctinstlsallpaidearl3d_427L is empty, pctinstlsallpaidlat10d_839L is empty, pctinstlsallpaidlate1d_3546856L is empty, pctinstlsallpaidlate4d_3546849L is empty, \\\n",
    "pctinstlsallpaidlate6d_3546844L is empty, pmtnum_254L has value, posfpd10lastmonth_333P has value, posfpd30lastmonth_3976960P has value, posfstqpd30lastmonth_3976962P is empty, \\\n",
    "previouscontdistrict_112M value is a55475b1, price_1097A is empty, sellerplacecnt_915L has value, sellerplacescnt_216L has value, sumoutstandtotal_3546847A is empty, sumoutstandtotalest_4493215A is empty, \\\n",
    "totaldebt_9A has value, totalsettled_863A has value, totinstallast1m_4525188A is empty, twobodfilling_608L value is BO, typesuite_864L is empty, validfrom_1069D is empty, assignmentdate_238D is empty, \\\n",
    "assignmentdate_4527235D is empty, assignmentdate_4955616D is empty, birthdate_574D is empty, contractssum_5085716L is empty, dateofbirth_337D is empty, dateofbirth_342D is empty, days120_123L is empty, \\\n",
    "days180_256L is empty, days30_165L is empty, days360_512L is empty, days90_310L is empty, description_5085714M is empty, education_1103M is empty, education_88M is empty, firstquarter_103L is empty, \\\n",
    "for3years_128L is empty, for3years_504L is empty, for3years_584L is empty, formonth_118L is empty, formonth_206L is empty, formonth_535L is empty, forquarter_1017L is empty, forquarter_462L is empty, \\\n",
    "forquarter_634L is empty, fortoday_1092L is empty, forweek_1077L is empty, forweek_528L is empty, forweek_601L is empty, foryear_618L is empty, foryear_818L is empty, foryear_850L is empty, \\\n",
    "fourthquarter_440L is empty, maritalst_385M is empty, maritalst_893M is empty, numberofqueries_373L is empty, pmtaverage_3A is empty, pmtaverage_4527227A is empty, pmtaverage_4955615A is empty, \\\n",
    "pmtcount_4527229L is empty, pmtcount_4955617L is empty, pmtcount_693L is empty, pmtscount_423L is empty, pmtssum_45A is empty, requesttype_4525192L is empty, responsedate_1012D is empty, \\\n",
    "responsedate_4527233D is empty, responsedate_4917613D is empty, riskassesment_302T is empty, riskassesment_940T is empty, secondquarter_766L is empty, thirdquarter_1082L is empty, WEEK_NUM has value\"\n",
    "\n",
    "new_text = new_text.replace(\",\", \"\")\n",
    "\n",
    "enc_text = main_vocab.encode_text(new_text, True)\n"
   ]
  },
  {
   "cell_type": "code",
   "execution_count": 6,
   "id": "8459c5d6",
   "metadata": {},
   "outputs": [
    {
     "name": "stdout",
     "output_type": "stream",
     "text": [
      "Pre Merge: \n",
      "[71, 111, 111, 100, 110, 105, 103, 104, 116, 33, 32, 72, 101, 108, 108, 111, 44, 32, 73, 39, 109, 32, 98, 97, 99, 107, 32, 97, 103, 97, 105, 110, 46, 32, 73, 32, 98, 97, 115, 105, 99, 97, 108, 108, 121, 32, 104, 97, 118, 101, 32, 111, 110, 108, 121, 32, 116, 119, 111, 32, 105, 110, 116, 101, 114, 101, 115, 116, 115, 32, 110, 111, 119, 97, 100, 97, 121, 115, 58, 32, 108, 97, 110, 103, 117, 97, 103, 101, 115, 32, 97, 110, 100, 32, 102, 117, 114, 114, 105, 101, 115, 46, 32, 87, 104, 97, 116, 63, 32, 79, 104, 44, 32, 115, 111, 114, 114, 121, 44, 32, 73, 32, 116, 104, 111, 117, 103, 104, 116, 32, 121, 111, 117, 32, 107, 110, 101, 119, 32, 73, 32, 119, 97, 115, 32, 97, 32, 102, 117, 114, 114, 121, 46, 32, 72, 97, 104, 97, 44, 32, 111, 111, 112, 115, 46, 32, 65, 110, 121, 119, 97, 121, 44, 32, 121, 101, 97, 104, 44, 32, 73, 39, 109, 32, 97, 32, 102, 117, 114, 114, 121, 44, 32, 98, 117, 116, 32, 115, 105, 110, 99, 101, 32, 73, 39, 109, 32, 97, 32, 121, 111, 117, 110, 103, 32, 102, 117, 114, 114, 121, 44, 32, 73, 32, 99, 97, 110, 39, 116, 32, 114, 101, 97, 108, 108, 121, 32, 100, 111, 32, 97, 115, 32, 109, 117, 99, 104, 32, 97, 115, 32, 73, 32, 119, 111, 117, 108, 100, 32, 108, 105, 107, 101, 32, 116, 111, 32, 100, 111, 32, 105, 110, 32, 116, 104, 101, 32, 102, 97, 110, 100, 111, 109, 46, 32, 87, 104, 101, 110, 32, 73, 39, 109, 32, 111, 108, 100, 101, 114, 44, 32, 73, 32, 119, 111, 117, 108, 100, 32, 108, 105, 107, 101, 32, 116, 111, 32, 104, 97, 118, 101, 32, 97, 32, 102, 117, 114, 115, 117, 105, 116, 44, 32, 103, 111, 32, 116, 111, 32, 102, 117, 114, 114, 121, 32, 99, 111, 110, 118, 101, 110, 116, 105, 111, 110, 115, 44, 32, 97, 108, 108, 32, 116, 104, 97, 116, 32, 115, 116, 117, 102, 102, 46, 32, 66, 117, 116, 32, 102, 111, 114, 32, 110, 111, 119, 32, 73, 32, 99, 97, 110, 32, 111, 110, 108, 121, 32, 100, 114, 101, 97, 109, 32, 111, 102, 32, 116, 104, 97, 116, 46, 32, 83, 111, 114, 114, 121, 32, 121, 111, 117, 32, 104, 97, 100, 32, 116, 111, 32, 100, 101, 97, 108, 32, 119, 105, 116, 104, 32, 109, 101, 32, 116, 97, 108, 107, 105, 110, 103, 32, 97, 98, 111, 117, 116, 32, 102, 117, 114, 114, 105, 101, 115, 44, 32, 98, 117, 116, 32, 73, 39, 109, 32, 104, 111, 110, 101, 115, 116, 108, 121, 32, 118, 101, 114, 121, 32, 100, 101, 115, 112, 101, 114, 97, 116, 101, 32, 102, 111, 114, 32, 116, 104, 105, 115, 32, 116, 111, 32, 98, 101, 32, 116, 104, 101, 32, 108, 111, 110, 103, 101, 115, 116, 32, 116, 101, 120, 116, 32, 101, 118, 101, 114, 46]\n",
      "Length of Tokens 534\n",
      "====================\n",
      "\n",
      "Post Merge: \n",
      "[781, 111, 1472, 513, 5956, 2364, 716, 773, 4161, 4254, 7689, 13886, 104, 11568, 1287, 1160, 105, 110, 116, 101, 114, 101, 115, 116, 115, 32, 11569, 97, 121, 2166, 108, 97, 110, 103, 117, 13887, 7690, 2662, 2756, 5959, 32, 115, 111, 11571, 9409, 514, 1231, 1480, 530, 2918, 2479, 5961, 405, 558, 979, 472, 5066, 10585, 97, 5962, 10850, 773, 2758, 114, 11574, 12964, 773, 1106, 5963, 2754, 9408, 4101, 9413, 1490, 4103, 7695, 10851, 4037, 5965, 9432, 11577, 7698, 772, 1500, 108, 5969, 4433, 7867, 11787, 5970, 117, 1425, 5068, 1090, 2836, 12966, 12967, 3964, 9418, 5975, 2777, 2670, 1132, 4106, 1369, 5069, 3626, 2431, 2661, 5976, 1327, 1377, 2783, 2784, 7704, 2521, 11580, 4108, 2754, 5978, 3934, 772, 1516, 111, 110, 11582, 9423, 16359, 116, 15563, 9426]\n",
      "Length of Tokens 131\n",
      "====================\n",
      "\n"
     ]
    }
   ],
   "source": [
    "txt = \"Goodnight! Hello, I'm back again. I basically have only two interests nowadays: languages and furries. What? Oh, sorry, I thought you knew I was a furry. Haha, oops. Anyway, yeah, I'm a furry, but since I'm a young furry, I can't really do as much as I would like to do in the fandom. When I'm older, I would like to have a fursuit, go to furry conventions, all that stuff. But for now I can only dream of that. Sorry you had to deal with me talking about furries, but I'm honestly very desperate for this to be the longest text ever.\"\n",
    "\n",
    "enc_text = main_vocab.encode_text(txt, True)"
   ]
  }
 ],
 "metadata": {
  "kernelspec": {
   "display_name": "brainstation_env",
   "language": "python",
   "name": "python3"
  },
  "language_info": {
   "codemirror_mode": {
    "name": "ipython",
    "version": 3
   },
   "file_extension": ".py",
   "mimetype": "text/x-python",
   "name": "python",
   "nbconvert_exporter": "python",
   "pygments_lexer": "ipython3",
   "version": "3.11.8"
  }
 },
 "nbformat": 4,
 "nbformat_minor": 5
}
