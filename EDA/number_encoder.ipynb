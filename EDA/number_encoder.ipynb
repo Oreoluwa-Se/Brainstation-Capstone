{
 "cells": [
  {
   "cell_type": "markdown",
   "metadata": {},
   "source": [
    "# Approach for Converting Numbers to Continous variables"
   ]
  },
  {
   "cell_type": "code",
   "execution_count": 1,
   "metadata": {},
   "outputs": [],
   "source": [
    "import sys\n",
    "import os\n",
    "\n",
    "script_dir = os.path.dirname(os.path.abspath('number_encoder.ipynb'))\n",
    "parent_directory = os.path.dirname(script_dir)\n",
    "module_directory = os.path.join(parent_directory, 'module') \n",
    "utils_directory = os.path.join(parent_directory, 'utils') \n",
    "\n",
    "if (parent_directory not in sys.path):\n",
    "    sys.path.append(parent_directory)\n",
    "    \n",
    "if (module_directory not in sys.path):\n",
    "    sys.path.append(module_directory)\n",
    "    \n",
    "if (utils_directory not in sys.path):\n",
    "    sys.path.append(utils_directory)  \n",
    "\n",
    "from utils import config\n",
    "from module.preprocess.bpe import Encoder\n",
    "from module.preprocess.load_and_batch import DataBatcher\n",
    "from module.architecture.phase import InputPhase\n",
    "from module.architecture.comps import MetaDataTokens\n",
    "from module.architecture.dataclasses import ModelArgs"
   ]
  },
  {
   "cell_type": "markdown",
   "metadata": {},
   "source": [
    "# Loading dataset and showing examples of tabular rows that are converted to text"
   ]
  },
  {
   "cell_type": "code",
   "execution_count": 2,
   "metadata": {},
   "outputs": [
    {
     "name": "stdout",
     "output_type": "stream",
     "text": [
      "----> Size of training set: (1068660, 223)\n",
      "Empty instantiation. Ensure to load from pickle file location\n",
      "actualdpdtolerance_344P is empty, amtinstpaidbefduel24m_4187115A is empty, annuity_780A is <|AMOUNT|>, annuitynextmonth_57A is <|AMOUNT|>, applicationcnt_361L is <|NUM|>, applications30d_658L is <|NUM|>, applicationscnt_1086L is <|NUM|>, applicationscnt_464L is <|NUM|>, applicationscnt_629L is <|NUM|>, applicationscnt_867L is <|NUM|>, avgdbddpdlast24m_3658932P is empty, avgdbddpdlast3m_4187120P is empty, avgdbdtollast24m_4525197P is empty, avgdpdtolclosure24_3658938P is empty, avginstallast24m_3658937A is empty, avglnamtstart24m_4525187A is empty, avgmaxdpdlast9m_3716943P is empty, avgoutstandbalancel6m_4187114A is empty, avgpmtlast12m_4525200A is empty, bankacctype_710L is empty, cardtype_51L is empty, clientscnt12m_3712952L is <|NUM|>, clientscnt3m_3712950L is <|NUM|>, clientscnt6m_3712949L is <|NUM|>, clientscnt_100L is <|NUM|>, clientscnt_1022L is <|NUM|>, clientscnt_1071L is <|NUM|>, clientscnt_1130L is <|NUM|>, clientscnt_136L is empty, clientscnt_157L is <|NUM|>, clientscnt_257L is <|NUM|>, clientscnt_304L is <|NUM|>, clientscnt_360L is <|NUM|>, clientscnt_493L is <|NUM|>, clientscnt_533L is <|NUM|>, clientscnt_887L is <|NUM|>, clientscnt_946L is <|NUM|>, cntincpaycont9m_3716944L is empty, cntpmts24_3658933L is empty, commnoinclast6m_3546845L is empty, credamount_770A is <|AMOUNT|>, credtype_322L is COL, currdebt_22A is <|AMOUNT|>, currdebtcredtyperange_828A is <|AMOUNT|>, datefirstoffer_1144D is empty, datelastinstal40dpd_247D is empty, datelastunpaid_3546854D is empty, daysoverduetolerancedd_3976961L is empty, deferredmnthsnum_166L is <|NUM|>, disbursedcredamount_1113A is <|AMOUNT|>, disbursementtype_67L is SBA, downpmt_116A is <|AMOUNT|>, dtlastpmtallstes_4499206D is empty, eir_270L is <|NUM|>, equalitydataagreement_891L is empty, equalityempfrom_62L is empty, firstclxcampaign_1125D is empty, firstdatedue_489D is empty, homephncnt_628L is <|NUM|>, inittransactionamount_650A is empty, inittransactioncode_186L is POS, interestrate_311L is <|NUM|>, interestrategrace_34L is empty, isbidproduct_1095L is False, isbidproductrequest_292L is empty, isdebitcard_729L is empty, lastactivateddate_801D is empty, lastapplicationdate_877D is empty, lastapprcommoditycat_1041M is a55475b1, lastapprcommoditytypec_5251766M is a55475b1, lastapprcredamount_781A is empty, lastapprdate_640D is empty, lastcancelreason_561M is a55475b1, lastdelinqdate_224D is empty, lastdependentsnum_448L is empty, lastotherinc_902A is empty, lastotherlnsexpense_631A is empty, lastrejectcommoditycat_161M is a55475b1, lastrejectcommodtypec_5251769M is a55475b1, lastrejectcredamount_222A is empty, lastrejectdate_50D is empty, lastrejectreason_759M is a55475b1, lastrejectreasonclient_4145040M is a55475b1, lastrepayingdate_696D is empty, lastst_736L is empty, maininc_215A is empty, mastercontrelectronic_519L is empty, mastercontrexist_109L is empty, maxannuity_159A is empty, maxannuity_4075009A is empty, maxdbddpdlast1m_3658939P is empty, maxdbddpdtollast12m_3658940P is empty, maxdbddpdtollast6m_4187119P is empty, maxdebt4_972A is empty, maxdpdfrom6mto36m_3546853P is empty, maxdpdinstldate_3546855D is empty, maxdpdinstlnum_3546846P is empty, maxdpdlast12m_727P is empty, maxdpdlast24m_143P is empty, maxdpdlast3m_392P is empty, maxdpdlast6m_474P is empty, maxdpdlast9m_1059P is empty, maxdpdtolerance_374P is empty, maxinstallast24m_3658928A is empty, maxlnamtstart6m_4525199A is empty, maxoutstandbalancel12m_4187113A is empty, maxpmtlast3m_4525190A is empty, mindbddpdlast24m_3658935P is empty, mindbdtollast24m_4525191P is empty, mobilephncnt_593L is <|NUM|>, monthsannuity_845L is empty, numactivecreds_622L is <|NUM|>, numactivecredschannel_414L is <|NUM|>, numactiverelcontr_750L is <|NUM|>, numcontrs3months_479L is <|NUM|>, numincomingpmts_3546848L is empty, numinstlallpaidearly3d_817L is empty, numinstls_657L is <|NUM|>, numinstlsallpaid_934L is empty, numinstlswithdpd10_728L is empty, numinstlswithdpd5_4187116L is empty, numinstlswithoutdpd_562L is empty, numinstmatpaidtearly2d_4499204L is empty, numinstpaid_4499208L is empty, numinstpaidearly3d_3546850L is empty, numinstpaidearly3dest_4493216L is empty, numinstpaidearly5d_1087L is empty, numinstpaidearly5dest_4493211L is empty, numinstpaidearly5dobd_4499205L is empty, numinstpaidearly_338L is empty, numinstpaidearlyest_4493214L is empty, numinstpaidlastcontr_4325080L is empty, numinstpaidlate1d_3546852L is empty, numinstregularpaid_973L is empty, numinstregularpaidest_4493210L is empty, numinsttopaygr_769L is empty, numinsttopaygrest_4493213L is empty, numinstunpaidmax_3546851L is empty, numinstunpaidmaxest_4493212L is empty, numnotactivated_1143L is <|NUM|>, numpmtchanneldd_318L is <|NUM|>, numrejects9m_859L is <|NUM|>, opencred_647L is empty, paytype1st_925L is OTHER, paytype_783L is OTHER, payvacationpostpone_4187118D is empty, pctinstlsallpaidearl3d_427L is empty, pctinstlsallpaidlat10d_839L is empty, pctinstlsallpaidlate1d_3546856L is empty, pctinstlsallpaidlate4d_3546849L is empty, pctinstlsallpaidlate6d_3546844L is empty, pmtnum_254L is <|NUM|>, posfpd10lastmonth_333P is empty, posfpd30lastmonth_3976960P is empty, posfstqpd30lastmonth_3976962P is empty, previouscontdistrict_112M is a55475b1, price_1097A is <|AMOUNT|>, sellerplacecnt_915L is <|NUM|>, sellerplacescnt_216L is <|NUM|>, sumoutstandtotal_3546847A is empty, sumoutstandtotalest_4493215A is empty, totaldebt_9A is <|AMOUNT|>, totalsettled_863A is <|AMOUNT|>, totinstallast1m_4525188A is empty, twobodfilling_608L is FO, typesuite_864L is empty, validfrom_1069D is empty, assignmentdate_238D is empty, assignmentdate_4527235D is empty, assignmentdate_4955616D is empty, birthdate_574D is empty, contractssum_5085716L is empty, dateofbirth_337D is <|DATE|>, dateofbirth_342D is empty, days120_123L is <|NUM|>, days180_256L is <|NUM|>, days30_165L is <|NUM|>, days360_512L is <|NUM|>, days90_310L is <|NUM|>, description_5085714M is a55475b1, education_1103M is a55475b1, education_88M is a55475b1, firstquarter_103L is <|NUM|>, for3years_128L is empty, for3years_504L is empty, for3years_584L is empty, formonth_118L is empty, formonth_206L is empty, formonth_535L is empty, forquarter_1017L is empty, forquarter_462L is empty, forquarter_634L is empty, fortoday_1092L is empty, forweek_1077L is empty, forweek_528L is empty, forweek_601L is empty, foryear_618L is empty, foryear_818L is empty, foryear_850L is empty, fourthquarter_440L is <|NUM|>, maritalst_385M is a55475b1, maritalst_893M is a55475b1, numberofqueries_373L is <|NUM|>, pmtaverage_3A is empty, pmtaverage_4527227A is empty, pmtaverage_4955615A is empty, pmtcount_4527229L is empty, pmtcount_4955617L is empty, pmtcount_693L is empty, pmtscount_423L is empty, pmtssum_45A is empty, requesttype_4525192L is DEDUCTION_6, responsedate_1012D is empty, responsedate_4527233D is <|DATE|>, responsedate_4917613D is empty, riskassesment_302T is empty, riskassesment_940T is empty, secondquarter_766L is <|NUM|>, thirdquarter_1082L is <|NUM|>, date_decision is <|DATE|>\n",
      "+-----------------------------------------------+\n",
      "|               Analysis Results                |\n",
      "+-----------------------------------------------+\n",
      "| Length of original list              :   1889 |\n",
      "| Number of unique tokens in original  :    262 |\n",
      "| Length of compressed list            :    767 |\n",
      "| Number of unique tokens in compressed:    260 |\n",
      "| Final compression ratio              : 0.594  |\n",
      "| Length of vocabulary                 :    745 |\n",
      "+-----------------------------------------------+\n",
      "actualdpdtolerance_344P is <|NUM|>, amtinstpaidbefduel24m_4187115A is <|AMOUNT|>, annuity_780A is <|AMOUNT|>, annuitynextmonth_57A is <|AMOUNT|>, applicationcnt_361L is <|NUM|>, applications30d_658L is <|NUM|>, applicationscnt_1086L is <|NUM|>, applicationscnt_464L is <|NUM|>, applicationscnt_629L is <|NUM|>, applicationscnt_867L is <|NUM|>, avgdbddpdlast24m_3658932P is <|NUM|>, avgdbddpdlast3m_4187120P is <|NUM|>, avgdbdtollast24m_4525197P is empty, avgdpdtolclosure24_3658938P is <|NUM|>, avginstallast24m_3658937A is <|AMOUNT|>, avglnamtstart24m_4525187A is empty, avgmaxdpdlast9m_3716943P is <|NUM|>, avgoutstandbalancel6m_4187114A is <|AMOUNT|>, avgpmtlast12m_4525200A is empty, bankacctype_710L is empty, cardtype_51L is empty, clientscnt12m_3712952L is <|NUM|>, clientscnt3m_3712950L is <|NUM|>, clientscnt6m_3712949L is <|NUM|>, clientscnt_100L is <|NUM|>, clientscnt_1022L is <|NUM|>, clientscnt_1071L is <|NUM|>, clientscnt_1130L is <|NUM|>, clientscnt_136L is empty, clientscnt_157L is <|NUM|>, clientscnt_257L is <|NUM|>, clientscnt_304L is <|NUM|>, clientscnt_360L is <|NUM|>, clientscnt_493L is <|NUM|>, clientscnt_533L is <|NUM|>, clientscnt_887L is <|NUM|>, clientscnt_946L is <|NUM|>, cntincpaycont9m_3716944L is <|NUM|>, cntpmts24_3658933L is <|NUM|>, commnoinclast6m_3546845L is <|NUM|>, credamount_770A is <|AMOUNT|>, credtype_322L is COL, currdebt_22A is <|AMOUNT|>, currdebtcredtyperange_828A is <|AMOUNT|>, datefirstoffer_1144D is <|DATE|>, datelastinstal40dpd_247D is empty, datelastunpaid_3546854D is empty, daysoverduetolerancedd_3976961L is <|NUM|>, deferredmnthsnum_166L is <|NUM|>, disbursedcredamount_1113A is <|AMOUNT|>, disbursementtype_67L is SBA, downpmt_116A is <|AMOUNT|>, dtlastpmtallstes_4499206D is empty, eir_270L is <|NUM|>, equalitydataagreement_891L is empty, equalityempfrom_62L is empty, firstclxcampaign_1125D is <|DATE|>, firstdatedue_489D is <|DATE|>, homephncnt_628L is <|NUM|>, inittransactionamount_650A is empty, inittransactioncode_186L is POS, interestrate_311L is <|NUM|>, interestrategrace_34L is empty, isbidproduct_1095L is False, isbidproductrequest_292L is empty, isdebitcard_729L is empty, lastactivateddate_801D is <|DATE|>, lastapplicationdate_877D is <|DATE|>, lastapprcommoditycat_1041M is P33_29_177, lastapprcommoditytypec_5251766M is a55475b1, lastapprcredamount_781A is <|AMOUNT|>, lastapprdate_640D is <|DATE|>, lastcancelreason_561M is a55475b1, lastdelinqdate_224D is empty, lastdependentsnum_448L is empty, lastotherinc_902A is empty, lastotherlnsexpense_631A is empty, lastrejectcommoditycat_161M is P33_29_177, lastrejectcommodtypec_5251769M is a55475b1, lastrejectcredamount_222A is <|AMOUNT|>, lastrejectdate_50D is <|DATE|>, lastrejectreason_759M is P99_56_166, lastrejectreasonclient_4145040M is P94_109_143, lastrepayingdate_696D is empty, lastst_736L is K, maininc_215A is <|AMOUNT|>, mastercontrelectronic_519L is <|NUM|>, mastercontrexist_109L is <|NUM|>, maxannuity_159A is <|AMOUNT|>, maxannuity_4075009A is empty, maxdbddpdlast1m_3658939P is empty, maxdbddpdtollast12m_3658940P is <|NUM|>, maxdbddpdtollast6m_4187119P is <|NUM|>, maxdebt4_972A is <|AMOUNT|>, maxdpdfrom6mto36m_3546853P is <|NUM|>, maxdpdinstldate_3546855D is empty, maxdpdinstlnum_3546846P is empty, maxdpdlast12m_727P is <|NUM|>, maxdpdlast24m_143P is <|NUM|>, maxdpdlast3m_392P is <|NUM|>, maxdpdlast6m_474P is <|NUM|>, maxdpdlast9m_1059P is <|NUM|>, maxdpdtolerance_374P is <|NUM|>, maxinstallast24m_3658928A is <|AMOUNT|>, maxlnamtstart6m_4525199A is empty, maxoutstandbalancel12m_4187113A is <|AMOUNT|>, maxpmtlast3m_4525190A is empty, mindbddpdlast24m_3658935P is <|NUM|>, mindbdtollast24m_4525191P is empty, mobilephncnt_593L is <|NUM|>, monthsannuity_845L is <|NUM|>, numactivecreds_622L is <|NUM|>, numactivecredschannel_414L is <|NUM|>, numactiverelcontr_750L is <|NUM|>, numcontrs3months_479L is <|NUM|>, numincomingpmts_3546848L is <|NUM|>, numinstlallpaidearly3d_817L is <|NUM|>, numinstls_657L is <|NUM|>, numinstlsallpaid_934L is <|NUM|>, numinstlswithdpd10_728L is <|NUM|>, numinstlswithdpd5_4187116L is 0.0, numinstlswithoutdpd_562L is <|NUM|>, numinstmatpaidtearly2d_4499204L is empty, numinstpaid_4499208L is empty, numinstpaidearly3d_3546850L is <|NUM|>, numinstpaidearly3dest_4493216L is empty, numinstpaidearly5d_1087L is <|NUM|>, numinstpaidearly5dest_4493211L is empty, numinstpaidearly5dobd_4499205L is empty, numinstpaidearly_338L is <|NUM|>, numinstpaidearlyest_4493214L is empty, numinstpaidlastcontr_4325080L is empty, numinstpaidlate1d_3546852L is <|NUM|>, numinstregularpaid_973L is <|NUM|>, numinstregularpaidest_4493210L is empty, numinsttopaygr_769L is <|NUM|>, numinsttopaygrest_4493213L is empty, numinstunpaidmax_3546851L is <|NUM|>, numinstunpaidmaxest_4493212L is empty, numnotactivated_1143L is <|NUM|>, numpmtchanneldd_318L is <|NUM|>, numrejects9m_859L is <|NUM|>, opencred_647L is False, paytype1st_925L is OTHER, paytype_783L is OTHER, payvacationpostpone_4187118D is empty, pctinstlsallpaidearl3d_427L is <|NUM|>, pctinstlsallpaidlat10d_839L is <|NUM|>, pctinstlsallpaidlate1d_3546856L is <|NUM|>, pctinstlsallpaidlate4d_3546849L is <|NUM|>, pctinstlsallpaidlate6d_3546844L is <|NUM|>, pmtnum_254L is <|NUM|>, posfpd10lastmonth_333P is <|NUM|>, posfpd30lastmonth_3976960P is empty, posfstqpd30lastmonth_3976962P is empty, previouscontdistrict_112M is P51_99_95, price_1097A is <|AMOUNT|>, sellerplacecnt_915L is <|NUM|>, sellerplacescnt_216L is <|NUM|>, sumoutstandtotal_3546847A is <|AMOUNT|>, sumoutstandtotalest_4493215A is empty, totaldebt_9A is <|AMOUNT|>, totalsettled_863A is <|AMOUNT|>, totinstallast1m_4525188A is empty, twobodfilling_608L is FO, typesuite_864L is empty, validfrom_1069D is empty, assignmentdate_238D is empty, assignmentdate_4527235D is empty, assignmentdate_4955616D is empty, birthdate_574D is <|DATE|>, contractssum_5085716L is empty, dateofbirth_337D is <|DATE|>, dateofbirth_342D is empty, days120_123L is <|NUM|>, days180_256L is <|NUM|>, days30_165L is <|NUM|>, days360_512L is <|NUM|>, days90_310L is <|NUM|>, description_5085714M is a55475b1, education_1103M is a55475b1, education_88M is a55475b1, firstquarter_103L is <|NUM|>, for3years_128L is empty, for3years_504L is empty, for3years_584L is empty, formonth_118L is empty, formonth_206L is empty, formonth_535L is empty, forquarter_1017L is empty, forquarter_462L is empty, forquarter_634L is empty, fortoday_1092L is empty, forweek_1077L is empty, forweek_528L is empty, forweek_601L is empty, foryear_618L is empty, foryear_818L is empty, foryear_850L is empty, fourthquarter_440L is <|NUM|>, maritalst_385M is a7fcb6e5, maritalst_893M is a55475b1, numberofqueries_373L is <|NUM|>, pmtaverage_3A is empty, pmtaverage_4527227A is empty, pmtaverage_4955615A is empty, pmtcount_4527229L is empty, pmtcount_4955617L is empty, pmtcount_693L is empty, pmtscount_423L is <|NUM|>, pmtssum_45A is <|AMOUNT|>, requesttype_4525192L is empty, responsedate_1012D is <|DATE|>, responsedate_4527233D is empty, responsedate_4917613D is empty, riskassesment_302T is empty, riskassesment_940T is empty, secondquarter_766L is <|NUM|>, thirdquarter_1082L is <|NUM|>, date_decision is <|DATE|>\n",
      "+-----------------------------------------------+\n",
      "|               Analysis Results                |\n",
      "+-----------------------------------------------+\n",
      "| Length of original list              :   1523 |\n",
      "| Number of unique tokens in original  :    265 |\n",
      "| Length of compressed list            :    856 |\n",
      "| Number of unique tokens in compressed:    277 |\n",
      "| Final compression ratio              : 0.438  |\n",
      "| Length of vocabulary                 :    745 |\n",
      "+-----------------------------------------------+\n"
     ]
    }
   ],
   "source": [
    "def dataset_loader() -> DataBatcher:\n",
    "    # loading and batch preparation\n",
    "    loader = DataBatcher()\n",
    "    loader.load_state(config.BASE_LOCATION)\n",
    "\n",
    "    # if nothing on file currently load\n",
    "    if loader.nones:\n",
    "        loader.load_and_process(\n",
    "            base_loc=config.DATA_LOCATION, \n",
    "            minority_loc=config.SPLIT_DATASETS+'target.csv', \n",
    "            majority_loc=config.SPLIT_DATASETS+f\"dataset_{config.DATASET_CONFIG['split_to_load']}.csv\", \n",
    "            train_test_split=config.DATASET_CONFIG['train_test_split'],\n",
    "            validation_split=config.DATASET_CONFIG['validation_split'],\n",
    "            training = config.DATASET_CONFIG['training_stage'])\n",
    "            \n",
    "        loader.save_state(config.BASE_LOCATION)\n",
    "\n",
    "    return loader\n",
    "\n",
    "preprocess = dataset_loader()\n",
    "print(f\"----> Size of training set: {preprocess.train.shape}\")\n",
    "\n",
    "# load from validation set\n",
    "batch = preprocess.get_meta_data(\n",
    "        batch_size=config.DATASET_CONFIG[\"batch\"],\n",
    "        data_type=\"valid\",\n",
    "        ignore_list=[\"case_id\"],\n",
    "        output_list=[\"WEEK_NUM\", \"target\"],\n",
    "    )\n",
    "    \n",
    "# Load already trained BPE from\n",
    "encoder = Encoder(None)\n",
    "encoder.load_state(config.BASE_LOCATION)\n",
    "\n",
    "print(batch.texts[0])\n",
    "aaa = encoder.encode_text(batch.texts[0], True)\n",
    "print(batch.texts[-1])\n",
    "aaa = encoder.encode_text(batch.texts[-1], True)"
   ]
  },
  {
   "cell_type": "code",
   "execution_count": 3,
   "metadata": {},
   "outputs": [],
   "source": [
    "args = ModelArgs(\n",
    "        dim=8,\n",
    "        n_layers=1,\n",
    "        n_heads=8,\n",
    "        n_kv_heads=None,\n",
    "        vocab_size=encoder.vocab_size,\n",
    "        multiple_of=128,\n",
    "        ffn_dim_multiplier=None,\n",
    "        norm_eps=1e-05,\n",
    "        attn_dropout_rate=0.1,\n",
    "        proj_dropout_rate=0.5,\n",
    "        batch_size=config.DATASET_CONFIG[\"batch\"],\n",
    "        seq_len=config.MODEL_ARGS['max_seq_len'],\n",
    "        num_target_classes=2,\n",
    "        use_amp=False,\n",
    "        device=None,\n",
    "    )"
   ]
  },
  {
   "cell_type": "markdown",
   "metadata": {},
   "source": [
    "## Single Token Embeddings\n",
    "\n",
    "**Overview**\n",
    "The neural network is configured to learn embeddings for dates, numeric values, and currencies. These embeddings are crucial for capturing semantic relationships in data.\n",
    "\n",
    "**Embedding Vectors**\n",
    "- **Directional Representation**: Embedding vectors are particularly effective at representing directional relationships. To leverage this, special care is taken during the preprocessing stage to enforce scale consistency across different types of data.\n",
    "- **Fixed Dimensionality**: Each tag or token type (dates, numbers, currencies) is processed at a fixed height, facilitating uniformity that aids convolutional layers in detecting and learning patterns effectively.\n",
    "- **Data Types**: All numeric data is either floated or follows structured patterns, ensuring consistent handling during the embedding process.\n",
    "\n",
    "**Training Goals**\n",
    "- **Semantic Clustering**: The objective is for numbers with similar values to cluster in the same direction within the embedding space. This directional similarity should reflect the actual numerical closeness, enhancing the model's ability to interpret and utilize numerical data efectively.\n",
    "fectively.\n"
   ]
  },
  {
   "cell_type": "markdown",
   "metadata": {},
   "source": [
    "<figure>\n",
    "    <img src=\"images/Encodings.png\" alt=\"Centered Image\" style=\"display: block; margin-left: auto; margin-right: auto; width:850%;\" />\n",
    "    <figcaption style=\"text-align: center;Approach for Encoding Numeric Inputng.</figcaption>\n",
    "</figure>\n",
    "\n",
    "\n",
    "v>\""
   ]
  },
  {
   "cell_type": "code",
   "execution_count": 4,
   "metadata": {},
   "outputs": [
    {
     "name": "stdout",
     "output_type": "stream",
     "text": [
      "Length to embedd: 44\n",
      "---------------------------------------------\n",
      "Embeddings for 20820.0 is:\n",
      "[-0.217, -1.004, -2.231, -0.813, 1.106, 2.747, 1.068, 0.486]\n",
      "Embeddings for 42853.6 is:\n",
      "[0.013, -0.904, -1.226, 0.016, 0.356, 2.02, -0.548, 0.196]\n",
      "Embeddings for 23176.0 is:\n",
      "[-1.177, -0.428, -2.167, -0.152, 0.609, 2.141, 0.789, -0.025]\n",
      "Embeddings for 54769.824 is:\n",
      "[-0.668, -1.091, -1.312, 0.299, 0.155, 0.981, -0.57, -0.178]\n",
      "Embeddings for 93166.0 is:\n",
      "[-1.08, -1.025, -1.821, -0.062, 0.644, 1.656, 0.841, 0.215]\n",
      "Embeddings for 13121.601 is:\n",
      "[-1.221, -1.225, -1.851, 0.225, 0.016, 2.084, 0.897, 0.017]\n"
     ]
    }
   ],
   "source": [
    "modd = MetaDataTokens(embedd_dim=args.dim,  focus_data=\"amount\", eps=1e-5, device=None)\n",
    "print(f\"Length to embedd: {len(batch.get_array('amount'))}\")\n",
    "print('---------------------------------------------')\n",
    "out = modd(batch.get_array(\"amount\"))\n",
    "for idx,(key, val) in enumerate(out.items()):\n",
    "    print(f\"Embeddings for {key} is:\\n{[round(num, 3) for num in val.tolist()[0]]}\")\n",
    "    if idx == 5:\n",
    "        break"
   ]
  },
  {
   "cell_type": "markdown",
   "metadata": {},
   "source": [
    "# Batch Embeddings"
   ]
  },
  {
   "cell_type": "code",
   "execution_count": 5,
   "metadata": {},
   "outputs": [
    {
     "name": "stdout",
     "output_type": "stream",
     "text": [
      "Shape of converted input: torch.Size([5, 920, 8])\n"
     ]
    }
   ],
   "source": [
    "inp_emb = InputPhase(args, encoder)\n",
    "out = inp_emb(batch)\n",
    "print(f\"Shape of converted input: {out.shape}\")"
   ]
  }
 ],
 "metadata": {
  "kernelspec": {
   "display_name": "Python 3 (ipykernel)",
   "language": "python",
   "name": "python3"
  },
  "language_info": {
   "codemirror_mode": {
    "name": "ipython",
    "version": 3
   },
   "file_extension": ".py",
   "mimetype": "text/x-python",
   "name": "python",
   "nbconvert_exporter": "python",
   "pygments_lexer": "ipython3",
   "version": "3.11.8"
  }
 },
 "nbformat": 4,
 "nbformat_minor": 4
}
