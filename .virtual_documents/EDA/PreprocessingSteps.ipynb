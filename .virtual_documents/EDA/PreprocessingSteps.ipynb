


import sys
import polars as pl
import numpy as np
import pandas as pd
import seaborn as sns
import matplotlib.pyplot as plt
import matplotlib.ticker as ticker

sns.set_style("white")
sns.set_palette("colorblind") 
sns.set_context("talk")

from helpers import *





base_file_location = 'D:/BrainStation/Project/Credit Risk Model/'

# Getting column defintions
col_defs = {row['Variable']: row['Description'] for row in pl.read_csv(base_file_location + "feature_definitions.csv").to_dicts()}

# Merging information
final_df = pl.concat([change_column_type(pl.read_csv(base_file_location + "csv_files/train/train_static_0_0.csv")), 
                      change_column_type(pl.read_csv(base_file_location + "csv_files/train/train_static_0_1.csv"))], how="vertical_relaxed").join(change_column_type(pl.read_csv(base_file_location + "csv_files/train/train_static_cb_0.csv")), on="case_id", how="left")
print(f"------> Size of dataset without targets {final_df.shape} <------") 

# extract descriptive information for each column
descriptive_col = {col : col_defs[col] for col in final_df.columns[1:]}

final_df = final_df.join(change_column_type(pl.read_csv(base_file_location + "csv_files/train/train_base.csv")), on="case_id", how="inner")
print(f"------> Size of dataset with targets {final_df.shape} <------") 

# adding target columns to descriptive_col
descriptive_col['date_decision']= "This refers to the date when a decision was made regarding the approval of the loan."
descriptive_col['MONTH']= "Month the decision was made"
descriptive_col['WEEK_NUM']= "This is the week number used for aggregation. In the test sample, WEEK_NUM continues sequentially from the last training value of WEEK_NUM"
descriptive_col['target']= " This is the target value, determined after a certain period based on whether or not the client defaulted on the specific credit case (loan)"









# Find the minimum date from all possible dates


final_df = final_df.with_columns(final_df['date_decision'].cast(pl.Date))
final_df.head(10)


print(final_df['responsedate_4917613D'][0])


# get all date columns
date_columns = [col for col in final_df.columns if col.endswith('D') or col =='date_decision']
print(f"Number of columns relating to date {len(date_columns)}")

min_date = []
for col in date_columns:
    min_date.append(final_df[col].filter(final_df[col].is_not_null()).min())

print(min_date)    
# overall_min_date = None
# for col in date_columns:
#     min_date = final_df.select(pl.col(col).min().exclude_nulls())


final_df['debtoverdue_47A']















